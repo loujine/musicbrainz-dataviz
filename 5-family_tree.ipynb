{
 "cells": [
  {
   "cell_type": "markdown",
   "metadata": {},
   "source": [
    "# Visualizing a piano teaching \"family tree\""
   ]
  },
  {
   "cell_type": "markdown",
   "metadata": {},
   "source": [
    "I would like in this notebook to create the data structure necessary for a \"teaching family tree\", i.e. a graph of relations \"X taught Y\"."
   ]
  },
  {
   "cell_type": "markdown",
   "metadata": {},
   "source": [
    "As usual, my boilerplate code:"
   ]
  },
  {
   "cell_type": "code",
   "execution_count": 1,
   "metadata": {
    "collapsed": true
   },
   "outputs": [],
   "source": [
    "%matplotlib inline\n",
    "import pandas\n",
    "import sqlalchemy\n",
    "# define DB\n",
    "PGHOST = \"192.168.11.2\"\n",
    "PGDATABASE = \"musicbrainz_db\"\n",
    "PGUSER = \"musicbrainz\"\n",
    "PGPASSWORD = \"musicbrainz\"\n",
    "\n",
    "engine = sqlalchemy.create_engine(\n",
    "   'postgresql+psycopg2://{PGUSER}:{PGPASSWORD}@{PGHOST}/{PGDATABASE}'.format(**locals()),\n",
    "    isolation_level='READ UNCOMMITTED')\n",
    "\n",
    "# helper function\n",
    "def sql(query, **kwargs):\n",
    "    return pandas.read_sql(query, engine, params=globals(), **kwargs)"
   ]
  },
  {
   "cell_type": "markdown",
   "metadata": {},
   "source": [
    "Let's start simply by finding [Heinrich Neuhaus](https://en.wikipedia.org/wiki/Heinrich_Neuhaus)'s teachers and students"
   ]
  },
  {
   "cell_type": "code",
   "execution_count": 2,
   "metadata": {
    "collapsed": true
   },
   "outputs": [],
   "source": [
    "artist_name = 'Heinrich Neuhaus'"
   ]
  },
  {
   "cell_type": "code",
   "execution_count": 3,
   "metadata": {
    "collapsed": false
   },
   "outputs": [
    {
     "data": {
      "text/html": [
       "<div>\n",
       "<table border=\"1\" class=\"dataframe\">\n",
       "  <thead>\n",
       "    <tr style=\"text-align: right;\">\n",
       "      <th></th>\n",
       "      <th>id</th>\n",
       "      <th>mbid</th>\n",
       "      <th>name</th>\n",
       "      <th>name</th>\n",
       "      <th>start</th>\n",
       "      <th>end</th>\n",
       "    </tr>\n",
       "  </thead>\n",
       "  <tbody>\n",
       "    <tr>\n",
       "      <th>0</th>\n",
       "      <td>605778</td>\n",
       "      <td>2b075237-6e90-4e78-a4f8-a66170c682fe</td>\n",
       "      <td>Генрих Густавович Нейгауз</td>\n",
       "      <td>Heinrich Neuhaus</td>\n",
       "      <td>1888-04-12</td>\n",
       "      <td>1964-10-10</td>\n",
       "    </tr>\n",
       "  </tbody>\n",
       "</table>\n",
       "</div>"
      ],
      "text/plain": [
       "       id                                  mbid                       name  \\\n",
       "0  605778  2b075237-6e90-4e78-a4f8-a66170c682fe  Генрих Густавович Нейгауз   \n",
       "\n",
       "               name       start         end  \n",
       "0  Heinrich Neuhaus  1888-04-12  1964-10-10  "
      ]
     },
     "execution_count": 3,
     "metadata": {},
     "output_type": "execute_result"
    }
   ],
   "source": [
    "artist = sql(\"\"\"\n",
    "SELECT a.id,\n",
    "       a.gid AS mbid,\n",
    "       a.name,\n",
    "       aa.name,\n",
    "       to_date(to_char(a.begin_date_year, '9999') || \n",
    "               to_char(a.begin_date_month, '99') || \n",
    "               to_char(a.begin_date_day, '99'), 'YYYY MM DD') AS start,\n",
    "       to_date(to_char(a.end_date_year, '9999') || \n",
    "               to_char(a.end_date_month, '99') || \n",
    "               to_char(a.end_date_day, '99'), 'YYYY MM DD') AS end\n",
    "  FROM artist       AS a\n",
    "  JOIN artist_alias AS aa ON aa.artist=a.id\n",
    " WHERE aa.name = %(artist_name)s;\n",
    "\"\"\")\n",
    "artist_id = artist['id'][0]\n",
    "artist_mbid = artist['mbid'][0]\n",
    "artist"
   ]
  },
  {
   "cell_type": "markdown",
   "metadata": {},
   "source": [
    "We'll keep the MBID for later"
   ]
  },
  {
   "cell_type": "markdown",
   "metadata": {},
   "source": [
    "Let's explore MusicBrainz relations to find the proper \"X taught Y\":"
   ]
  },
  {
   "cell_type": "code",
   "execution_count": 4,
   "metadata": {
    "collapsed": false
   },
   "outputs": [
    {
     "data": {
      "text/html": [
       "<div>\n",
       "<table border=\"1\" class=\"dataframe\">\n",
       "  <thead>\n",
       "    <tr style=\"text-align: right;\">\n",
       "      <th></th>\n",
       "      <th>id</th>\n",
       "      <th>name</th>\n",
       "      <th>description</th>\n",
       "    </tr>\n",
       "  </thead>\n",
       "  <tbody>\n",
       "    <tr>\n",
       "      <th>0</th>\n",
       "      <td>847</td>\n",
       "      <td>teacher</td>\n",
       "      <td>This relationship indicates that a person was ...</td>\n",
       "    </tr>\n",
       "    <tr>\n",
       "      <th>1</th>\n",
       "      <td>893</td>\n",
       "      <td>teacher</td>\n",
       "      <td>This relationship indicates that a person was ...</td>\n",
       "    </tr>\n",
       "  </tbody>\n",
       "</table>\n",
       "</div>"
      ],
      "text/plain": [
       "    id     name                                        description\n",
       "0  847  teacher  This relationship indicates that a person was ...\n",
       "1  893  teacher  This relationship indicates that a person was ..."
      ]
     },
     "execution_count": 4,
     "metadata": {},
     "output_type": "execute_result"
    }
   ],
   "source": [
    "relation = sql(\"\"\"\n",
    "SELECT id, name, description\n",
    "  FROM link_type\n",
    " WHERE description ILIKE '%%teach%%';\n",
    "\"\"\")\n",
    "relation_id = relation['id'][0]\n",
    "relation"
   ]
  },
  {
   "cell_type": "markdown",
   "metadata": {},
   "source": [
    "So the one we need is relation id=847 (the other one is for events)"
   ]
  },
  {
   "cell_type": "markdown",
   "metadata": {},
   "source": [
    "Let's now find the direct students:"
   ]
  },
  {
   "cell_type": "code",
   "execution_count": 5,
   "metadata": {
    "collapsed": false
   },
   "outputs": [
    {
     "data": {
      "text/html": [
       "<div>\n",
       "<table border=\"1\" class=\"dataframe\">\n",
       "  <thead>\n",
       "    <tr style=\"text-align: right;\">\n",
       "      <th></th>\n",
       "      <th>name</th>\n",
       "      <th>sort_name</th>\n",
       "      <th>mbid</th>\n",
       "    </tr>\n",
       "  </thead>\n",
       "  <tbody>\n",
       "    <tr>\n",
       "      <th>0</th>\n",
       "      <td>Святослав Теофилович Рихтер</td>\n",
       "      <td>Richter, Sviatoslav Teofilovich</td>\n",
       "      <td>2014bfbb-c65d-45dc-9973-35bead3833fa</td>\n",
       "    </tr>\n",
       "    <tr>\n",
       "      <th>1</th>\n",
       "      <td>Эмиль Григорьевич Гилельс</td>\n",
       "      <td>Gilels, Emil Grigoryevich</td>\n",
       "      <td>88b4ad33-63ba-4923-947e-26a720631156</td>\n",
       "    </tr>\n",
       "    <tr>\n",
       "      <th>2</th>\n",
       "      <td>Radu Lupu</td>\n",
       "      <td>Lupu, Radu</td>\n",
       "      <td>bec02ec4-34be-43db-9be1-006606174fd2</td>\n",
       "    </tr>\n",
       "    <tr>\n",
       "      <th>3</th>\n",
       "      <td>Алексей Любимов</td>\n",
       "      <td>Lubimov, Alexei</td>\n",
       "      <td>385cb39b-f06c-4635-84fd-ecc8fff56c97</td>\n",
       "    </tr>\n",
       "    <tr>\n",
       "      <th>4</th>\n",
       "      <td>Анатолий Иванович Ведерников</td>\n",
       "      <td>Vedernikov, Anatoly Ivanovich</td>\n",
       "      <td>fcfc3731-3b67-4b1d-8096-6a1537b61daf</td>\n",
       "    </tr>\n",
       "    <tr>\n",
       "      <th>5</th>\n",
       "      <td>Valentina Kameníková</td>\n",
       "      <td>Kameníková, Valentina</td>\n",
       "      <td>ab095a51-18c1-43ab-ba96-2b1c8cdb7019</td>\n",
       "    </tr>\n",
       "    <tr>\n",
       "      <th>6</th>\n",
       "      <td>Ryszard Bakst</td>\n",
       "      <td>Bakst, Ryszard</td>\n",
       "      <td>d1cea2e7-0ef6-4434-8890-61f22f85827c</td>\n",
       "    </tr>\n",
       "    <tr>\n",
       "      <th>7</th>\n",
       "      <td>Heljo Sepp</td>\n",
       "      <td>Sepp, Heljo</td>\n",
       "      <td>a460e14c-a004-4ead-be61-8d3956c3de17</td>\n",
       "    </tr>\n",
       "    <tr>\n",
       "      <th>8</th>\n",
       "      <td>Yuliy Meitus</td>\n",
       "      <td>Meitus, Yuliy</td>\n",
       "      <td>ff5ce524-7794-4e84-ad42-a586c29c4f90</td>\n",
       "    </tr>\n",
       "  </tbody>\n",
       "</table>\n",
       "</div>"
      ],
      "text/plain": [
       "                           name                        sort_name  \\\n",
       "0   Святослав Теофилович Рихтер  Richter, Sviatoslav Teofilovich   \n",
       "1     Эмиль Григорьевич Гилельс        Gilels, Emil Grigoryevich   \n",
       "2                     Radu Lupu                       Lupu, Radu   \n",
       "3               Алексей Любимов                  Lubimov, Alexei   \n",
       "4  Анатолий Иванович Ведерников    Vedernikov, Anatoly Ivanovich   \n",
       "5          Valentina Kameníková            Kameníková, Valentina   \n",
       "6                 Ryszard Bakst                   Bakst, Ryszard   \n",
       "7                    Heljo Sepp                      Sepp, Heljo   \n",
       "8                  Yuliy Meitus                    Meitus, Yuliy   \n",
       "\n",
       "                                   mbid  \n",
       "0  2014bfbb-c65d-45dc-9973-35bead3833fa  \n",
       "1  88b4ad33-63ba-4923-947e-26a720631156  \n",
       "2  bec02ec4-34be-43db-9be1-006606174fd2  \n",
       "3  385cb39b-f06c-4635-84fd-ecc8fff56c97  \n",
       "4  fcfc3731-3b67-4b1d-8096-6a1537b61daf  \n",
       "5  ab095a51-18c1-43ab-ba96-2b1c8cdb7019  \n",
       "6  d1cea2e7-0ef6-4434-8890-61f22f85827c  \n",
       "7  a460e14c-a004-4ead-be61-8d3956c3de17  \n",
       "8  ff5ce524-7794-4e84-ad42-a586c29c4f90  "
      ]
     },
     "execution_count": 5,
     "metadata": {},
     "output_type": "execute_result"
    }
   ],
   "source": [
    "df_students = sql(\"\"\"\n",
    "SELECT student.name,\n",
    "       student.sort_name,\n",
    "       student.gid AS mbid\n",
    "  FROM artist          AS student\n",
    "  JOIN l_artist_artist AS laa     ON laa.entity1 = student.id\n",
    "  JOIN artist          AS teacher ON laa.entity0 = teacher.id\n",
    " WHERE teacher.gid = %(artist_mbid)s;\n",
    "\"\"\")\n",
    "df_students"
   ]
  },
  {
   "cell_type": "markdown",
   "metadata": {},
   "source": [
    "So we have a few of them in MusicBrainz."
   ]
  },
  {
   "cell_type": "markdown",
   "metadata": {},
   "source": [
    "And teachers:"
   ]
  },
  {
   "cell_type": "code",
   "execution_count": 6,
   "metadata": {
    "collapsed": false
   },
   "outputs": [
    {
     "data": {
      "text/html": [
       "<div>\n",
       "<table border=\"1\" class=\"dataframe\">\n",
       "  <thead>\n",
       "    <tr style=\"text-align: right;\">\n",
       "      <th></th>\n",
       "      <th>name</th>\n",
       "      <th>sort_name</th>\n",
       "      <th>mbid</th>\n",
       "    </tr>\n",
       "  </thead>\n",
       "  <tbody>\n",
       "    <tr>\n",
       "      <th>0</th>\n",
       "      <td>Leopold Godowsky</td>\n",
       "      <td>Godowsky, Leopold</td>\n",
       "      <td>f5b8d14c-3adb-4cd3-aa97-140a557c7302</td>\n",
       "    </tr>\n",
       "    <tr>\n",
       "      <th>1</th>\n",
       "      <td>Karl Heinrich Barth</td>\n",
       "      <td>Barth, Karl Heinrich</td>\n",
       "      <td>695de63f-d20a-4e8f-bba9-2ae645f109a9</td>\n",
       "    </tr>\n",
       "  </tbody>\n",
       "</table>\n",
       "</div>"
      ],
      "text/plain": [
       "                  name             sort_name  \\\n",
       "0     Leopold Godowsky     Godowsky, Leopold   \n",
       "1  Karl Heinrich Barth  Barth, Karl Heinrich   \n",
       "\n",
       "                                   mbid  \n",
       "0  f5b8d14c-3adb-4cd3-aa97-140a557c7302  \n",
       "1  695de63f-d20a-4e8f-bba9-2ae645f109a9  "
      ]
     },
     "execution_count": 6,
     "metadata": {},
     "output_type": "execute_result"
    }
   ],
   "source": [
    "df_teachers = sql(\"\"\"\n",
    "SELECT teacher.name,\n",
    "       teacher.sort_name,\n",
    "       teacher.gid AS mbid\n",
    "FROM artist AS student\n",
    "JOIN l_artist_artist AS laa ON laa.entity1 = student.id\n",
    "JOIN artist AS teacher ON laa.entity0 = teacher.id\n",
    "WHERE student.gid = %(artist_mbid)s;\n",
    "\"\"\")\n",
    "df_teachers"
   ]
  },
  {
   "cell_type": "markdown",
   "metadata": {},
   "source": [
    "Now I want to use the [visjs](http://visjs.org) library to display a graph. My graph requires two javascript arrays:\n",
    "\n",
    "* 'nodes', to store the node labels and identifiers (I chose to use MBIDs)\n",
    "* 'edges', to store the links between two MBIDs corresponding to one 'X taught Y' relation"
   ]
  },
  {
   "cell_type": "code",
   "execution_count": 8,
   "metadata": {
    "collapsed": false
   },
   "outputs": [
    {
     "name": "stdout",
     "output_type": "stream",
     "text": [
      "[{'id': '2b075237-6e90-4e78-a4f8-a66170c682fe', 'label': 'Heinrich Neuhaus'},\n",
      " {'id': '2014bfbb-c65d-45dc-9973-35bead3833fa',\n",
      "  'label': 'Richter, Sviatoslav Teofilovich'},\n",
      " {'id': '88b4ad33-63ba-4923-947e-26a720631156',\n",
      "  'label': 'Gilels, Emil Grigoryevich'},\n",
      " {'id': 'bec02ec4-34be-43db-9be1-006606174fd2', 'label': 'Lupu, Radu'},\n",
      " {'id': '385cb39b-f06c-4635-84fd-ecc8fff56c97', 'label': 'Lubimov, Alexei'},\n",
      " {'id': 'fcfc3731-3b67-4b1d-8096-6a1537b61daf',\n",
      "  'label': 'Vedernikov, Anatoly Ivanovich'},\n",
      " {'id': 'ab095a51-18c1-43ab-ba96-2b1c8cdb7019',\n",
      "  'label': 'Kameníková, Valentina'},\n",
      " {'id': 'd1cea2e7-0ef6-4434-8890-61f22f85827c', 'label': 'Bakst, Ryszard'},\n",
      " {'id': 'a460e14c-a004-4ead-be61-8d3956c3de17', 'label': 'Sepp, Heljo'},\n",
      " {'id': 'ff5ce524-7794-4e84-ad42-a586c29c4f90', 'label': 'Meitus, Yuliy'},\n",
      " {'id': 'f5b8d14c-3adb-4cd3-aa97-140a557c7302', 'label': 'Godowsky, Leopold'},\n",
      " {'id': '695de63f-d20a-4e8f-bba9-2ae645f109a9',\n",
      "  'label': 'Barth, Karl Heinrich'}]\n",
      "[{'from': '2b075237-6e90-4e78-a4f8-a66170c682fe',\n",
      "  'to': '2014bfbb-c65d-45dc-9973-35bead3833fa'},\n",
      " {'from': '2b075237-6e90-4e78-a4f8-a66170c682fe',\n",
      "  'to': '88b4ad33-63ba-4923-947e-26a720631156'},\n",
      " {'from': '2b075237-6e90-4e78-a4f8-a66170c682fe',\n",
      "  'to': 'bec02ec4-34be-43db-9be1-006606174fd2'},\n",
      " {'from': '2b075237-6e90-4e78-a4f8-a66170c682fe',\n",
      "  'to': '385cb39b-f06c-4635-84fd-ecc8fff56c97'},\n",
      " {'from': '2b075237-6e90-4e78-a4f8-a66170c682fe',\n",
      "  'to': 'fcfc3731-3b67-4b1d-8096-6a1537b61daf'},\n",
      " {'from': '2b075237-6e90-4e78-a4f8-a66170c682fe',\n",
      "  'to': 'ab095a51-18c1-43ab-ba96-2b1c8cdb7019'},\n",
      " {'from': '2b075237-6e90-4e78-a4f8-a66170c682fe',\n",
      "  'to': 'd1cea2e7-0ef6-4434-8890-61f22f85827c'},\n",
      " {'from': '2b075237-6e90-4e78-a4f8-a66170c682fe',\n",
      "  'to': 'a460e14c-a004-4ead-be61-8d3956c3de17'},\n",
      " {'from': '2b075237-6e90-4e78-a4f8-a66170c682fe',\n",
      "  'to': 'ff5ce524-7794-4e84-ad42-a586c29c4f90'},\n",
      " {'from': 'f5b8d14c-3adb-4cd3-aa97-140a557c7302',\n",
      "  'to': '2b075237-6e90-4e78-a4f8-a66170c682fe'},\n",
      " {'from': '695de63f-d20a-4e8f-bba9-2ae645f109a9',\n",
      "  'to': '2b075237-6e90-4e78-a4f8-a66170c682fe'}]\n"
     ]
    }
   ],
   "source": [
    "from pprint import pprint\n",
    "nodes = []\n",
    "nodes.append({'id': str(artist_mbid), 'label' : artist_name})\n",
    "nodes.extend([{'id': str(student.mbid), 'label' : student.sort_name} \n",
    "              for student in df_students.itertuples()])\n",
    "nodes.extend([{'id': str(teacher.mbid), 'label' : teacher.sort_name} \n",
    "              for teacher in df_teachers.itertuples()])\n",
    "pprint(nodes)\n",
    "\n",
    "edges = []\n",
    "edges.extend([{'from': str(artist_mbid), 'to' : str(student.mbid)} \n",
    "              for student in df_students.itertuples()])\n",
    "edges.extend([{'from': str(teacher.mbid), 'to' : str(artist_mbid) }\n",
    "               for teacher in df_teachers.itertuples()])\n",
    "pprint(edges)"
   ]
  },
  {
   "cell_type": "markdown",
   "metadata": {},
   "source": [
    "The output graph is shown on [github.io](https://loujine.github.io/musicbrainz-dataviz/)"
   ]
  }
 ],
 "metadata": {
  "kernelspec": {
   "display_name": "Python 3",
   "language": "python",
   "name": "python3"
  },
  "language_info": {
   "codemirror_mode": {
    "name": "ipython",
    "version": 3
   },
   "file_extension": ".py",
   "mimetype": "text/x-python",
   "name": "python",
   "nbconvert_exporter": "python",
   "pygments_lexer": "ipython3",
   "version": "3.5.3"
  }
 },
 "nbformat": 4,
 "nbformat_minor": 2
}
