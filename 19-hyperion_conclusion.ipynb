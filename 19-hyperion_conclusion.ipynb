{
 "cells": [
  {
   "cell_type": "markdown",
   "metadata": {},
   "source": [
    "# Post-Classical Clean Up 4: Hyperion"
   ]
  },
  {
   "cell_type": "code",
   "execution_count": null,
   "metadata": {},
   "outputs": [],
   "source": [
    "label = 'hyperion'"
   ]
  },
  {
   "cell_type": "code",
   "execution_count": 1,
   "metadata": {},
   "outputs": [],
   "source": [
    "from datetime import datetime\n",
    "\n",
    "import pandas\n",
    "import sqlalchemy\n",
    "\n",
    "SITE_URL = 'https://musicbrainz.org'\n",
    "\n",
    "# import postgresql environ variables\n",
    "# defined in postgres-dockerfile/postgres.env\n",
    "PGHOST = '127.0.0.1'\n",
    "PGDATABASE = 'musicbrainz'\n",
    "PGUSER = 'musicbrainz'\n",
    "PGPASSWORD = 'musicbrainz'\n",
    "PGPORT = 5432\n",
    "\n",
    "def sql(query, **kwargs):\n",
    "    \"\"\"helper function for SQL queries using the %(...) syntax\n",
    "    Parameters for the query must be passed as keyword arguments\n",
    "    e.g. sql('SELECT * FROM artist WHERE name=%(singer)s', singer='Bob Dylan')\n",
    "    \"\"\"\n",
    "    engine = sqlalchemy.create_engine(\n",
    "        'postgresql+psycopg2://'\n",
    "        '{PGUSER}:{PGPASSWORD}@{PGHOST}:{PGPORT}/{PGDATABASE}'.format(**globals()),\n",
    "        isolation_level='READ UNCOMMITTED')\n",
    "    return pandas.read_sql(query, engine, params=kwargs)\n",
    "\n",
    "# helper function to build canonical URLs\n",
    "def _mb_link(entity_type, mbid):\n",
    "    return '<a href=\"{url}/{entity_type}/{mbid}\">{mbid}</a>'.format(\n",
    "        url=SITE_URL, **locals())\n",
    "\n",
    "mb_release_link = lambda mbid: _mb_link('release', mbid) # noqa"
   ]
  },
  {
   "cell_type": "code",
   "execution_count": 2,
   "metadata": {},
   "outputs": [],
   "source": [
    "import pandas as pd\n",
    "pd.set_option('display.max_colwidth', -1)"
   ]
  },
  {
   "cell_type": "code",
   "execution_count": 19,
   "metadata": {},
   "outputs": [
    {
     "data": {
      "text/html": [
       "<div>\n",
       "<style scoped>\n",
       "    .dataframe tbody tr th:only-of-type {\n",
       "        vertical-align: middle;\n",
       "    }\n",
       "\n",
       "    .dataframe tbody tr th {\n",
       "        vertical-align: top;\n",
       "    }\n",
       "\n",
       "    .dataframe thead th {\n",
       "        text-align: right;\n",
       "    }\n",
       "</style>\n",
       "<table border=\"1\" class=\"dataframe\">\n",
       "  <thead>\n",
       "    <tr style=\"text-align: right;\">\n",
       "      <th></th>\n",
       "      <th>id</th>\n",
       "      <th>gid</th>\n",
       "      <th>name</th>\n",
       "      <th>comment</th>\n",
       "    </tr>\n",
       "  </thead>\n",
       "  <tbody>\n",
       "    <tr>\n",
       "      <th>0</th>\n",
       "      <td>388</td>\n",
       "      <td>08e6c3c8-81ab-405f-9cff-10f6b8db064c</td>\n",
       "      <td>hyperion</td>\n",
       "      <td>UK classical</td>\n",
       "    </tr>\n",
       "    <tr>\n",
       "      <th>1</th>\n",
       "      <td>22708</td>\n",
       "      <td>0a94e96a-9219-4dd7-a529-18d34e77f50f</td>\n",
       "      <td>helios</td>\n",
       "      <td>UK classical</td>\n",
       "    </tr>\n",
       "  </tbody>\n",
       "</table>\n",
       "</div>"
      ],
      "text/plain": [
       "      id                                   gid      name       comment\n",
       "0  388    08e6c3c8-81ab-405f-9cff-10f6b8db064c  hyperion  UK classical\n",
       "1  22708  0a94e96a-9219-4dd7-a529-18d34e77f50f  helios    UK classical"
      ]
     },
     "execution_count": 19,
     "metadata": {},
     "output_type": "execute_result"
    }
   ],
   "source": [
    "df = sql(\"\"\"SELECT id, gid, name, comment FROM label WHERE name IN ('hyperion', 'helios');\"\"\")\n",
    "label_mbid = df.gid.tolist()\n",
    "df.head()"
   ]
  },
  {
   "cell_type": "code",
   "execution_count": 42,
   "metadata": {},
   "outputs": [
    {
     "data": {
      "text/plain": [
       "[UUID('08e6c3c8-81ab-405f-9cff-10f6b8db064c'),\n",
       " UUID('0a94e96a-9219-4dd7-a529-18d34e77f50f')]"
      ]
     },
     "execution_count": 42,
     "metadata": {},
     "output_type": "execute_result"
    }
   ],
   "source": [
    "label_mbid"
   ]
  },
  {
   "cell_type": "markdown",
   "metadata": {},
   "source": [
    "## New releases added after Feb. 1st"
   ]
  },
  {
   "cell_type": "markdown",
   "metadata": {},
   "source": [
    "Actually I'm checking when \"release label\" links were added to release, which is most of the time done together."
   ]
  },
  {
   "cell_type": "code",
   "execution_count": 43,
   "metadata": {},
   "outputs": [
    {
     "data": {
      "text/html": [
       "<div>\n",
       "<style scoped>\n",
       "    .dataframe tbody tr th:only-of-type {\n",
       "        vertical-align: middle;\n",
       "    }\n",
       "\n",
       "    .dataframe tbody tr th {\n",
       "        vertical-align: top;\n",
       "    }\n",
       "\n",
       "    .dataframe thead th {\n",
       "        text-align: right;\n",
       "    }\n",
       "</style>\n",
       "<table border=\"1\" class=\"dataframe\">\n",
       "  <thead>\n",
       "    <tr style=\"text-align: right;\">\n",
       "      <th></th>\n",
       "      <th>editor</th>\n",
       "      <th>edit_count</th>\n",
       "    </tr>\n",
       "  </thead>\n",
       "  <tbody>\n",
       "    <tr>\n",
       "      <th>0</th>\n",
       "      <td>loujin</td>\n",
       "      <td>74</td>\n",
       "    </tr>\n",
       "    <tr>\n",
       "      <th>1</th>\n",
       "      <td>ListMyCDs.com</td>\n",
       "      <td>38</td>\n",
       "    </tr>\n",
       "    <tr>\n",
       "      <th>2</th>\n",
       "      <td>reosarevok</td>\n",
       "      <td>35</td>\n",
       "    </tr>\n",
       "    <tr>\n",
       "      <th>3</th>\n",
       "      <td>mmirG</td>\n",
       "      <td>19</td>\n",
       "    </tr>\n",
       "    <tr>\n",
       "      <th>4</th>\n",
       "      <td>MetaTunes</td>\n",
       "      <td>14</td>\n",
       "    </tr>\n",
       "    <tr>\n",
       "      <th>5</th>\n",
       "      <td>steinbdj</td>\n",
       "      <td>9</td>\n",
       "    </tr>\n",
       "    <tr>\n",
       "      <th>6</th>\n",
       "      <td>CatCat</td>\n",
       "      <td>6</td>\n",
       "    </tr>\n",
       "    <tr>\n",
       "      <th>7</th>\n",
       "      <td>Griomo</td>\n",
       "      <td>5</td>\n",
       "    </tr>\n",
       "    <tr>\n",
       "      <th>8</th>\n",
       "      <td>stupidname</td>\n",
       "      <td>3</td>\n",
       "    </tr>\n",
       "    <tr>\n",
       "      <th>9</th>\n",
       "      <td>mhendu</td>\n",
       "      <td>3</td>\n",
       "    </tr>\n",
       "    <tr>\n",
       "      <th>10</th>\n",
       "      <td>Ataki</td>\n",
       "      <td>1</td>\n",
       "    </tr>\n",
       "    <tr>\n",
       "      <th>11</th>\n",
       "      <td>AllanBjorklund</td>\n",
       "      <td>1</td>\n",
       "    </tr>\n",
       "    <tr>\n",
       "      <th>12</th>\n",
       "      <td>Magic_</td>\n",
       "      <td>1</td>\n",
       "    </tr>\n",
       "    <tr>\n",
       "      <th>13</th>\n",
       "      <td>obtext</td>\n",
       "      <td>1</td>\n",
       "    </tr>\n",
       "    <tr>\n",
       "      <th>14</th>\n",
       "      <td>Hape40</td>\n",
       "      <td>1</td>\n",
       "    </tr>\n",
       "    <tr>\n",
       "      <th>15</th>\n",
       "      <td>wcw1966</td>\n",
       "      <td>1</td>\n",
       "    </tr>\n",
       "    <tr>\n",
       "      <th>16</th>\n",
       "      <td>djphrydy</td>\n",
       "      <td>1</td>\n",
       "    </tr>\n",
       "  </tbody>\n",
       "</table>\n",
       "</div>"
      ],
      "text/plain": [
       "            editor  edit_count\n",
       "0   loujin          74        \n",
       "1   ListMyCDs.com   38        \n",
       "2   reosarevok      35        \n",
       "3   mmirG           19        \n",
       "4   MetaTunes       14        \n",
       "5   steinbdj        9         \n",
       "6   CatCat          6         \n",
       "7   Griomo          5         \n",
       "8   stupidname      3         \n",
       "9   mhendu          3         \n",
       "10  Ataki           1         \n",
       "11  AllanBjorklund  1         \n",
       "12  Magic_          1         \n",
       "13  obtext          1         \n",
       "14  Hape40          1         \n",
       "15  wcw1966         1         \n",
       "16  djphrydy        1         "
      ]
     },
     "execution_count": 43,
     "metadata": {},
     "output_type": "execute_result"
    }
   ],
   "source": [
    "df = sql(\"\"\"\n",
    "SELECT editor.name AS editor,\n",
    "       COUNT(*) AS edit_count\n",
    "  FROM label\n",
    "  JOIN edit_label  ON label.id = edit_label.label\n",
    "  JOIN edit        ON edit.id = edit_label.edit\n",
    "  JOIN editor      ON editor.id = edit.editor\n",
    " WHERE label.gid IN ('08e6c3c8-81ab-405f-9cff-10f6b8db064c', '0a94e96a-9219-4dd7-a529-18d34e77f50f')\n",
    "   AND edit.open_time >= '2018-02-01'\n",
    "GROUP BY editor.name\n",
    "ORDER BY edit_count DESC\n",
    "   ;\"\"\")\n",
    "df"
   ]
  },
  {
   "cell_type": "code",
   "execution_count": 44,
   "metadata": {},
   "outputs": [
    {
     "data": {
      "text/plain": [
       "213"
      ]
     },
     "execution_count": 44,
     "metadata": {},
     "output_type": "execute_result"
    }
   ],
   "source": [
    "df.edit_count.sum()"
   ]
  },
  {
   "cell_type": "markdown",
   "metadata": {},
   "source": [
    "## Recording edits"
   ]
  },
  {
   "cell_type": "markdown",
   "metadata": {},
   "source": [
    "Find all edits between Feb. 1st and March 14th regarding recordings present on Hyperion/Helios releases"
   ]
  },
  {
   "cell_type": "code",
   "execution_count": 45,
   "metadata": {},
   "outputs": [
    {
     "data": {
      "text/html": [
       "<div>\n",
       "<style scoped>\n",
       "    .dataframe tbody tr th:only-of-type {\n",
       "        vertical-align: middle;\n",
       "    }\n",
       "\n",
       "    .dataframe tbody tr th {\n",
       "        vertical-align: top;\n",
       "    }\n",
       "\n",
       "    .dataframe thead th {\n",
       "        text-align: right;\n",
       "    }\n",
       "</style>\n",
       "<table border=\"1\" class=\"dataframe\">\n",
       "  <thead>\n",
       "    <tr style=\"text-align: right;\">\n",
       "      <th></th>\n",
       "      <th>editor</th>\n",
       "      <th>edit_count</th>\n",
       "    </tr>\n",
       "  </thead>\n",
       "  <tbody>\n",
       "    <tr>\n",
       "      <th>0</th>\n",
       "      <td>loujin</td>\n",
       "      <td>20189</td>\n",
       "    </tr>\n",
       "    <tr>\n",
       "      <th>1</th>\n",
       "      <td>ListMyCDs.com</td>\n",
       "      <td>11245</td>\n",
       "    </tr>\n",
       "    <tr>\n",
       "      <th>2</th>\n",
       "      <td>reosarevok</td>\n",
       "      <td>10609</td>\n",
       "    </tr>\n",
       "    <tr>\n",
       "      <th>3</th>\n",
       "      <td>stupidname</td>\n",
       "      <td>6652</td>\n",
       "    </tr>\n",
       "    <tr>\n",
       "      <th>4</th>\n",
       "      <td>CatCat</td>\n",
       "      <td>4097</td>\n",
       "    </tr>\n",
       "    <tr>\n",
       "      <th>5</th>\n",
       "      <td>dosoe</td>\n",
       "      <td>3513</td>\n",
       "    </tr>\n",
       "    <tr>\n",
       "      <th>6</th>\n",
       "      <td>obtext</td>\n",
       "      <td>2943</td>\n",
       "    </tr>\n",
       "    <tr>\n",
       "      <th>7</th>\n",
       "      <td>steinbdj</td>\n",
       "      <td>1330</td>\n",
       "    </tr>\n",
       "    <tr>\n",
       "      <th>8</th>\n",
       "      <td>MetaTunes</td>\n",
       "      <td>1024</td>\n",
       "    </tr>\n",
       "    <tr>\n",
       "      <th>9</th>\n",
       "      <td>Griomo</td>\n",
       "      <td>807</td>\n",
       "    </tr>\n",
       "    <tr>\n",
       "      <th>10</th>\n",
       "      <td>Magic_</td>\n",
       "      <td>780</td>\n",
       "    </tr>\n",
       "    <tr>\n",
       "      <th>11</th>\n",
       "      <td>mmirG</td>\n",
       "      <td>628</td>\n",
       "    </tr>\n",
       "    <tr>\n",
       "      <th>12</th>\n",
       "      <td>monxton</td>\n",
       "      <td>567</td>\n",
       "    </tr>\n",
       "    <tr>\n",
       "      <th>13</th>\n",
       "      <td>BitPerfectRichard</td>\n",
       "      <td>546</td>\n",
       "    </tr>\n",
       "    <tr>\n",
       "      <th>14</th>\n",
       "      <td>ProfChris</td>\n",
       "      <td>269</td>\n",
       "    </tr>\n",
       "    <tr>\n",
       "      <th>15</th>\n",
       "      <td>MajorLurker</td>\n",
       "      <td>121</td>\n",
       "    </tr>\n",
       "    <tr>\n",
       "      <th>16</th>\n",
       "      <td>djphrydy</td>\n",
       "      <td>116</td>\n",
       "    </tr>\n",
       "    <tr>\n",
       "      <th>17</th>\n",
       "      <td>mhendu</td>\n",
       "      <td>98</td>\n",
       "    </tr>\n",
       "    <tr>\n",
       "      <th>18</th>\n",
       "      <td>Hape40</td>\n",
       "      <td>75</td>\n",
       "    </tr>\n",
       "    <tr>\n",
       "      <th>19</th>\n",
       "      <td>Verbex</td>\n",
       "      <td>71</td>\n",
       "    </tr>\n",
       "    <tr>\n",
       "      <th>20</th>\n",
       "      <td>wcw1966</td>\n",
       "      <td>48</td>\n",
       "    </tr>\n",
       "    <tr>\n",
       "      <th>21</th>\n",
       "      <td>RichardKS</td>\n",
       "      <td>37</td>\n",
       "    </tr>\n",
       "    <tr>\n",
       "      <th>22</th>\n",
       "      <td>AllanBjorklund</td>\n",
       "      <td>19</td>\n",
       "    </tr>\n",
       "  </tbody>\n",
       "</table>\n",
       "</div>"
      ],
      "text/plain": [
       "               editor  edit_count\n",
       "0   loujin             20189     \n",
       "1   ListMyCDs.com      11245     \n",
       "2   reosarevok         10609     \n",
       "3   stupidname         6652      \n",
       "4   CatCat             4097      \n",
       "5   dosoe              3513      \n",
       "6   obtext             2943      \n",
       "7   steinbdj           1330      \n",
       "8   MetaTunes          1024      \n",
       "9   Griomo             807       \n",
       "10  Magic_             780       \n",
       "11  mmirG              628       \n",
       "12  monxton            567       \n",
       "13  BitPerfectRichard  546       \n",
       "14  ProfChris          269       \n",
       "15  MajorLurker        121       \n",
       "16  djphrydy           116       \n",
       "17  mhendu             98        \n",
       "18  Hape40             75        \n",
       "19  Verbex             71        \n",
       "20  wcw1966            48        \n",
       "21  RichardKS          37        \n",
       "22  AllanBjorklund     19        "
      ]
     },
     "execution_count": 45,
     "metadata": {},
     "output_type": "execute_result"
    }
   ],
   "source": [
    "df = sql(\"\"\"\n",
    "SELECT editor.name AS editor,\n",
    "       COUNT(*) AS edit_count\n",
    "  FROM recording     AS rec\n",
    "  JOIN edit_recording      ON rec.id = edit_recording.recording\n",
    "  JOIN edit                ON edit.id = edit_recording.edit\n",
    "  JOIN editor              ON editor.id = edit.editor\n",
    "  JOIN track               on track.recording = rec.id\n",
    "  JOIN medium        AS m  ON track.medium = m.id\n",
    "  JOIN release       AS r  ON m.release = r.id\n",
    "  JOIN release_label AS rl ON rl.release = r.id\n",
    "  JOIN label               ON rl.label = label.id\n",
    " WHERE label.gid IN ('08e6c3c8-81ab-405f-9cff-10f6b8db064c', '0a94e96a-9219-4dd7-a529-18d34e77f50f')\n",
    "   AND edit.open_time >= '2018-02-01'\n",
    "GROUP BY editor.name\n",
    "ORDER BY edit_count DESC\n",
    "   ;\"\"\")\n",
    "df"
   ]
  },
  {
   "cell_type": "markdown",
   "metadata": {},
   "source": [
    "## Release covers added"
   ]
  },
  {
   "cell_type": "code",
   "execution_count": 41,
   "metadata": {},
   "outputs": [
    {
     "data": {
      "text/html": [
       "<div>\n",
       "<style scoped>\n",
       "    .dataframe tbody tr th:only-of-type {\n",
       "        vertical-align: middle;\n",
       "    }\n",
       "\n",
       "    .dataframe tbody tr th {\n",
       "        vertical-align: top;\n",
       "    }\n",
       "\n",
       "    .dataframe thead th {\n",
       "        text-align: right;\n",
       "    }\n",
       "</style>\n",
       "<table border=\"1\" class=\"dataframe\">\n",
       "  <thead>\n",
       "    <tr style=\"text-align: right;\">\n",
       "      <th></th>\n",
       "      <th>edit_count</th>\n",
       "    </tr>\n",
       "  </thead>\n",
       "  <tbody>\n",
       "    <tr>\n",
       "      <th>0</th>\n",
       "      <td>377</td>\n",
       "    </tr>\n",
       "  </tbody>\n",
       "</table>\n",
       "</div>"
      ],
      "text/plain": [
       "   edit_count\n",
       "0  377       "
      ]
     },
     "execution_count": 41,
     "metadata": {},
     "output_type": "execute_result"
    }
   ],
   "source": [
    "df = sql(\"\"\"\n",
    "SELECT COUNT(*) AS edit_count\n",
    "  FROM release        AS r\n",
    "  JOIN edit_release        ON r.id = edit_release.release\n",
    "  JOIN edit                ON edit.id = edit_release.edit\n",
    "  JOIN release_label AS rl ON rl.release = r.id\n",
    "  JOIN label               ON rl.label = label.id\n",
    " WHERE label.gid IN ('08e6c3c8-81ab-405f-9cff-10f6b8db064c', '0a94e96a-9219-4dd7-a529-18d34e77f50f')\n",
    "   AND edit.open_time >= '2018-02-01'\n",
    "   AND edit.type = 314\n",
    "   ;\"\"\")\n",
    "\n",
    "df"
   ]
  },
  {
   "cell_type": "markdown",
   "metadata": {},
   "source": [
    "## phonographic relationships added on recordings"
   ]
  },
  {
   "cell_type": "code",
   "execution_count": 51,
   "metadata": {},
   "outputs": [
    {
     "data": {
      "text/html": [
       "<div>\n",
       "<style scoped>\n",
       "    .dataframe tbody tr th:only-of-type {\n",
       "        vertical-align: middle;\n",
       "    }\n",
       "\n",
       "    .dataframe tbody tr th {\n",
       "        vertical-align: top;\n",
       "    }\n",
       "\n",
       "    .dataframe thead th {\n",
       "        text-align: right;\n",
       "    }\n",
       "</style>\n",
       "<table border=\"1\" class=\"dataframe\">\n",
       "  <thead>\n",
       "    <tr style=\"text-align: right;\">\n",
       "      <th></th>\n",
       "      <th>edit_count</th>\n",
       "    </tr>\n",
       "  </thead>\n",
       "  <tbody>\n",
       "    <tr>\n",
       "      <th>0</th>\n",
       "      <td>315</td>\n",
       "    </tr>\n",
       "  </tbody>\n",
       "</table>\n",
       "</div>"
      ],
      "text/plain": [
       "   edit_count\n",
       "0  315       "
      ]
     },
     "execution_count": 51,
     "metadata": {},
     "output_type": "execute_result"
    }
   ],
   "source": [
    "sql(\"\"\"\n",
    "SELECT COUNT(*) AS edit_count\n",
    "  FROM recording     AS r\n",
    "  JOIN edit_recording      ON r.id = edit_recording.recording\n",
    "  JOIN edit                ON edit.id = edit_recording.edit\n",
    "  JOIN l_label_recording AS lar ON r.id = lar.entity1\n",
    "  JOIN label                    ON label.id = lar.entity0\n",
    "  JOIN link                     ON link.id = lar.link\n",
    " WHERE label.gid IN ('08e6c3c8-81ab-405f-9cff-10f6b8db064c', '0a94e96a-9219-4dd7-a529-18d34e77f50f')\n",
    "   AND edit.open_time >= '2018-02-01'\n",
    "   AND link.link_type = 867\n",
    ";\"\"\")"
   ]
  }
 ],
 "metadata": {
  "kernelspec": {
   "display_name": "Python 3",
   "language": "python",
   "name": "python3"
  },
  "language_info": {
   "codemirror_mode": {
    "name": "ipython",
    "version": 3
   },
   "file_extension": ".py",
   "mimetype": "text/x-python",
   "name": "python",
   "nbconvert_exporter": "python",
   "pygments_lexer": "ipython3",
   "version": "3.6.5rc1"
  }
 },
 "nbformat": 4,
 "nbformat_minor": 2
}
