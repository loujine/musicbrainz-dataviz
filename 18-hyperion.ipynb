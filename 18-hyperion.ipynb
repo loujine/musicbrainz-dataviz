{
 "cells": [
  {
   "cell_type": "markdown",
   "metadata": {},
   "source": [
    "# Pre-Classical Clean Up 4: Hyperion"
   ]
  },
  {
   "cell_type": "markdown",
   "metadata": {},
   "source": [
    "From the live database"
   ]
  },
  {
   "cell_type": "code",
   "execution_count": 1,
   "metadata": {},
   "outputs": [],
   "source": [
    "import pandas\n",
    "import sqlalchemy\n",
    "\n",
    "SITE_URL = 'https://musicbrainz.org'\n",
    "\n",
    "# import postgresql environ variables\n",
    "# defined in postgres-dockerfile/postgres.env\n",
    "PGHOST = '127.0.0.1'\n",
    "PGDATABASE = 'musicbrainz'\n",
    "PGUSER = 'musicbrainz'\n",
    "PGPASSWORD = 'musicbrainz'\n",
    "PGPORT = 5433\n",
    "\n",
    "def sql(query, **kwargs):\n",
    "    \"\"\"helper function for SQL queries using the %(...) syntax\n",
    "    Parameters for the query must be passed as keyword arguments\n",
    "    e.g. sql('SELECT * FROM artist WHERE name=%(singer)s', singer='Bob Dylan')\n",
    "    \"\"\"\n",
    "    engine = sqlalchemy.create_engine(\n",
    "        'postgresql+psycopg2://'\n",
    "        '{PGUSER}:{PGPASSWORD}@{PGHOST}:{PGPORT}/{PGDATABASE}'.format(**globals()),\n",
    "        isolation_level='READ UNCOMMITTED')\n",
    "    return pandas.read_sql(query, engine, params=kwargs)\n",
    "\n",
    "# helper function to build canonical URLs\n",
    "def _mb_link(entity_type, mbid):\n",
    "    return '<a href=\"{url}/{entity_type}/{mbid}\">{mbid}</a>'.format(\n",
    "        url=SITE_URL, **locals())\n",
    "\n",
    "mb_release_link = lambda mbid: _mb_link('release', mbid) # noqa"
   ]
  },
  {
   "cell_type": "code",
   "execution_count": 2,
   "metadata": {},
   "outputs": [],
   "source": [
    "import pandas as pd\n",
    "pd.set_option('display.max_colwidth', -1)"
   ]
  },
  {
   "cell_type": "markdown",
   "metadata": {},
   "source": [
    "## Main label"
   ]
  },
  {
   "cell_type": "code",
   "execution_count": 3,
   "metadata": {},
   "outputs": [
    {
     "data": {
      "text/html": [
       "<div>\n",
       "<style>\n",
       "    .dataframe thead tr:only-child th {\n",
       "        text-align: right;\n",
       "    }\n",
       "\n",
       "    .dataframe thead th {\n",
       "        text-align: left;\n",
       "    }\n",
       "\n",
       "    .dataframe tbody tr th {\n",
       "        vertical-align: top;\n",
       "    }\n",
       "</style>\n",
       "<table border=\"1\" class=\"dataframe\">\n",
       "  <thead>\n",
       "    <tr style=\"text-align: right;\">\n",
       "      <th></th>\n",
       "      <th>id</th>\n",
       "      <th>gid</th>\n",
       "      <th>name</th>\n",
       "      <th>comment</th>\n",
       "    </tr>\n",
       "  </thead>\n",
       "  <tbody>\n",
       "    <tr>\n",
       "      <th>0</th>\n",
       "      <td>388</td>\n",
       "      <td>08e6c3c8-81ab-405f-9cff-10f6b8db064c</td>\n",
       "      <td>hyperion</td>\n",
       "      <td>UK classical</td>\n",
       "    </tr>\n",
       "  </tbody>\n",
       "</table>\n",
       "</div>"
      ],
      "text/plain": [
       "    id                                   gid      name       comment\n",
       "0  388  08e6c3c8-81ab-405f-9cff-10f6b8db064c  hyperion  UK classical"
      ]
     },
     "execution_count": 3,
     "metadata": {},
     "output_type": "execute_result"
    }
   ],
   "source": [
    "sql(\"\"\"SELECT id, gid, name, comment FROM label WHERE name='hyperion';\"\"\")"
   ]
  },
  {
   "cell_type": "markdown",
   "metadata": {},
   "source": [
    "## MB labels associated with links to hyperion-records"
   ]
  },
  {
   "cell_type": "code",
   "execution_count": 4,
   "metadata": {},
   "outputs": [
    {
     "data": {
      "text/html": [
       "<div>\n",
       "<style>\n",
       "    .dataframe thead tr:only-child th {\n",
       "        text-align: right;\n",
       "    }\n",
       "\n",
       "    .dataframe thead th {\n",
       "        text-align: left;\n",
       "    }\n",
       "\n",
       "    .dataframe tbody tr th {\n",
       "        vertical-align: top;\n",
       "    }\n",
       "</style>\n",
       "<table border=\"1\" class=\"dataframe\">\n",
       "  <thead>\n",
       "    <tr style=\"text-align: right;\">\n",
       "      <th></th>\n",
       "      <th>id</th>\n",
       "      <th>label</th>\n",
       "      <th>mbid</th>\n",
       "      <th>releases_count</th>\n",
       "    </tr>\n",
       "  </thead>\n",
       "  <tbody>\n",
       "    <tr>\n",
       "      <th>0</th>\n",
       "      <td>388</td>\n",
       "      <td>hyperion</td>\n",
       "      <td>08e6c3c8-81ab-405f-9cff-10f6b8db064c</td>\n",
       "      <td>889</td>\n",
       "    </tr>\n",
       "    <tr>\n",
       "      <th>1</th>\n",
       "      <td>22708</td>\n",
       "      <td>helios</td>\n",
       "      <td>0a94e96a-9219-4dd7-a529-18d34e77f50f</td>\n",
       "      <td>134</td>\n",
       "    </tr>\n",
       "    <tr>\n",
       "      <th>2</th>\n",
       "      <td>16197</td>\n",
       "      <td>Signum Classics</td>\n",
       "      <td>79c26ea5-2313-4d53-84d9-b04219620c5f</td>\n",
       "      <td>9</td>\n",
       "    </tr>\n",
       "    <tr>\n",
       "      <th>3</th>\n",
       "      <td>2900</td>\n",
       "      <td>Gimell</td>\n",
       "      <td>3d971128-6d37-4870-b188-8e5b84bb1258</td>\n",
       "      <td>2</td>\n",
       "    </tr>\n",
       "    <tr>\n",
       "      <th>4</th>\n",
       "      <td>15918</td>\n",
       "      <td>Hyperion Records</td>\n",
       "      <td>0a3ba296-f572-49df-b570-ca00062773d3</td>\n",
       "      <td>1</td>\n",
       "    </tr>\n",
       "    <tr>\n",
       "      <th>5</th>\n",
       "      <td>53283</td>\n",
       "      <td>Mariinsky</td>\n",
       "      <td>6b060b9a-da6f-4a11-923e-8b88944c4503</td>\n",
       "      <td>1</td>\n",
       "    </tr>\n",
       "    <tr>\n",
       "      <th>6</th>\n",
       "      <td>59800</td>\n",
       "      <td>Appian Publications and Recordings</td>\n",
       "      <td>f51e7981-6399-467c-af06-b4e9a29dbd8d</td>\n",
       "      <td>1</td>\n",
       "    </tr>\n",
       "    <tr>\n",
       "      <th>7</th>\n",
       "      <td>95583</td>\n",
       "      <td>The Choir of King's College Cambridge</td>\n",
       "      <td>d5827354-3b3f-421e-a1fe-6e25e2f7b8ea</td>\n",
       "      <td>1</td>\n",
       "    </tr>\n",
       "  </tbody>\n",
       "</table>\n",
       "</div>"
      ],
      "text/plain": [
       "      id                                  label  \\\n",
       "0  388    hyperion                                \n",
       "1  22708  helios                                  \n",
       "2  16197  Signum Classics                         \n",
       "3  2900   Gimell                                  \n",
       "4  15918  Hyperion Records                        \n",
       "5  53283  Mariinsky                               \n",
       "6  59800  Appian Publications and Recordings      \n",
       "7  95583  The Choir of King's College Cambridge   \n",
       "\n",
       "                                   mbid  releases_count  \n",
       "0  08e6c3c8-81ab-405f-9cff-10f6b8db064c  889             \n",
       "1  0a94e96a-9219-4dd7-a529-18d34e77f50f  134             \n",
       "2  79c26ea5-2313-4d53-84d9-b04219620c5f  9               \n",
       "3  3d971128-6d37-4870-b188-8e5b84bb1258  2               \n",
       "4  0a3ba296-f572-49df-b570-ca00062773d3  1               \n",
       "5  6b060b9a-da6f-4a11-923e-8b88944c4503  1               \n",
       "6  f51e7981-6399-467c-af06-b4e9a29dbd8d  1               \n",
       "7  d5827354-3b3f-421e-a1fe-6e25e2f7b8ea  1               "
      ]
     },
     "execution_count": 4,
     "metadata": {},
     "output_type": "execute_result"
    }
   ],
   "source": [
    "mb_labels = sql(\"\"\"\n",
    "SELECT \n",
    "    DISTINCT label.id,\n",
    "    label.name AS label,\n",
    "    label.gid AS mbid,\n",
    "    COUNT(*) AS releases_count\n",
    "  FROM release       AS r\n",
    "  JOIN release_label AS rl ON rl.release = r.id\n",
    "  JOIN label               ON rl.label = label.id\n",
    "  JOIN l_release_url AS lu ON r.id = lu.entity0\n",
    "  JOIN url           AS u  ON u.id = lu.entity1\n",
    " WHERE u.url ILIKE '%%hyperion-records%%'\n",
    " GROUP BY label.id, label.name, label.gid\n",
    " ORDER BY releases_count DESC\n",
    ";\"\"\")\n",
    "mb_labels"
   ]
  },
  {
   "cell_type": "code",
   "execution_count": 5,
   "metadata": {},
   "outputs": [],
   "source": [
    "with open('docs/hyperion_releases.html', 'w') as f:\n",
    "    f.write('<h1>Pre-Classical Clean Up #4</h1>\\n')\n",
    "    f.write('<h2>Labels corresponding to Hyperion in MusicBrainz</h2>\\n')\n",
    "    f.write(mb_labels.to_html().replace('&lt;', '<').replace('&gt;', '>'))"
   ]
  },
  {
   "cell_type": "markdown",
   "metadata": {},
   "source": [
    "\"Hyperion Records\" is a completely different label that shouldn't be here, I fixed the releases already"
   ]
  },
  {
   "cell_type": "markdown",
   "metadata": {},
   "source": [
    "## MB releases with link to Hyperion and no label"
   ]
  },
  {
   "cell_type": "code",
   "execution_count": 6,
   "metadata": {},
   "outputs": [
    {
     "data": {
      "text/html": [
       "<div>\n",
       "<style>\n",
       "    .dataframe thead tr:only-child th {\n",
       "        text-align: right;\n",
       "    }\n",
       "\n",
       "    .dataframe thead th {\n",
       "        text-align: left;\n",
       "    }\n",
       "\n",
       "    .dataframe tbody tr th {\n",
       "        vertical-align: top;\n",
       "    }\n",
       "</style>\n",
       "<table border=\"1\" class=\"dataframe\">\n",
       "  <thead>\n",
       "    <tr style=\"text-align: right;\">\n",
       "      <th></th>\n",
       "      <th>releases_count</th>\n",
       "    </tr>\n",
       "  </thead>\n",
       "  <tbody>\n",
       "    <tr>\n",
       "      <th>0</th>\n",
       "      <td>0</td>\n",
       "    </tr>\n",
       "  </tbody>\n",
       "</table>\n",
       "</div>"
      ],
      "text/plain": [
       "   releases_count\n",
       "0  0             "
      ]
     },
     "execution_count": 6,
     "metadata": {},
     "output_type": "execute_result"
    }
   ],
   "source": [
    "sql(\"\"\"\n",
    "SELECT \n",
    "    COUNT(*) AS releases_count\n",
    "  FROM release       AS r\n",
    "  LEFT OUTER JOIN release_label AS rl ON rl.release = r.id\n",
    "  JOIN l_release_url AS lu ON r.id = lu.entity0\n",
    "  JOIN url           AS u  ON u.id = lu.entity1\n",
    " WHERE u.url ILIKE '%%hyperion-records%%'\n",
    " AND rl.label IS NULL\n",
    ";\"\"\")"
   ]
  },
  {
   "cell_type": "markdown",
   "metadata": {},
   "source": [
    "## Releases from hyperion labels in MB"
   ]
  },
  {
   "cell_type": "code",
   "execution_count": 7,
   "metadata": {},
   "outputs": [
    {
     "data": {
      "text/html": [
       "<div>\n",
       "<style>\n",
       "    .dataframe thead tr:only-child th {\n",
       "        text-align: right;\n",
       "    }\n",
       "\n",
       "    .dataframe thead th {\n",
       "        text-align: left;\n",
       "    }\n",
       "\n",
       "    .dataframe tbody tr th {\n",
       "        vertical-align: top;\n",
       "    }\n",
       "</style>\n",
       "<table border=\"1\" class=\"dataframe\">\n",
       "  <thead>\n",
       "    <tr style=\"text-align: right;\">\n",
       "      <th></th>\n",
       "      <th>catalog_number</th>\n",
       "      <th>barcode</th>\n",
       "      <th>title</th>\n",
       "      <th>ac</th>\n",
       "      <th>label</th>\n",
       "      <th>quality</th>\n",
       "      <th>mb_url</th>\n",
       "    </tr>\n",
       "  </thead>\n",
       "  <tbody>\n",
       "    <tr>\n",
       "      <th>0</th>\n",
       "      <td>203</td>\n",
       "      <td>None</td>\n",
       "      <td>The Tallis Scholars Sing Thomas Tallis</td>\n",
       "      <td>Thomas Tallis; The Tallis Scholars</td>\n",
       "      <td>Gimell</td>\n",
       "      <td>-1</td>\n",
       "      <td>&lt;a href=\"https://musicbrainz.org/release/ef9be3c2-3cd0-4d61-bdd9-05dda38b488c\"&gt;ef9be3c2-3cd0-4d61-bdd9-05dda38b488c&lt;/a&gt;</td>\n",
       "    </tr>\n",
       "    <tr>\n",
       "      <th>1</th>\n",
       "      <td>205</td>\n",
       "      <td>755138120525</td>\n",
       "      <td>Requiem</td>\n",
       "      <td>The Tallis Scholars, Peter Phillips</td>\n",
       "      <td>Gimell</td>\n",
       "      <td>-1</td>\n",
       "      <td>&lt;a href=\"https://musicbrainz.org/release/8406624d-f46f-45d9-b0db-4790a892869a\"&gt;8406624d-f46f-45d9-b0db-4790a892869a&lt;/a&gt;</td>\n",
       "    </tr>\n",
       "    <tr>\n",
       "      <th>2</th>\n",
       "      <td>22</td>\n",
       "      <td>755138102224</td>\n",
       "      <td>Tenebrae Responsories</td>\n",
       "      <td>Victoria; Tallis Scholars, Peter Phillips</td>\n",
       "      <td>Gimell</td>\n",
       "      <td>-1</td>\n",
       "      <td>&lt;a href=\"https://musicbrainz.org/release/0e88f294-269d-444d-b790-7f81ccd6ccab\"&gt;0e88f294-269d-444d-b790-7f81ccd6ccab&lt;/a&gt;</td>\n",
       "    </tr>\n",
       "    <tr>\n",
       "      <th>3</th>\n",
       "      <td>454 890-2</td>\n",
       "      <td>028945489025</td>\n",
       "      <td>The Palestrina 400 Collection</td>\n",
       "      <td>The Tallis Scholars</td>\n",
       "      <td>Gimell</td>\n",
       "      <td>-1</td>\n",
       "      <td>&lt;a href=\"https://musicbrainz.org/release/f70844a3-642c-4a02-a37e-c5caa3c42aa2\"&gt;f70844a3-642c-4a02-a37e-c5caa3c42aa2&lt;/a&gt;</td>\n",
       "    </tr>\n",
       "    <tr>\n",
       "      <th>4</th>\n",
       "      <td>454 901-2</td>\n",
       "      <td>None</td>\n",
       "      <td>Palestrina Masses: Missa Benedicta es</td>\n",
       "      <td>Giovanni Pierluigi da Palestrina; The Tallis Scholars, Peter Phillips</td>\n",
       "      <td>Gimell</td>\n",
       "      <td>-1</td>\n",
       "      <td>&lt;a href=\"https://musicbrainz.org/release/1e173bae-9453-4f8a-8092-962e41cff59c\"&gt;1e173bae-9453-4f8a-8092-962e41cff59c&lt;/a&gt;</td>\n",
       "    </tr>\n",
       "  </tbody>\n",
       "</table>\n",
       "</div>"
      ],
      "text/plain": [
       "  catalog_number       barcode                                   title  \\\n",
       "0  203            None          The Tallis Scholars Sing Thomas Tallis   \n",
       "1  205            755138120525  Requiem                                  \n",
       "2  22             755138102224  Tenebrae Responsories                    \n",
       "3  454 890-2      028945489025  The Palestrina 400 Collection            \n",
       "4  454 901-2      None          Palestrina Masses: Missa Benedicta es    \n",
       "\n",
       "                                                                      ac  \\\n",
       "0  Thomas Tallis; The Tallis Scholars                                      \n",
       "1  The Tallis Scholars, Peter Phillips                                     \n",
       "2  Victoria; Tallis Scholars, Peter Phillips                               \n",
       "3  The Tallis Scholars                                                     \n",
       "4  Giovanni Pierluigi da Palestrina; The Tallis Scholars, Peter Phillips   \n",
       "\n",
       "    label  quality  \\\n",
       "0  Gimell -1         \n",
       "1  Gimell -1         \n",
       "2  Gimell -1         \n",
       "3  Gimell -1         \n",
       "4  Gimell -1         \n",
       "\n",
       "                                                                                                                    mb_url  \n",
       "0  <a href=\"https://musicbrainz.org/release/ef9be3c2-3cd0-4d61-bdd9-05dda38b488c\">ef9be3c2-3cd0-4d61-bdd9-05dda38b488c</a>  \n",
       "1  <a href=\"https://musicbrainz.org/release/8406624d-f46f-45d9-b0db-4790a892869a\">8406624d-f46f-45d9-b0db-4790a892869a</a>  \n",
       "2  <a href=\"https://musicbrainz.org/release/0e88f294-269d-444d-b790-7f81ccd6ccab\">0e88f294-269d-444d-b790-7f81ccd6ccab</a>  \n",
       "3  <a href=\"https://musicbrainz.org/release/f70844a3-642c-4a02-a37e-c5caa3c42aa2\">f70844a3-642c-4a02-a37e-c5caa3c42aa2</a>  \n",
       "4  <a href=\"https://musicbrainz.org/release/1e173bae-9453-4f8a-8092-962e41cff59c\">1e173bae-9453-4f8a-8092-962e41cff59c</a>  "
      ]
     },
     "execution_count": 7,
     "metadata": {},
     "output_type": "execute_result"
    }
   ],
   "source": [
    "mb_releases = sql(\"\"\"\n",
    "SELECT \n",
    "    rl.catalog_number,\n",
    "    r.barcode,\n",
    "    r.name  AS title,\n",
    "    ac.name AS ac,\n",
    "    label.name AS label,\n",
    "    r.quality,\n",
    "    r.gid   AS mb_url\n",
    "  FROM release_label AS rl\n",
    "  JOIN release       AS r  ON rl.release = r.id\n",
    "  JOIN label               ON rl.label = label.id\n",
    "  JOIN artist_credit AS ac ON r.artist_credit = ac.id\n",
    " WHERE label.id IN (388, 22708, 16197, 2900, 53283, 59800, 95583)\n",
    "ORDER BY rl.catalog_number, r.barcode;\n",
    "\"\"\")\n",
    "mb_releases['mb_url'] = mb_releases.mb_url.apply(mb_release_link)\n",
    "mb_releases.head()"
   ]
  },
  {
   "cell_type": "code",
   "execution_count": 8,
   "metadata": {},
   "outputs": [
    {
     "data": {
      "text/plain": [
       "(1804, 7)"
      ]
     },
     "execution_count": 8,
     "metadata": {},
     "output_type": "execute_result"
    }
   ],
   "source": [
    "mb_releases.shape"
   ]
  },
  {
   "cell_type": "code",
   "execution_count": 9,
   "metadata": {},
   "outputs": [],
   "source": [
    "with open('docs/hyperion_releases.html', 'a') as f:\n",
    "    f.write('<h2>Hyperion releases in MusicBrainz (with duplicates)</h2>\\n')\n",
    "    f.write(mb_releases.to_html().replace('&lt;', '<').replace('&gt;', '>'))"
   ]
  },
  {
   "cell_type": "markdown",
   "metadata": {},
   "source": [
    "1804 releases already in MB, some might be duplicates"
   ]
  },
  {
   "cell_type": "code",
   "execution_count": 10,
   "metadata": {},
   "outputs": [
    {
     "data": {
      "text/html": [
       "<div>\n",
       "<style>\n",
       "    .dataframe thead tr:only-child th {\n",
       "        text-align: right;\n",
       "    }\n",
       "\n",
       "    .dataframe thead th {\n",
       "        text-align: left;\n",
       "    }\n",
       "\n",
       "    .dataframe tbody tr th {\n",
       "        vertical-align: top;\n",
       "    }\n",
       "</style>\n",
       "<table border=\"1\" class=\"dataframe\">\n",
       "  <thead>\n",
       "    <tr style=\"text-align: right;\">\n",
       "      <th></th>\n",
       "      <th>catalog_number</th>\n",
       "      <th>barcode</th>\n",
       "      <th>title</th>\n",
       "      <th>ac</th>\n",
       "      <th>label</th>\n",
       "      <th>quality</th>\n",
       "      <th>hyperion_url</th>\n",
       "      <th>mb_url</th>\n",
       "    </tr>\n",
       "  </thead>\n",
       "  <tbody>\n",
       "    <tr>\n",
       "      <th>0</th>\n",
       "      <td>454 901-2</td>\n",
       "      <td>None</td>\n",
       "      <td>Palestrina Masses: Missa Benedicta es</td>\n",
       "      <td>Giovanni Pierluigi da Palestrina; The Tallis Scholars, Peter Phillips</td>\n",
       "      <td>Gimell</td>\n",
       "      <td>-1</td>\n",
       "      <td>None</td>\n",
       "      <td>&lt;a href=\"https://musicbrainz.org/release/1e173bae-9453-4f8a-8092-962e41cff59c\"&gt;1e173bae-9453-4f8a-8092-962e41cff59c&lt;/a&gt;</td>\n",
       "    </tr>\n",
       "    <tr>\n",
       "      <th>1</th>\n",
       "      <td>454 909-2</td>\n",
       "      <td>028945490922</td>\n",
       "      <td>Missa Pange lingua / Missa La sol fa re mi / Plainchant: Pange lingua</td>\n",
       "      <td>Josquin; The Tallis Scholars, Peter Phillips</td>\n",
       "      <td>Gimell</td>\n",
       "      <td>-1</td>\n",
       "      <td>None</td>\n",
       "      <td>&lt;a href=\"https://musicbrainz.org/release/d9a9a334-aa0f-4007-8a9d-674eda037ca0\"&gt;d9a9a334-aa0f-4007-8a9d-674eda037ca0&lt;/a&gt;</td>\n",
       "    </tr>\n",
       "    <tr>\n",
       "      <th>2</th>\n",
       "      <td>A66210</td>\n",
       "      <td></td>\n",
       "      <td>Two Romantic Violin Concertos</td>\n",
       "      <td>Federigo Fiorillo, Giovanni Battista Viotti; European Community Chamber Orchestra, Jörg Faerber, Adelina Oprean</td>\n",
       "      <td>hyperion</td>\n",
       "      <td>-1</td>\n",
       "      <td>None</td>\n",
       "      <td>&lt;a href=\"https://musicbrainz.org/release/28dbbf85-4ec1-4242-8469-6dbc800a8f5c\"&gt;28dbbf85-4ec1-4242-8469-6dbc800a8f5c&lt;/a&gt;</td>\n",
       "    </tr>\n",
       "    <tr>\n",
       "      <th>3</th>\n",
       "      <td>APR 5519</td>\n",
       "      <td>5024709155194</td>\n",
       "      <td>Tchaikovsky: Piano Concerto no. 1 / Rachmaninov: Piano Concerto no. 3</td>\n",
       "      <td>Pyotr Tchaikovsky, Sergei Rachmaninov; Vladimir Horowitz, New York Philharmonic Symphony Orchestra, John Barbirolli</td>\n",
       "      <td>Appian Publications and Recordings</td>\n",
       "      <td>-1</td>\n",
       "      <td>&lt;a href=\"http://www.hyperion-records.co.uk/dc.asp?dc=D_APR5519\"&gt;http://www.hyperion-records.co.uk/dc.asp?dc=D_APR5519&lt;/a&gt;</td>\n",
       "      <td>&lt;a href=\"https://musicbrainz.org/release/31192ec6-6ea1-4f6e-b665-9b2a78e5f3fa\"&gt;31192ec6-6ea1-4f6e-b665-9b2a78e5f3fa&lt;/a&gt;</td>\n",
       "    </tr>\n",
       "    <tr>\n",
       "      <th>4</th>\n",
       "      <td>APR 6003</td>\n",
       "      <td>5024709160037</td>\n",
       "      <td>The Complete Solo Recordings, 1929-1936 / Lalo: Symphonie espagnole</td>\n",
       "      <td>Jacques Thibaud</td>\n",
       "      <td>Appian Publications and Recordings</td>\n",
       "      <td>-1</td>\n",
       "      <td>None</td>\n",
       "      <td>&lt;a href=\"https://musicbrainz.org/release/04bb6a06-6839-4e11-8b46-b7e5f2709180\"&gt;04bb6a06-6839-4e11-8b46-b7e5f2709180&lt;/a&gt;</td>\n",
       "    </tr>\n",
       "  </tbody>\n",
       "</table>\n",
       "</div>"
      ],
      "text/plain": [
       "  catalog_number        barcode  \\\n",
       "0  454 901-2      None            \n",
       "1  454 909-2      028945490922    \n",
       "2  A66210                         \n",
       "3  APR 5519       5024709155194   \n",
       "4  APR 6003       5024709160037   \n",
       "\n",
       "                                                                   title  \\\n",
       "0  Palestrina Masses: Missa Benedicta es                                   \n",
       "1  Missa Pange lingua / Missa La sol fa re mi / Plainchant: Pange lingua   \n",
       "2  Two Romantic Violin Concertos                                           \n",
       "3  Tchaikovsky: Piano Concerto no. 1 / Rachmaninov: Piano Concerto no. 3   \n",
       "4  The Complete Solo Recordings, 1929-1936 / Lalo: Symphonie espagnole     \n",
       "\n",
       "                                                                                                                    ac  \\\n",
       "0  Giovanni Pierluigi da Palestrina; The Tallis Scholars, Peter Phillips                                                 \n",
       "1  Josquin; The Tallis Scholars, Peter Phillips                                                                          \n",
       "2  Federigo Fiorillo, Giovanni Battista Viotti; European Community Chamber Orchestra, Jörg Faerber, Adelina Oprean       \n",
       "3  Pyotr Tchaikovsky, Sergei Rachmaninov; Vladimir Horowitz, New York Philharmonic Symphony Orchestra, John Barbirolli   \n",
       "4  Jacques Thibaud                                                                                                       \n",
       "\n",
       "                                label  quality  \\\n",
       "0  Gimell                             -1         \n",
       "1  Gimell                             -1         \n",
       "2  hyperion                           -1         \n",
       "3  Appian Publications and Recordings -1         \n",
       "4  Appian Publications and Recordings -1         \n",
       "\n",
       "                                                                                                                hyperion_url  \\\n",
       "0  None                                                                                                                        \n",
       "1  None                                                                                                                        \n",
       "2  None                                                                                                                        \n",
       "3  <a href=\"http://www.hyperion-records.co.uk/dc.asp?dc=D_APR5519\">http://www.hyperion-records.co.uk/dc.asp?dc=D_APR5519</a>   \n",
       "4  None                                                                                                                        \n",
       "\n",
       "                                                                                                                    mb_url  \n",
       "0  <a href=\"https://musicbrainz.org/release/1e173bae-9453-4f8a-8092-962e41cff59c\">1e173bae-9453-4f8a-8092-962e41cff59c</a>  \n",
       "1  <a href=\"https://musicbrainz.org/release/d9a9a334-aa0f-4007-8a9d-674eda037ca0\">d9a9a334-aa0f-4007-8a9d-674eda037ca0</a>  \n",
       "2  <a href=\"https://musicbrainz.org/release/28dbbf85-4ec1-4242-8469-6dbc800a8f5c\">28dbbf85-4ec1-4242-8469-6dbc800a8f5c</a>  \n",
       "3  <a href=\"https://musicbrainz.org/release/31192ec6-6ea1-4f6e-b665-9b2a78e5f3fa\">31192ec6-6ea1-4f6e-b665-9b2a78e5f3fa</a>  \n",
       "4  <a href=\"https://musicbrainz.org/release/04bb6a06-6839-4e11-8b46-b7e5f2709180\">04bb6a06-6839-4e11-8b46-b7e5f2709180</a>  "
      ]
     },
     "execution_count": 10,
     "metadata": {},
     "output_type": "execute_result"
    }
   ],
   "source": [
    "mb_releases = sql(\"\"\"\n",
    "SELECT \n",
    "    rl.catalog_number,\n",
    "    r.barcode,\n",
    "    r.name  AS title,\n",
    "    ac.name AS ac,\n",
    "    label.name AS label,\n",
    "    r.quality,\n",
    "    u.url   AS hyperion_url,\n",
    "    r.gid   AS mb_url\n",
    "  FROM release_label AS rl\n",
    "  JOIN release       AS r  ON rl.release = r.id\n",
    "  JOIN label               ON rl.label = label.id\n",
    "  JOIN artist_credit AS ac ON r.artist_credit = ac.id\n",
    "  LEFT OUTER JOIN l_release_url AS lu ON r.id = lu.entity0\n",
    "  LEFT OUTER JOIN url           AS u  ON u.id = lu.entity1\n",
    " WHERE label.id IN (388, 22708, 16197, 2900, 53283, 59800, 95583)\n",
    "   AND (u.url IS NULL OR u.url ILIKE '%%hyperion-records%%')\n",
    "ORDER BY rl.catalog_number, r.barcode;\n",
    "\"\"\")\n",
    "mb_releases['mb_url'] = mb_releases.mb_url.apply(mb_release_link)\n",
    "mb_releases['hyperion_url'] = mb_releases.hyperion_url.apply(lambda url: '<a href=\"{0}\">{0}</a>'.format(url) if url else None)\n",
    "mb_releases.head()"
   ]
  },
  {
   "cell_type": "code",
   "execution_count": 11,
   "metadata": {},
   "outputs": [
    {
     "data": {
      "text/plain": [
       "(1154, 8)"
      ]
     },
     "execution_count": 11,
     "metadata": {},
     "output_type": "execute_result"
    }
   ],
   "source": [
    "mb_releases.shape"
   ]
  },
  {
   "cell_type": "code",
   "execution_count": 12,
   "metadata": {},
   "outputs": [],
   "source": [
    "with open('docs/hyperion_releases.html', 'a') as f:\n",
    "    f.write('<h2>Hyperion releases in MusicBrainz (with links)</h2>\\n')\n",
    "    f.write(mb_releases.to_html().replace('&lt;', '<').replace('&gt;', '>'))"
   ]
  },
  {
   "cell_type": "markdown",
   "metadata": {},
   "source": [
    "## Hyperion releases with no catalogue number in MB"
   ]
  },
  {
   "cell_type": "code",
   "execution_count": 13,
   "metadata": {},
   "outputs": [
    {
     "data": {
      "text/html": [
       "<div>\n",
       "<style>\n",
       "    .dataframe thead tr:only-child th {\n",
       "        text-align: right;\n",
       "    }\n",
       "\n",
       "    .dataframe thead th {\n",
       "        text-align: left;\n",
       "    }\n",
       "\n",
       "    .dataframe tbody tr th {\n",
       "        vertical-align: top;\n",
       "    }\n",
       "</style>\n",
       "<table border=\"1\" class=\"dataframe\">\n",
       "  <thead>\n",
       "    <tr style=\"text-align: right;\">\n",
       "      <th></th>\n",
       "      <th>barcode</th>\n",
       "      <th>title</th>\n",
       "      <th>label</th>\n",
       "      <th>mb_url</th>\n",
       "    </tr>\n",
       "  </thead>\n",
       "  <tbody>\n",
       "    <tr>\n",
       "      <th>0</th>\n",
       "      <td>None</td>\n",
       "      <td>Missa Ecce ego Joannes</td>\n",
       "      <td>hyperion</td>\n",
       "      <td>&lt;a href=\"https://musicbrainz.org/release/2cbbdf24-d9d1-44cb-a07e-83ccdf36be6c\"&gt;2cbbdf24-d9d1-44cb-a07e-83ccdf36be6c&lt;/a&gt;</td>\n",
       "    </tr>\n",
       "    <tr>\n",
       "      <th>1</th>\n",
       "      <td>034571163291</td>\n",
       "      <td>The Evening Watch and Other Choral Music</td>\n",
       "      <td>hyperion</td>\n",
       "      <td>&lt;a href=\"https://musicbrainz.org/release/d358abfe-4a98-4115-9ba5-ed072befcf43\"&gt;d358abfe-4a98-4115-9ba5-ed072befcf43&lt;/a&gt;</td>\n",
       "    </tr>\n",
       "    <tr>\n",
       "      <th>2</th>\n",
       "      <td>None</td>\n",
       "      <td>Variations on a Theme of Chopin, Op. 22 / Variations on a Theme of Corelli, Op. 42 (piano: Howard Shelley)</td>\n",
       "      <td>hyperion</td>\n",
       "      <td>&lt;a href=\"https://musicbrainz.org/release/0ae980b3-2c97-3a6f-9e61-1699a099b878\"&gt;0ae980b3-2c97-3a6f-9e61-1699a099b878&lt;/a&gt;</td>\n",
       "    </tr>\n",
       "    <tr>\n",
       "      <th>3</th>\n",
       "      <td>None</td>\n",
       "      <td>The Complete Anthems and Services, Vol. I (King's Consort &amp; The New Oxford College Choir feat. conductor: Robert King)</td>\n",
       "      <td>hyperion</td>\n",
       "      <td>&lt;a href=\"https://musicbrainz.org/release/692eb556-50f5-4479-ab4e-634972f8c987\"&gt;692eb556-50f5-4479-ab4e-634972f8c987&lt;/a&gt;</td>\n",
       "    </tr>\n",
       "    <tr>\n",
       "      <th>4</th>\n",
       "      <td>None</td>\n",
       "      <td>Music for St. James the Greater (Binchois Consort)</td>\n",
       "      <td>hyperion</td>\n",
       "      <td>&lt;a href=\"https://musicbrainz.org/release/fbc0f0bd-c854-4c82-9ce6-0b4c8862fc70\"&gt;fbc0f0bd-c854-4c82-9ce6-0b4c8862fc70&lt;/a&gt;</td>\n",
       "    </tr>\n",
       "  </tbody>\n",
       "</table>\n",
       "</div>"
      ],
      "text/plain": [
       "        barcode  \\\n",
       "0  None           \n",
       "1  034571163291   \n",
       "2  None           \n",
       "3  None           \n",
       "4  None           \n",
       "\n",
       "                                                                                                                    title  \\\n",
       "0  Missa Ecce ego Joannes                                                                                                   \n",
       "1  The Evening Watch and Other Choral Music                                                                                 \n",
       "2  Variations on a Theme of Chopin, Op. 22 / Variations on a Theme of Corelli, Op. 42 (piano: Howard Shelley)               \n",
       "3  The Complete Anthems and Services, Vol. I (King's Consort & The New Oxford College Choir feat. conductor: Robert King)   \n",
       "4  Music for St. James the Greater (Binchois Consort)                                                                       \n",
       "\n",
       "      label  \\\n",
       "0  hyperion   \n",
       "1  hyperion   \n",
       "2  hyperion   \n",
       "3  hyperion   \n",
       "4  hyperion   \n",
       "\n",
       "                                                                                                                    mb_url  \n",
       "0  <a href=\"https://musicbrainz.org/release/2cbbdf24-d9d1-44cb-a07e-83ccdf36be6c\">2cbbdf24-d9d1-44cb-a07e-83ccdf36be6c</a>  \n",
       "1  <a href=\"https://musicbrainz.org/release/d358abfe-4a98-4115-9ba5-ed072befcf43\">d358abfe-4a98-4115-9ba5-ed072befcf43</a>  \n",
       "2  <a href=\"https://musicbrainz.org/release/0ae980b3-2c97-3a6f-9e61-1699a099b878\">0ae980b3-2c97-3a6f-9e61-1699a099b878</a>  \n",
       "3  <a href=\"https://musicbrainz.org/release/692eb556-50f5-4479-ab4e-634972f8c987\">692eb556-50f5-4479-ab4e-634972f8c987</a>  \n",
       "4  <a href=\"https://musicbrainz.org/release/fbc0f0bd-c854-4c82-9ce6-0b4c8862fc70\">fbc0f0bd-c854-4c82-9ce6-0b4c8862fc70</a>  "
      ]
     },
     "execution_count": 13,
     "metadata": {},
     "output_type": "execute_result"
    }
   ],
   "source": [
    "mb_releases_wo_catno = sql(\"\"\"\n",
    "SELECT release.barcode,\n",
    "       release.name AS title,\n",
    "       label.name AS label,\n",
    "       release.gid AS mb_url\n",
    "  FROM release_label AS rl\n",
    "  JOIN release       ON rl.release = release.id\n",
    "  JOIN label         ON rl.label = label.id\n",
    " WHERE label.id IN (388, 22708, 16197, 2900, 53283, 59800, 95583)\n",
    "   AND rl.catalog_number IS NULL\n",
    "ORDER BY rl.catalog_number;\n",
    "\"\"\")\n",
    "mb_releases_wo_catno['mb_url'] = mb_releases_wo_catno.mb_url.apply(mb_release_link)\n",
    "mb_releases_wo_catno.head()"
   ]
  },
  {
   "cell_type": "code",
   "execution_count": 14,
   "metadata": {},
   "outputs": [
    {
     "data": {
      "text/plain": [
       "(32, 4)"
      ]
     },
     "execution_count": 14,
     "metadata": {},
     "output_type": "execute_result"
    }
   ],
   "source": [
    "mb_releases_wo_catno.shape"
   ]
  },
  {
   "cell_type": "code",
   "execution_count": 15,
   "metadata": {},
   "outputs": [],
   "source": [
    "with open('docs/hyperion_releases.html', 'a') as f:\n",
    "    f.write('<h2>Hyperion releases with no catalog number in MB</h2>\\n')\n",
    "    f.write(mb_releases_wo_catno.to_html().replace('&lt;', '<').replace('&gt;', '>'))"
   ]
  },
  {
   "cell_type": "markdown",
   "metadata": {},
   "source": [
    "## MB Releases with hyperion cat. no. but neither label nor link"
   ]
  },
  {
   "cell_type": "code",
   "execution_count": null,
   "metadata": {},
   "outputs": [],
   "source": []
  },
  {
   "cell_type": "markdown",
   "metadata": {},
   "source": [
    "# Official Hyperion catalogue"
   ]
  },
  {
   "cell_type": "code",
   "execution_count": 16,
   "metadata": {},
   "outputs": [],
   "source": [
    "hyperion_releases = pd.read_html('https://www.hyperion-records.co.uk/n.asp?n=1')[0][:-1]\n",
    "\n",
    "hyperion_releases.rename(columns={0: 'catalog_number', 1: 'name'}, inplace=True)\n",
    "hyperion_releases['barcode'] = hyperion_releases.name.str[-12:]\n",
    "hyperion_releases['name'] = hyperion_releases.name.str[:-12]\n",
    "hyperion_releases['url'] = hyperion_releases.catalog_number.apply(\n",
    "    lambda no: '<a href=\"https://www.hyperion-records.co.uk/dc.asp?dc=D_{0}\">{0}</a>'.format(no)) "
   ]
  },
  {
   "cell_type": "code",
   "execution_count": 17,
   "metadata": {},
   "outputs": [
    {
     "data": {
      "text/html": [
       "<div>\n",
       "<style>\n",
       "    .dataframe thead tr:only-child th {\n",
       "        text-align: right;\n",
       "    }\n",
       "\n",
       "    .dataframe thead th {\n",
       "        text-align: left;\n",
       "    }\n",
       "\n",
       "    .dataframe tbody tr th {\n",
       "        vertical-align: top;\n",
       "    }\n",
       "</style>\n",
       "<table border=\"1\" class=\"dataframe\">\n",
       "  <thead>\n",
       "    <tr style=\"text-align: right;\">\n",
       "      <th></th>\n",
       "      <th>catalog_number</th>\n",
       "      <th>name</th>\n",
       "      <th>barcode</th>\n",
       "      <th>url</th>\n",
       "    </tr>\n",
       "  </thead>\n",
       "  <tbody>\n",
       "    <tr>\n",
       "      <th>0</th>\n",
       "      <td>1EMBNB</td>\n",
       "      <td>Jack: Black and Blue</td>\n",
       "      <td>034571100708</td>\n",
       "      <td>&lt;a href=\"https://www.hyperion-records.co.uk/dc.asp?dc=D_1EMBNB\"&gt;1EMBNB&lt;/a&gt;</td>\n",
       "    </tr>\n",
       "    <tr>\n",
       "      <th>1</th>\n",
       "      <td>1EMHDUS</td>\n",
       "      <td>Harmonies d'un Soir</td>\n",
       "      <td>034571100753</td>\n",
       "      <td>&lt;a href=\"https://www.hyperion-records.co.uk/dc.asp?dc=D_1EMHDUS\"&gt;1EMHDUS&lt;/a&gt;</td>\n",
       "    </tr>\n",
       "    <tr>\n",
       "      <th>2</th>\n",
       "      <td>1EMIPM08</td>\n",
       "      <td>Pitts J: Airs &amp; Fantasias</td>\n",
       "      <td>034571100678</td>\n",
       "      <td>&lt;a href=\"https://www.hyperion-records.co.uk/dc.asp?dc=D_1EMIPM08\"&gt;1EMIPM08&lt;/a&gt;</td>\n",
       "    </tr>\n",
       "    <tr>\n",
       "      <th>3</th>\n",
       "      <td>1EMJ2O</td>\n",
       "      <td>Pitts: Jerusalem-Yerushalayim Superseded by 1EMJOY</td>\n",
       "      <td>034571100647</td>\n",
       "      <td>&lt;a href=\"https://www.hyperion-records.co.uk/dc.asp?dc=D_1EMJ2O\"&gt;1EMJ2O&lt;/a&gt;</td>\n",
       "    </tr>\n",
       "    <tr>\n",
       "      <th>4</th>\n",
       "      <td>1EMJOY</td>\n",
       "      <td>Pitts: Jerusalem-Yerushalayim</td>\n",
       "      <td>034571101460</td>\n",
       "      <td>&lt;a href=\"https://www.hyperion-records.co.uk/dc.asp?dc=D_1EMJOY\"&gt;1EMJOY&lt;/a&gt;</td>\n",
       "    </tr>\n",
       "  </tbody>\n",
       "</table>\n",
       "</div>"
      ],
      "text/plain": [
       "  catalog_number                                                name  \\\n",
       "0  1EMBNB         Jack: Black and Blue                                 \n",
       "1  1EMHDUS        Harmonies d'un Soir                                  \n",
       "2  1EMIPM08       Pitts J: Airs & Fantasias                            \n",
       "3  1EMJ2O         Pitts: Jerusalem-Yerushalayim Superseded by 1EMJOY   \n",
       "4  1EMJOY         Pitts: Jerusalem-Yerushalayim                        \n",
       "\n",
       "        barcode  \\\n",
       "0  034571100708   \n",
       "1  034571100753   \n",
       "2  034571100678   \n",
       "3  034571100647   \n",
       "4  034571101460   \n",
       "\n",
       "                                                                              url  \n",
       "0  <a href=\"https://www.hyperion-records.co.uk/dc.asp?dc=D_1EMBNB\">1EMBNB</a>      \n",
       "1  <a href=\"https://www.hyperion-records.co.uk/dc.asp?dc=D_1EMHDUS\">1EMHDUS</a>    \n",
       "2  <a href=\"https://www.hyperion-records.co.uk/dc.asp?dc=D_1EMIPM08\">1EMIPM08</a>  \n",
       "3  <a href=\"https://www.hyperion-records.co.uk/dc.asp?dc=D_1EMJ2O\">1EMJ2O</a>      \n",
       "4  <a href=\"https://www.hyperion-records.co.uk/dc.asp?dc=D_1EMJOY\">1EMJOY</a>      "
      ]
     },
     "execution_count": 17,
     "metadata": {},
     "output_type": "execute_result"
    }
   ],
   "source": [
    "hyperion_releases.head()"
   ]
  },
  {
   "cell_type": "code",
   "execution_count": 18,
   "metadata": {},
   "outputs": [],
   "source": [
    "with open('docs/hyperion_releases.html', 'a') as f:\n",
    "    f.write('<h2>Hyperion releases in Hyperion catalogue</h2>\\n')\n",
    "    f.write(hyperion_releases.to_html().replace('&lt;', '<').replace('&gt;', '>'))"
   ]
  },
  {
   "cell_type": "markdown",
   "metadata": {},
   "source": [
    "## Barcodes in MusicBrainz not found in Hyperion"
   ]
  },
  {
   "cell_type": "code",
   "execution_count": 19,
   "metadata": {},
   "outputs": [
    {
     "data": {
      "text/html": [
       "<div>\n",
       "<style>\n",
       "    .dataframe thead tr:only-child th {\n",
       "        text-align: right;\n",
       "    }\n",
       "\n",
       "    .dataframe thead th {\n",
       "        text-align: left;\n",
       "    }\n",
       "\n",
       "    .dataframe tbody tr th {\n",
       "        vertical-align: top;\n",
       "    }\n",
       "</style>\n",
       "<table border=\"1\" class=\"dataframe\">\n",
       "  <thead>\n",
       "    <tr style=\"text-align: right;\">\n",
       "      <th></th>\n",
       "      <th>catalog_number</th>\n",
       "      <th>barcode</th>\n",
       "      <th>title</th>\n",
       "      <th>ac</th>\n",
       "      <th>label</th>\n",
       "      <th>quality</th>\n",
       "      <th>hyperion_url</th>\n",
       "      <th>mb_url</th>\n",
       "    </tr>\n",
       "  </thead>\n",
       "  <tbody>\n",
       "    <tr>\n",
       "      <th>1</th>\n",
       "      <td>454 909-2</td>\n",
       "      <td>028945490922</td>\n",
       "      <td>Missa Pange lingua / Missa La sol fa re mi / Plainchant: Pange lingua</td>\n",
       "      <td>Josquin; The Tallis Scholars, Peter Phillips</td>\n",
       "      <td>Gimell</td>\n",
       "      <td>-1</td>\n",
       "      <td>None</td>\n",
       "      <td>&lt;a href=\"https://musicbrainz.org/release/d9a9a334-aa0f-4007-8a9d-674eda037ca0\"&gt;d9a9a334-aa0f-4007-8a9d-674eda037ca0&lt;/a&gt;</td>\n",
       "    </tr>\n",
       "    <tr>\n",
       "      <th>3</th>\n",
       "      <td>APR 5519</td>\n",
       "      <td>5024709155194</td>\n",
       "      <td>Tchaikovsky: Piano Concerto no. 1 / Rachmaninov: Piano Concerto no. 3</td>\n",
       "      <td>Pyotr Tchaikovsky, Sergei Rachmaninov; Vladimir Horowitz, New York Philharmonic Symphony Orchestra, John Barbirolli</td>\n",
       "      <td>Appian Publications and Recordings</td>\n",
       "      <td>-1</td>\n",
       "      <td>&lt;a href=\"http://www.hyperion-records.co.uk/dc.asp?dc=D_APR5519\"&gt;http://www.hyperion-records.co.uk/dc.asp?dc=D_APR5519&lt;/a&gt;</td>\n",
       "      <td>&lt;a href=\"https://musicbrainz.org/release/31192ec6-6ea1-4f6e-b665-9b2a78e5f3fa\"&gt;31192ec6-6ea1-4f6e-b665-9b2a78e5f3fa&lt;/a&gt;</td>\n",
       "    </tr>\n",
       "    <tr>\n",
       "      <th>4</th>\n",
       "      <td>APR 6003</td>\n",
       "      <td>5024709160037</td>\n",
       "      <td>The Complete Solo Recordings, 1929-1936 / Lalo: Symphonie espagnole</td>\n",
       "      <td>Jacques Thibaud</td>\n",
       "      <td>Appian Publications and Recordings</td>\n",
       "      <td>-1</td>\n",
       "      <td>None</td>\n",
       "      <td>&lt;a href=\"https://musicbrainz.org/release/04bb6a06-6839-4e11-8b46-b7e5f2709180\"&gt;04bb6a06-6839-4e11-8b46-b7e5f2709180&lt;/a&gt;</td>\n",
       "    </tr>\n",
       "    <tr>\n",
       "      <th>5</th>\n",
       "      <td>APR 7304</td>\n",
       "      <td>5024709173044</td>\n",
       "      <td>The Complete Solo Studio Recordings</td>\n",
       "      <td>Harriet Cohen</td>\n",
       "      <td>Appian Publications and Recordings</td>\n",
       "      <td>-1</td>\n",
       "      <td>None</td>\n",
       "      <td>&lt;a href=\"https://musicbrainz.org/release/e95bfeb1-6769-4134-bcda-728a32df16d9\"&gt;e95bfeb1-6769-4134-bcda-728a32df16d9&lt;/a&gt;</td>\n",
       "    </tr>\n",
       "    <tr>\n",
       "      <th>6</th>\n",
       "      <td>CDA20199</td>\n",
       "      <td>034571101996</td>\n",
       "      <td>Clarinet Concerto in A Major, K622 / Clarinet Quintet in A Major, K581</td>\n",
       "      <td>Wolfgang Amadeus Mozart; Thea King, English Chamber Orchestra, Jeffrey Tate, Gabrieli String Quartet</td>\n",
       "      <td>hyperion</td>\n",
       "      <td>-1</td>\n",
       "      <td>None</td>\n",
       "      <td>&lt;a href=\"https://musicbrainz.org/release/0549aa69-e9bb-48ac-900d-7ee4844a616d\"&gt;0549aa69-e9bb-48ac-900d-7ee4844a616d&lt;/a&gt;</td>\n",
       "    </tr>\n",
       "  </tbody>\n",
       "</table>\n",
       "</div>"
      ],
      "text/plain": [
       "  catalog_number        barcode  \\\n",
       "1  454 909-2      028945490922    \n",
       "3  APR 5519       5024709155194   \n",
       "4  APR 6003       5024709160037   \n",
       "5  APR 7304       5024709173044   \n",
       "6  CDA20199       034571101996    \n",
       "\n",
       "                                                                    title  \\\n",
       "1  Missa Pange lingua / Missa La sol fa re mi / Plainchant: Pange lingua    \n",
       "3  Tchaikovsky: Piano Concerto no. 1 / Rachmaninov: Piano Concerto no. 3    \n",
       "4  The Complete Solo Recordings, 1929-1936 / Lalo: Symphonie espagnole      \n",
       "5  The Complete Solo Studio Recordings                                      \n",
       "6  Clarinet Concerto in A Major, K622 / Clarinet Quintet in A Major, K581   \n",
       "\n",
       "                                                                                                                    ac  \\\n",
       "1  Josquin; The Tallis Scholars, Peter Phillips                                                                          \n",
       "3  Pyotr Tchaikovsky, Sergei Rachmaninov; Vladimir Horowitz, New York Philharmonic Symphony Orchestra, John Barbirolli   \n",
       "4  Jacques Thibaud                                                                                                       \n",
       "5  Harriet Cohen                                                                                                         \n",
       "6  Wolfgang Amadeus Mozart; Thea King, English Chamber Orchestra, Jeffrey Tate, Gabrieli String Quartet                  \n",
       "\n",
       "                                label  quality  \\\n",
       "1  Gimell                             -1         \n",
       "3  Appian Publications and Recordings -1         \n",
       "4  Appian Publications and Recordings -1         \n",
       "5  Appian Publications and Recordings -1         \n",
       "6  hyperion                           -1         \n",
       "\n",
       "                                                                                                                hyperion_url  \\\n",
       "1  None                                                                                                                        \n",
       "3  <a href=\"http://www.hyperion-records.co.uk/dc.asp?dc=D_APR5519\">http://www.hyperion-records.co.uk/dc.asp?dc=D_APR5519</a>   \n",
       "4  None                                                                                                                        \n",
       "5  None                                                                                                                        \n",
       "6  None                                                                                                                        \n",
       "\n",
       "                                                                                                                    mb_url  \n",
       "1  <a href=\"https://musicbrainz.org/release/d9a9a334-aa0f-4007-8a9d-674eda037ca0\">d9a9a334-aa0f-4007-8a9d-674eda037ca0</a>  \n",
       "3  <a href=\"https://musicbrainz.org/release/31192ec6-6ea1-4f6e-b665-9b2a78e5f3fa\">31192ec6-6ea1-4f6e-b665-9b2a78e5f3fa</a>  \n",
       "4  <a href=\"https://musicbrainz.org/release/04bb6a06-6839-4e11-8b46-b7e5f2709180\">04bb6a06-6839-4e11-8b46-b7e5f2709180</a>  \n",
       "5  <a href=\"https://musicbrainz.org/release/e95bfeb1-6769-4134-bcda-728a32df16d9\">e95bfeb1-6769-4134-bcda-728a32df16d9</a>  \n",
       "6  <a href=\"https://musicbrainz.org/release/0549aa69-e9bb-48ac-900d-7ee4844a616d\">0549aa69-e9bb-48ac-900d-7ee4844a616d</a>  "
      ]
     },
     "execution_count": 19,
     "metadata": {},
     "output_type": "execute_result"
    }
   ],
   "source": [
    "barcodes_not_in_hyperion = set(mb_releases.barcode) - set(hyperion_releases.barcode) - {''} - {None}\n",
    "releases_not_in_hyperion = mb_releases[mb_releases.barcode.apply(lambda b: b in barcodes_not_in_hyperion)]\n",
    "releases_not_in_hyperion.head()"
   ]
  },
  {
   "cell_type": "code",
   "execution_count": 20,
   "metadata": {},
   "outputs": [],
   "source": [
    "with open('docs/hyperion_releases.html', 'a') as f:\n",
    "    f.write('<h2>Releases in MusicBrainz not found in Hyperion catalogue by barcode</h2>\\n')\n",
    "    f.write(releases_not_in_hyperion.to_html().replace('&lt;', '<').replace('&gt;', '>'))"
   ]
  },
  {
   "cell_type": "markdown",
   "metadata": {},
   "source": [
    "## Releases not in MusicBrainz"
   ]
  },
  {
   "cell_type": "code",
   "execution_count": 21,
   "metadata": {},
   "outputs": [],
   "source": [
    "barcodes_not_in_musicbrainz = set(hyperion_releases.barcode) - set(mb_releases.barcode)\n",
    "releases_not_in_mb = hyperion_releases[hyperion_releases.barcode.apply(lambda b: b in barcodes_not_in_musicbrainz)]"
   ]
  },
  {
   "cell_type": "code",
   "execution_count": 22,
   "metadata": {},
   "outputs": [],
   "source": [
    "with open('docs/hyperion_releases.html', 'a') as f:\n",
    "    f.write('<h2>Releases in Hyperion catalogue not found in MusicBrainz by barcode</h2>\\n')\n",
    "    f.write(releases_not_in_mb.to_html().replace('&lt;', '<').replace('&gt;', '>'))"
   ]
  }
 ],
 "metadata": {
  "kernelspec": {
   "display_name": "Python 3",
   "language": "python",
   "name": "python3"
  },
  "language_info": {
   "codemirror_mode": {
    "name": "ipython",
    "version": 3
   },
   "file_extension": ".py",
   "mimetype": "text/x-python",
   "name": "python",
   "nbconvert_exporter": "python",
   "pygments_lexer": "ipython3",
   "version": "3.6.4"
  }
 },
 "nbformat": 4,
 "nbformat_minor": 2
}
