{
 "cells": [
  {
   "cell_type": "markdown",
   "metadata": {},
   "source": [
    "# Pre-Classical Clean Up 4: Hyperion"
   ]
  },
  {
   "cell_type": "markdown",
   "metadata": {},
   "source": [
    "## MB local mirror status:"
   ]
  },
  {
   "cell_type": "code",
   "execution_count": 1,
   "metadata": {
    "collapsed": false
   },
   "outputs": [
    {
     "data": {
      "text/html": [
       "<div>\n",
       "<table border=\"1\" class=\"dataframe\">\n",
       "  <thead>\n",
       "    <tr style=\"text-align: right;\">\n",
       "      <th></th>\n",
       "      <th>latest_edit</th>\n",
       "    </tr>\n",
       "  </thead>\n",
       "  <tbody>\n",
       "    <tr>\n",
       "      <th>0</th>\n",
       "      <td>2017-11-03 17:32:22.259159+00:00</td>\n",
       "    </tr>\n",
       "  </tbody>\n",
       "</table>\n",
       "</div>"
      ],
      "text/plain": [
       "                       latest_edit\n",
       "0 2017-11-03 17:32:22.259159+00:00"
      ]
     },
     "execution_count": 1,
     "metadata": {},
     "output_type": "execute_result"
    }
   ],
   "source": [
    "sql(\"\"\"SELECT open_time AS latest_edit FROM edit ORDER BY id DESC LIMIT 1;\"\"\")"
   ]
  },
  {
   "cell_type": "markdown",
   "metadata": {},
   "source": [
    "So I haven't updated my database since early November 2017"
   ]
  },
  {
   "cell_type": "code",
   "execution_count": 2,
   "metadata": {
    "collapsed": false
   },
   "outputs": [],
   "source": [
    "import pandas as pd\n",
    "pd.set_option('display.max_colwidth', -1)"
   ]
  },
  {
   "cell_type": "code",
   "execution_count": null,
   "metadata": {
    "collapsed": false
   },
   "outputs": [],
   "source": [
    "import plotly.graph_objs as go\n",
    "import plotly.figure_factory as ff\n",
    "\n",
    "# offline mode for plot.ly, no need to store the graphs in their cloud\n",
    "from plotly.offline import iplot\n",
    "\n",
    "# special mode to display plotly graphs inside Jupyter notebooks\n",
    "from plotly.offline import init_notebook_mode\n",
    "init_notebook_mode()"
   ]
  },
  {
   "cell_type": "code",
   "execution_count": 3,
   "metadata": {
    "collapsed": false
   },
   "outputs": [
    {
     "data": {
      "text/html": [
       "<div>\n",
       "<table border=\"1\" class=\"dataframe\">\n",
       "  <thead>\n",
       "    <tr style=\"text-align: right;\">\n",
       "      <th></th>\n",
       "      <th>id</th>\n",
       "      <th>gid</th>\n",
       "      <th>name</th>\n",
       "      <th>comment</th>\n",
       "    </tr>\n",
       "  </thead>\n",
       "  <tbody>\n",
       "    <tr>\n",
       "      <th>0</th>\n",
       "      <td>388</td>\n",
       "      <td>08e6c3c8-81ab-405f-9cff-10f6b8db064c</td>\n",
       "      <td>hyperion</td>\n",
       "      <td>UK classical</td>\n",
       "    </tr>\n",
       "  </tbody>\n",
       "</table>\n",
       "</div>"
      ],
      "text/plain": [
       "    id                                   gid      name       comment\n",
       "0  388  08e6c3c8-81ab-405f-9cff-10f6b8db064c  hyperion  UK classical"
      ]
     },
     "execution_count": 3,
     "metadata": {},
     "output_type": "execute_result"
    }
   ],
   "source": [
    "sql(\"\"\"SELECT id, gid, name, comment FROM label WHERE name='hyperion';\"\"\")"
   ]
  },
  {
   "cell_type": "code",
   "execution_count": 4,
   "metadata": {
    "collapsed": false
   },
   "outputs": [],
   "source": [
    "mb_releases = sql(\"\"\"\n",
    "SELECT rl.catalog_number, release.barcode, release.name, release.gid AS mbid\n",
    "  FROM release_label AS rl\n",
    "  JOIN release       ON rl.release = release.id\n",
    "  JOIN label         ON rl.label = label.id\n",
    " WHERE label.name = 'hyperion'\n",
    "ORDER BY rl.catalog_number, release.barcode;\n",
    "\"\"\")\n",
    "mb_releases['mb_url'] = mb_releases.mbid.apply(mb_release_link)\n",
    "del mb_releases['mbid']"
   ]
  },
  {
   "cell_type": "code",
   "execution_count": null,
   "metadata": {
    "collapsed": false
   },
   "outputs": [],
   "source": [
    "#iplot(ff.create_table(mb_releases[:10]))\n",
    "mb_releases[:10]"
   ]
  },
  {
   "cell_type": "code",
   "execution_count": 5,
   "metadata": {
    "collapsed": false
   },
   "outputs": [],
   "source": [
    "with pd.option_context('display.max_colwidth', -1):\n",
    "    html = mb_releases.to_html()\n",
    "    \n",
    "with open('hyperion_releases.html', 'w') as f:\n",
    "    f.write('<h1>Pre-Classical Clean Up #4</h1>\\n')\n",
    "    f.write('<h2>Hyperion releases in MusicBrainz</h2>\\n')\n",
    "    f.write(html.replace('&lt;', '<').replace('&gt;', '>'))"
   ]
  },
  {
   "cell_type": "markdown",
   "metadata": {},
   "source": [
    "## Hyperion releases with no catalogue number in MB"
   ]
  },
  {
   "cell_type": "code",
   "execution_count": null,
   "metadata": {
    "collapsed": false
   },
   "outputs": [],
   "source": [
    "sql(\"\"\"\n",
    "SELECT release.name,\n",
    "       'http://musicbrainz.org/release/' || release.gid AS url\n",
    "  FROM release_label AS rl\n",
    "  JOIN release       ON rl.release = release.id\n",
    "  JOIN label         ON rl.label = label.id\n",
    " WHERE label.name = 'hyperion'\n",
    "   AND rl.catalog_number IS NULL\n",
    "ORDER BY rl.catalog_number;\n",
    "\"\"\")"
   ]
  },
  {
   "cell_type": "markdown",
   "metadata": {},
   "source": [
    "# Hyperion catalogue"
   ]
  },
  {
   "cell_type": "code",
   "execution_count": 6,
   "metadata": {
    "collapsed": false
   },
   "outputs": [],
   "source": [
    "hyperion_releases = pd.read_html('https://www.hyperion-records.co.uk/n.asp?n=1')[0][:-1]\n",
    "\n",
    "hyperion_releases.rename(columns={0: 'catalog_number', 1: 'name'}, inplace=True)\n",
    "hyperion_releases['barcode'] = hyperion_releases.name.str[-12:]\n",
    "hyperion_releases['name'] = hyperion_releases.name.str[:-12]\n",
    "hyperion_releases['url'] = hyperion_releases.catalog_number.apply(\n",
    "    lambda no: '<a href=\"https://www.hyperion-records.co.uk/dc.asp?dc=D_{0}\">{0}</a>'.format(no)) "
   ]
  },
  {
   "cell_type": "code",
   "execution_count": 7,
   "metadata": {
    "collapsed": false
   },
   "outputs": [
    {
     "data": {
      "text/html": [
       "<div>\n",
       "<table border=\"1\" class=\"dataframe\">\n",
       "  <thead>\n",
       "    <tr style=\"text-align: right;\">\n",
       "      <th></th>\n",
       "      <th>catalog_number</th>\n",
       "      <th>name</th>\n",
       "      <th>barcode</th>\n",
       "      <th>url</th>\n",
       "    </tr>\n",
       "  </thead>\n",
       "  <tbody>\n",
       "    <tr>\n",
       "      <th>0</th>\n",
       "      <td>1EMBNB</td>\n",
       "      <td>Jack: Black and Blue</td>\n",
       "      <td>034571100708</td>\n",
       "      <td>&lt;a href=\"https://www.hyperion-records.co.uk/dc.asp?dc=D_1EMBNB\"&gt;1EMBNB&lt;/a&gt;</td>\n",
       "    </tr>\n",
       "    <tr>\n",
       "      <th>1</th>\n",
       "      <td>1EMHDUS</td>\n",
       "      <td>Harmonies d'un Soir</td>\n",
       "      <td>034571100753</td>\n",
       "      <td>&lt;a href=\"https://www.hyperion-records.co.uk/dc.asp?dc=D_1EMHDUS\"&gt;1EMHDUS&lt;/a&gt;</td>\n",
       "    </tr>\n",
       "    <tr>\n",
       "      <th>2</th>\n",
       "      <td>1EMIPM08</td>\n",
       "      <td>Pitts J: Airs &amp; Fantasias</td>\n",
       "      <td>034571100678</td>\n",
       "      <td>&lt;a href=\"https://www.hyperion-records.co.uk/dc.asp?dc=D_1EMIPM08\"&gt;1EMIPM08&lt;/a&gt;</td>\n",
       "    </tr>\n",
       "    <tr>\n",
       "      <th>3</th>\n",
       "      <td>1EMJ2O</td>\n",
       "      <td>Pitts: Jerusalem-Yerushalayim Superseded by 1EMJOY</td>\n",
       "      <td>034571100647</td>\n",
       "      <td>&lt;a href=\"https://www.hyperion-records.co.uk/dc.asp?dc=D_1EMJ2O\"&gt;1EMJ2O&lt;/a&gt;</td>\n",
       "    </tr>\n",
       "    <tr>\n",
       "      <th>4</th>\n",
       "      <td>1EMJOY</td>\n",
       "      <td>Pitts: Jerusalem-Yerushalayim</td>\n",
       "      <td>034571101460</td>\n",
       "      <td>&lt;a href=\"https://www.hyperion-records.co.uk/dc.asp?dc=D_1EMJOY\"&gt;1EMJOY&lt;/a&gt;</td>\n",
       "    </tr>\n",
       "  </tbody>\n",
       "</table>\n",
       "</div>"
      ],
      "text/plain": [
       "  catalog_number                                                name  \\\n",
       "0  1EMBNB         Jack: Black and Blue                                 \n",
       "1  1EMHDUS        Harmonies d'un Soir                                  \n",
       "2  1EMIPM08       Pitts J: Airs & Fantasias                            \n",
       "3  1EMJ2O         Pitts: Jerusalem-Yerushalayim Superseded by 1EMJOY   \n",
       "4  1EMJOY         Pitts: Jerusalem-Yerushalayim                        \n",
       "\n",
       "        barcode  \\\n",
       "0  034571100708   \n",
       "1  034571100753   \n",
       "2  034571100678   \n",
       "3  034571100647   \n",
       "4  034571101460   \n",
       "\n",
       "                                                                              url  \n",
       "0  <a href=\"https://www.hyperion-records.co.uk/dc.asp?dc=D_1EMBNB\">1EMBNB</a>      \n",
       "1  <a href=\"https://www.hyperion-records.co.uk/dc.asp?dc=D_1EMHDUS\">1EMHDUS</a>    \n",
       "2  <a href=\"https://www.hyperion-records.co.uk/dc.asp?dc=D_1EMIPM08\">1EMIPM08</a>  \n",
       "3  <a href=\"https://www.hyperion-records.co.uk/dc.asp?dc=D_1EMJ2O\">1EMJ2O</a>      \n",
       "4  <a href=\"https://www.hyperion-records.co.uk/dc.asp?dc=D_1EMJOY\">1EMJOY</a>      "
      ]
     },
     "execution_count": 7,
     "metadata": {},
     "output_type": "execute_result"
    }
   ],
   "source": [
    "hyperion_releases.head()"
   ]
  },
  {
   "cell_type": "code",
   "execution_count": 8,
   "metadata": {
    "collapsed": true
   },
   "outputs": [],
   "source": [
    "with pd.option_context('display.max_colwidth', -1):\n",
    "    html = hyperion_releases.to_html()\n",
    "    \n",
    "with open('hyperion_releases.html', 'a') as f:\n",
    "    f.write('<h2>Hyperion releases in Hyperion catalogue</h2>\\n')\n",
    "    f.write(html.replace('&lt;', '<').replace('&gt;', '>'))"
   ]
  },
  {
   "cell_type": "markdown",
   "metadata": {},
   "source": [
    "## Barcodes in MusicBrainz not found in Hyperion"
   ]
  },
  {
   "cell_type": "code",
   "execution_count": 9,
   "metadata": {
    "collapsed": false
   },
   "outputs": [
    {
     "data": {
      "text/html": [
       "<div>\n",
       "<table border=\"1\" class=\"dataframe\">\n",
       "  <thead>\n",
       "    <tr style=\"text-align: right;\">\n",
       "      <th></th>\n",
       "      <th>catalog_number</th>\n",
       "      <th>barcode</th>\n",
       "      <th>name</th>\n",
       "      <th>mb_url</th>\n",
       "    </tr>\n",
       "  </thead>\n",
       "  <tbody>\n",
       "    <tr>\n",
       "      <th>20</th>\n",
       "      <td>CDA20021</td>\n",
       "      <td>034571101217</td>\n",
       "      <td>Sacred Vocal Music (The Parley of Instruments)</td>\n",
       "      <td>&lt;a href=\"https://musicbrainz.org//release/19d5fb58-d0cb-44ce-b73e-6a02a0768404\"&gt;19d5fb58-d0cb-44ce-b73e-6a02a0768404&lt;/a&gt;</td>\n",
       "    </tr>\n",
       "    <tr>\n",
       "      <th>21</th>\n",
       "      <td>CDA20199</td>\n",
       "      <td>034571101996</td>\n",
       "      <td>Clarinet Concerto in A Major, K622 / Clarinet Quintet in A Major, K581</td>\n",
       "      <td>&lt;a href=\"https://musicbrainz.org//release/0549aa69-e9bb-48ac-900d-7ee4844a616d\"&gt;0549aa69-e9bb-48ac-900d-7ee4844a616d&lt;/a&gt;</td>\n",
       "    </tr>\n",
       "    <tr>\n",
       "      <th>22</th>\n",
       "      <td>CDA20276</td>\n",
       "      <td>034571102764</td>\n",
       "      <td>String Sextets</td>\n",
       "      <td>&lt;a href=\"https://musicbrainz.org//release/48b482a5-c7cc-4b6a-814d-b290f01d4579\"&gt;48b482a5-c7cc-4b6a-814d-b290f01d4579&lt;/a&gt;</td>\n",
       "    </tr>\n",
       "    <tr>\n",
       "      <th>23</th>\n",
       "      <td>CDA20294</td>\n",
       "      <td>034571102948</td>\n",
       "      <td>Stabat Mater / Salve Regina / In Caelestibus Regnis</td>\n",
       "      <td>&lt;a href=\"https://musicbrainz.org//release/fa3e18b5-adf1-48a9-ac3f-0a834b3136a3\"&gt;fa3e18b5-adf1-48a9-ac3f-0a834b3136a3&lt;/a&gt;</td>\n",
       "    </tr>\n",
       "    <tr>\n",
       "      <th>24</th>\n",
       "      <td>CDA20450</td>\n",
       "      <td>034571104508</td>\n",
       "      <td>Celtic Symphony / Hebridean Symphony / The Witch of Atlas / The Sea Reivers</td>\n",
       "      <td>&lt;a href=\"https://musicbrainz.org//release/002a59f0-b93d-3343-9985-5108f6f45f99\"&gt;002a59f0-b93d-3343-9985-5108f6f45f99&lt;/a&gt;</td>\n",
       "    </tr>\n",
       "  </tbody>\n",
       "</table>\n",
       "</div>"
      ],
      "text/plain": [
       "   catalog_number       barcode  \\\n",
       "20  CDA20021       034571101217   \n",
       "21  CDA20199       034571101996   \n",
       "22  CDA20276       034571102764   \n",
       "23  CDA20294       034571102948   \n",
       "24  CDA20450       034571104508   \n",
       "\n",
       "                                                                           name  \\\n",
       "20  Sacred Vocal Music (The Parley of Instruments)                                \n",
       "21  Clarinet Concerto in A Major, K622 / Clarinet Quintet in A Major, K581        \n",
       "22  String Sextets                                                                \n",
       "23  Stabat Mater / Salve Regina / In Caelestibus Regnis                           \n",
       "24  Celtic Symphony / Hebridean Symphony / The Witch of Atlas / The Sea Reivers   \n",
       "\n",
       "                                                                                                                      mb_url  \n",
       "20  <a href=\"https://musicbrainz.org//release/19d5fb58-d0cb-44ce-b73e-6a02a0768404\">19d5fb58-d0cb-44ce-b73e-6a02a0768404</a>  \n",
       "21  <a href=\"https://musicbrainz.org//release/0549aa69-e9bb-48ac-900d-7ee4844a616d\">0549aa69-e9bb-48ac-900d-7ee4844a616d</a>  \n",
       "22  <a href=\"https://musicbrainz.org//release/48b482a5-c7cc-4b6a-814d-b290f01d4579\">48b482a5-c7cc-4b6a-814d-b290f01d4579</a>  \n",
       "23  <a href=\"https://musicbrainz.org//release/fa3e18b5-adf1-48a9-ac3f-0a834b3136a3\">fa3e18b5-adf1-48a9-ac3f-0a834b3136a3</a>  \n",
       "24  <a href=\"https://musicbrainz.org//release/002a59f0-b93d-3343-9985-5108f6f45f99\">002a59f0-b93d-3343-9985-5108f6f45f99</a>  "
      ]
     },
     "execution_count": 9,
     "metadata": {},
     "output_type": "execute_result"
    }
   ],
   "source": [
    "barcodes_not_in_hyperion = set(mb_releases.barcode) - set(hyperion_releases.barcode) - {''} - {None}\n",
    "releases_not_in_hyperion = mb_releases[mb_releases.barcode.apply(lambda b: b in barcodes_not_in_hyperion)]\n",
    "releases_not_in_hyperion.head()"
   ]
  },
  {
   "cell_type": "code",
   "execution_count": 10,
   "metadata": {
    "collapsed": true
   },
   "outputs": [],
   "source": [
    "with pd.option_context('display.max_colwidth', -1):\n",
    "    html = releases_not_in_hyperion.to_html()\n",
    "    \n",
    "with open('hyperion_releases.html', 'a') as f:\n",
    "    f.write('<h2>Releases in MusicBrainz not found in Hyperion catalogue by barcode</h2>\\n')\n",
    "    f.write(html.replace('&lt;', '<').replace('&gt;', '>'))"
   ]
  },
  {
   "cell_type": "markdown",
   "metadata": {},
   "source": [
    "## Releases not in MusicBrainz"
   ]
  },
  {
   "cell_type": "code",
   "execution_count": 11,
   "metadata": {
    "collapsed": false
   },
   "outputs": [],
   "source": [
    "barcodes_not_in_musicbrainz = set(hyperion_releases.barcode) - set(mb_releases.barcode)\n",
    "releases_not_in_mb = hyperion_releases[hyperion_releases.barcode.apply(lambda b: b in barcodes_not_in_musicbrainz)]"
   ]
  },
  {
   "cell_type": "code",
   "execution_count": 12,
   "metadata": {
    "collapsed": false
   },
   "outputs": [],
   "source": [
    "with pd.option_context('display.max_colwidth', -1):\n",
    "    html = releases_not_in_mb.to_html()\n",
    "    \n",
    "with open('hyperion_releases.html', 'a') as f:\n",
    "    f.write('<h2>Releases in Hyperion catalogue not found in MusicBrainz by barcode</h2>\\n')\n",
    "    f.write(html.replace('&lt;', '<').replace('&gt;', '>'))"
   ]
  }
 ],
 "metadata": {
  "kernelspec": {
   "display_name": "Python 3",
   "language": "python",
   "name": "python3"
  },
  "language_info": {
   "codemirror_mode": {
    "name": "ipython",
    "version": 3
   },
   "file_extension": ".py",
   "mimetype": "text/x-python",
   "name": "python",
   "nbconvert_exporter": "python",
   "pygments_lexer": "ipython3",
   "version": "3.5.4"
  }
 },
 "nbformat": 4,
 "nbformat_minor": 2
}
