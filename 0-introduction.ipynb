{
 "cells": [
  {
   "cell_type": "markdown",
   "metadata": {},
   "source": [
    "# Visualizing MusicBrainz data with Python/JS, an introduction"
   ]
  },
  {
   "cell_type": "markdown",
   "metadata": {},
   "source": [
    "I intend to use this [repository](https://bitbucket.org/loujine/musicbrainz-dataviz) ([github mirror](https://github.com/loujine/musicbrainz-dataviz)) to store [notebooks](https://jupyter-notebook-beginner-guide.readthedocs.io/en/latest/what_is_jupyter.html) presenting some examples of data manipulation and visualisation using a copy of the [MusicBrainz](https://musicbrainz.org) database.\n",
    "\n",
    "This introductory notebook will explain how I get database from MusicBrainz and how I transform it to Python format for display in tables or plots.\n",
    "\n",
    "A static HTML version of this notebook and the next ones should be available on [github.io](https://loujine.github.io/musicbrainz-dataviz/)."
   ]
  },
  {
   "cell_type": "markdown",
   "metadata": {},
   "source": [
    "Prerequisites: having PostgreSQL to store the database (or being able to create virtual machines that will run PostgreSQL). I will use Python to manipulate the data but you can probably do the same in other languages. I will not go into details on how I build the SQL queries to fetch the data, you will need to look into the MusicBrainz schema if you try something too different from my examples."
   ]
  },
  {
   "cell_type": "markdown",
   "metadata": {},
   "source": [
    "## Getting the MusicBrainz data"
   ]
  },
  {
   "cell_type": "markdown",
   "metadata": {},
   "source": [
    "The first step is to get a local copy of the MusicBrainz database in order to make direct queries to it without going through the website or or webservice (which doesn't give the possibility to write complex queries).\n",
    "\n",
    "The [raw data](https://musicbrainz.org/doc/MusicBrainz_Database/Download) itself is available for download and the files are updated twice a week. As of early 2017 the database zipped files to download are close to 2.5Gb.\n",
    "\n",
    "Several possibilities exist to build the database locally, using the raw data above. I'm only explaining the basics here:\n",
    "\n",
    "* if you already have or can have PostgreSQL installed (MusicBrainz uses version 9.5 for the moment) on your machine, you can use the [mbslave](https://bitbucket.org/lalinsky/mbslave) project that will recreate the database structure on your machine. You will also be able to synchronise your database and fetch the latest changes when you want.\n",
    "\n",
    "* another possibility is to use virtual machines to store the database and create a local copy of the website also (this is **not** required for what I intend to show here). I'm using the [musicbrainz-docker](https://github.com/metabrainz/musicbrainz-docker) project that uses Docker to create several machines for the different MusicBrainz components (database, website, search)\n",
    "\n",
    "In both cases you should expect to download several Gb of data and need several Gb of RAM to have the postgreSQL database running smoothly."
   ]
  },
  {
   "cell_type": "markdown",
   "metadata": {},
   "source": [
    "## Customize the database"
   ]
  },
  {
   "cell_type": "markdown",
   "metadata": {},
   "source": [
    "Note: this step is again *absolutely **not** required*. It also increases a lot the space you need to run the database (the new dump you need to download is 4Gb large).\n",
    "\n",
    "In my case, I want to explore metadata about the data modifications, _i.e._ the edits performed by MusicBrainz contributors. In order to do so I had to download also the mbdump-edit.tar.bz2 and mbdump-editor.tar.bz2 and add them to the local database build process (I did that by patching the createdb.sh script in musicbrainz-docker)."
   ]
  },
  {
   "cell_type": "markdown",
   "metadata": {},
   "source": [
    "## Python toolbox"
   ]
  },
  {
   "cell_type": "markdown",
   "metadata": {},
   "source": [
    "For data analysis I will use Python3 libraries:\n",
    "- PanDas for manipulating data as tables\n",
    "- psycopg2 and sqlalchemy to access the SQL database\n",
    "- plotly for plots"
   ]
  },
  {
   "cell_type": "code",
   "execution_count": 1,
   "metadata": {
    "collapsed": false
   },
   "outputs": [
    {
     "data": {
      "application/json": {
       "Software versions": [
        {
         "module": "Python",
         "version": "3.5.3+ 64bit [GCC 6.3.0 20170516]"
        },
        {
         "module": "IPython",
         "version": "5.1.0"
        },
        {
         "module": "OS",
         "version": "Linux 4.9.0 3 amd64 x86_64 with debian buster sid"
        },
        {
         "module": "psycopg2",
         "version": "2.7.1 (dt dec pq3 ext lo64)"
        },
        {
         "module": "pandas",
         "version": "0.19.2"
        },
        {
         "module": "sqlalchemy",
         "version": "1.1.11"
        },
        {
         "module": "plotly",
         "version": "2.0.7"
        }
       ]
      },
      "text/html": [
       "<table><tr><th>Software</th><th>Version</th></tr><tr><td>Python</td><td>3.5.3+ 64bit [GCC 6.3.0 20170516]</td></tr><tr><td>IPython</td><td>5.1.0</td></tr><tr><td>OS</td><td>Linux 4.9.0 3 amd64 x86_64 with debian buster sid</td></tr><tr><td>psycopg2</td><td>2.7.1 (dt dec pq3 ext lo64)</td></tr><tr><td>pandas</td><td>0.19.2</td></tr><tr><td>sqlalchemy</td><td>1.1.11</td></tr><tr><td>plotly</td><td>2.0.7</td></tr><tr><td colspan='2'>Fri Jul 07 00:25:24 2017 GMT</td></tr></table>"
      ],
      "text/latex": [
       "\\begin{tabular}{|l|l|}\\hline\n",
       "{\\bf Software} & {\\bf Version} \\\\ \\hline\\hline\n",
       "Python & 3.5.3+ 64bit [GCC 6.3.0 20170516] \\\\ \\hline\n",
       "IPython & 5.1.0 \\\\ \\hline\n",
       "OS & Linux 4.9.0 3 amd64 x86\\_64 with debian buster sid \\\\ \\hline\n",
       "psycopg2 & 2.7.1 (dt dec pq3 ext lo64) \\\\ \\hline\n",
       "pandas & 0.19.2 \\\\ \\hline\n",
       "sqlalchemy & 1.1.11 \\\\ \\hline\n",
       "plotly & 2.0.7 \\\\ \\hline\n",
       "\\hline \\multicolumn{2}{|l|}{Fri Jul 07 00:25:24 2017 GMT} \\\\ \\hline\n",
       "\\end{tabular}\n"
      ],
      "text/plain": [
       "Software versions\n",
       "Python 3.5.3+ 64bit [GCC 6.3.0 20170516]\n",
       "IPython 5.1.0\n",
       "OS Linux 4.9.0 3 amd64 x86_64 with debian buster sid\n",
       "psycopg2 2.7.1 (dt dec pq3 ext lo64)\n",
       "pandas 0.19.2\n",
       "sqlalchemy 1.1.11\n",
       "plotly 2.0.7\n",
       "Fri Jul 07 00:25:24 2017 GMT"
      ]
     },
     "execution_count": 1,
     "metadata": {},
     "output_type": "execute_result"
    }
   ],
   "source": [
    "%load_ext version_information\n",
    "%version_information psycopg2, pandas, sqlalchemy, plotly"
   ]
  },
  {
   "cell_type": "markdown",
   "metadata": {},
   "source": [
    "## Accessing the database from Python"
   ]
  },
  {
   "cell_type": "markdown",
   "metadata": {},
   "source": [
    "Once the local database is set I can access it using e.g. Python with the psycopg2 library to perform SQL queries. Let's try a simple query."
   ]
  },
  {
   "cell_type": "markdown",
   "metadata": {},
   "source": [
    "With musicbrainz-docker, my database is on a virtual machine. I can access it from my main machine by setting the following parameters:"
   ]
  },
  {
   "cell_type": "code",
   "execution_count": 2,
   "metadata": {
    "collapsed": true
   },
   "outputs": [],
   "source": [
    "import psycopg2\n",
    "# define global variables to store our DB credentials\n",
    "PGHOST = \"192.168.11.3\"\n",
    "PGDATABASE = \"musicbrainz\"\n",
    "PGUSER = \"musicbrainz\"\n",
    "PGPASSWORD = \"musicbrainz\""
   ]
  },
  {
   "cell_type": "markdown",
   "metadata": {},
   "source": [
    "Of course your parameters (especially IP) might be different from mine."
   ]
  },
  {
   "cell_type": "markdown",
   "metadata": {},
   "source": [
    "In order to simplify this procedure I developed a new [branch](https://github.com/loujine/musicbrainz-docker/tree/master/indexer-dockerfile) in the [musicbrainz-docker](https://github.com/loujine/musicbrainz-docker) project that creates a Jupyter VM. If you use this branch, you don't need to set the parameters above, they are set when you start your notebook."
   ]
  },
  {
   "cell_type": "markdown",
   "metadata": {},
   "source": [
    "We need to define a SQL query as a Python string that psycopg2 will send to our database"
   ]
  },
  {
   "cell_type": "code",
   "execution_count": 3,
   "metadata": {
    "collapsed": true
   },
   "outputs": [],
   "source": [
    "sql_beethoven = \"\"\"\n",
    "SELECT gid, name, begin_date_year, end_date_year \n",
    "  FROM artist \n",
    " WHERE name='Ludwig van Beethoven'\n",
    "\"\"\""
   ]
  },
  {
   "cell_type": "markdown",
   "metadata": {},
   "source": [
    "Let's apply our query"
   ]
  },
  {
   "cell_type": "code",
   "execution_count": 4,
   "metadata": {
    "collapsed": false
   },
   "outputs": [
    {
     "name": "stdout",
     "output_type": "stream",
     "text": [
      "('1f9df192-a621-4f54-8850-2c5373b7eac9', 'Ludwig van Beethoven', 1770, 1827)\n"
     ]
    }
   ],
   "source": [
    "with psycopg2.connect(host=PGHOST, database=PGDATABASE, \n",
    "                      user=PGUSER, password=PGPASSWORD) as cnx:\n",
    "    crs = cnx.cursor()\n",
    "    crs.execute(sql_beethoven)\n",
    "    for result in crs:\n",
    "        print(result)"
   ]
  },
  {
   "cell_type": "markdown",
   "metadata": {},
   "source": [
    "We got one result! So that means the correct Ludwig van Beethoven (1770-1828) exists in the MusicBrainz database. I also extracted his [MBID](https://musicbrainz.org/doc/MusicBrainz_Identifier) (unique identifier) so that you can check Beethoven's page is available on the [main musicbrainz server](https://musicbrainz.org/artist/1f9df192-a621-4f54-8850-2c5373b7eac9)."
   ]
  },
  {
   "cell_type": "markdown",
   "metadata": {},
   "source": [
    "If you only want to manipulate basic data as Python strings and numbers, that's all you need, and you can start writing other queries."
   ]
  },
  {
   "cell_type": "markdown",
   "metadata": {},
   "source": [
    "But in my case I want to do more complex stuff on the data, so I want to use another Python library that will help me to manipulate and plot the data. I'm going to use PanDas for that."
   ]
  },
  {
   "cell_type": "markdown",
   "metadata": {},
   "source": [
    "## Using PanDas to manipulate data"
   ]
  },
  {
   "cell_type": "markdown",
   "metadata": {},
   "source": [
    "The [PanDas](http://pandas.pydata.org/) library allows manipulations of complex data in Python as Series or DataFrames. It also integrates some of the matplotlib plotting library capabilities directly on the DataFrames object. Let's do the same query as earlier using pandas:"
   ]
  },
  {
   "cell_type": "code",
   "execution_count": 5,
   "metadata": {
    "collapsed": false
   },
   "outputs": [],
   "source": [
    "# pandas SQL query require an sqlalchemy engine object\n",
    "# rather than the direct psycopg2 connection\n",
    "import sqlalchemy\n",
    "import pandas\n",
    "engine = sqlalchemy.create_engine(\n",
    "   'postgresql+psycopg2://{PGUSER}:{PGPASSWORD}@{PGHOST}/{PGDATABASE}'.format(**locals()),\n",
    "    isolation_level='READ UNCOMMITTED'\n",
    ")"
   ]
  },
  {
   "cell_type": "code",
   "execution_count": 6,
   "metadata": {
    "collapsed": false
   },
   "outputs": [
    {
     "data": {
      "text/html": [
       "<div>\n",
       "<table border=\"1\" class=\"dataframe\">\n",
       "  <thead>\n",
       "    <tr style=\"text-align: right;\">\n",
       "      <th></th>\n",
       "      <th>gid</th>\n",
       "      <th>name</th>\n",
       "      <th>begin_date_year</th>\n",
       "      <th>end_date_year</th>\n",
       "    </tr>\n",
       "  </thead>\n",
       "  <tbody>\n",
       "    <tr>\n",
       "      <th>0</th>\n",
       "      <td>1f9df192-a621-4f54-8850-2c5373b7eac9</td>\n",
       "      <td>Ludwig van Beethoven</td>\n",
       "      <td>1770</td>\n",
       "      <td>1827</td>\n",
       "    </tr>\n",
       "  </tbody>\n",
       "</table>\n",
       "</div>"
      ],
      "text/plain": [
       "                                    gid                  name  \\\n",
       "0  1f9df192-a621-4f54-8850-2c5373b7eac9  Ludwig van Beethoven   \n",
       "\n",
       "   begin_date_year  end_date_year  \n",
       "0             1770           1827  "
      ]
     },
     "execution_count": 6,
     "metadata": {},
     "output_type": "execute_result"
    }
   ],
   "source": [
    "pandas.read_sql(sql_beethoven, engine)"
   ]
  },
  {
   "cell_type": "markdown",
   "metadata": {},
   "source": [
    "So we got (of course) the same result, as a pandas table (DataFrame). This makes it easier to apply the same operation or filter along one column when we will have several thousands of lines in our results. Calling pandas `read_sql` function makes also our calls to PostgreSQL slightly easier to write."
   ]
  },
  {
   "cell_type": "markdown",
   "metadata": {},
   "source": [
    "## Exploring the MusicBrainz database"
   ]
  },
  {
   "cell_type": "markdown",
   "metadata": {},
   "source": [
    "The next notebooks will show examples of queries to extract and visualize data. If you want to write your own queries, you should look at the MusicBrainz database schema by reading the [documentation](https://musicbrainz.org/doc/MusicBrainz_Database/Schema)."
   ]
  }
 ],
 "metadata": {
  "kernelspec": {
   "display_name": "Python 3",
   "language": "python",
   "name": "python3"
  },
  "language_info": {
   "codemirror_mode": {
    "name": "ipython",
    "version": 3
   },
   "file_extension": ".py",
   "mimetype": "text/x-python",
   "name": "python",
   "nbconvert_exporter": "python",
   "pygments_lexer": "ipython3",
   "version": "3.5.3+"
  }
 },
 "nbformat": 4,
 "nbformat_minor": 2
}
