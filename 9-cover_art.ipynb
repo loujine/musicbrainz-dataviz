{
 "cells": [
  {
   "cell_type": "markdown",
   "metadata": {},
   "source": [
    "# Cover art archive & release group timeline"
   ]
  },
  {
   "cell_type": "code",
   "execution_count": 1,
   "metadata": {
    "collapsed": true
   },
   "outputs": [],
   "source": [
    "from pprint import pprint\n",
    "import pandas\n",
    "import sqlalchemy\n",
    "\n",
    "# your postgres server IP\n",
    "IP = '127.0.0.1'\n",
    "\n",
    "def sql(query, **params):\n",
    "    \"\"\"helper function for SQL queries using the %(...) syntax\n",
    "    Parameters defined globally are replaced implicitely\"\"\"\n",
    "\n",
    "    # define DB connection parameters if needed\n",
    "    PGHOST = globals().get('PGHOST', IP)\n",
    "    PGDATABASE = globals().get('PGDATABASE', 'musicbrainz')\n",
    "    PGUSER = globals().get('PGUSER', 'musicbrainz')\n",
    "    PGPASSWORD = globals().get('PGPASSWORD', 'musicbrainz')\n",
    "    engine = sqlalchemy.create_engine(\n",
    "       'postgresql+psycopg2://%(PGUSER)s:%(PGPASSWORD)s@%(PGHOST)s/%(PGDATABASE)s' % locals(),\n",
    "        isolation_level='READ UNCOMMITTED')\n",
    "    return pandas.read_sql(query, engine, params=params)\n",
    "\n",
    "# helper functions to generate an HTML link to an entity MusicBrainz URL\n",
    "def _mb_link(type, mbid, name=None):\n",
    "    if name is None:\n",
    "        name = mbid\n",
    "    return '<a href=\"https://musicbrainz.org/%(type)s/%(mbid)s\">%(name)s</a>' % locals()\n",
    "\n",
    "mb_release_link = lambda mbid: _mb_link('release', mbid)"
   ]
  },
  {
   "cell_type": "code",
   "execution_count": 2,
   "metadata": {
    "collapsed": true
   },
   "outputs": [],
   "source": [
    "performer_name = 'Dino Ciani'"
   ]
  },
  {
   "cell_type": "code",
   "execution_count": 3,
   "metadata": {
    "collapsed": false
   },
   "outputs": [
    {
     "data": {
      "text/html": [
       "<div>\n",
       "<table border=\"1\" class=\"dataframe\">\n",
       "  <thead>\n",
       "    <tr style=\"text-align: right;\">\n",
       "      <th></th>\n",
       "      <th>album</th>\n",
       "      <th>artists</th>\n",
       "      <th>date</th>\n",
       "      <th>mbid</th>\n",
       "    </tr>\n",
       "  </thead>\n",
       "  <tbody>\n",
       "    <tr>\n",
       "      <th>0</th>\n",
       "      <td>Préludes / Suite bergamasque / Pour le piano</td>\n",
       "      <td>Debussy; Dino Ciani, Tamás Vásáry</td>\n",
       "      <td>1997-01-01</td>\n",
       "      <td>b02fc3e7-aee9-4b90-bbb3-00f0109742d4</td>\n",
       "    </tr>\n",
       "    <tr>\n",
       "      <th>1</th>\n",
       "      <td>Suite bergamasque / 12 Préludes</td>\n",
       "      <td>Claude Debussy; Tamás Vásáry, Dino Ciani</td>\n",
       "      <td>1994-07-05</td>\n",
       "      <td>039ff6a3-88dc-4c7f-ae68-54374b032121</td>\n",
       "    </tr>\n",
       "  </tbody>\n",
       "</table>\n",
       "</div>"
      ],
      "text/plain": [
       "                                          album  \\\n",
       "0  Préludes / Suite bergamasque / Pour le piano   \n",
       "1               Suite bergamasque / 12 Préludes   \n",
       "\n",
       "                                    artists        date  \\\n",
       "0         Debussy; Dino Ciani, Tamás Vásáry  1997-01-01   \n",
       "1  Claude Debussy; Tamás Vásáry, Dino Ciani  1994-07-05   \n",
       "\n",
       "                                   mbid  \n",
       "0  b02fc3e7-aee9-4b90-bbb3-00f0109742d4  \n",
       "1  039ff6a3-88dc-4c7f-ae68-54374b032121  "
      ]
     },
     "execution_count": 3,
     "metadata": {},
     "output_type": "execute_result"
    }
   ],
   "source": [
    "def data(performer_name):\n",
    "    df = sql(\"\"\"\n",
    "SELECT r.name AS album,\n",
    "       ac.name AS artists,\n",
    "       to_date(to_char(ev.date_year, '9999') ||\n",
    "               to_char(COALESCE(ev.date_month, 1), '99') ||\n",
    "               to_char(COALESCE(ev.date_day, 1), '99'), 'YYYY MM DD') AS date,\n",
    "       rg.gid AS mbid\n",
    "  FROM artist             AS a\n",
    "  JOIN artist_credit_name AS acn ON a.id = acn.artist\n",
    "  JOIN artist_credit      AS ac  ON ac.id = acn.artist_credit\n",
    "  JOIN release_group      AS rg  ON rg.artist_credit = ac.id\n",
    "  JOIN release            AS r   ON r.release_group = rg.id\n",
    "  JOIN release_event      AS ev  ON ev.release = r.id\n",
    " WHERE a.name = %(performer_name)s\n",
    "   ;\"\"\", performer_name=performer_name)\n",
    "    return df\n",
    "\n",
    "covers = data(performer_name)\n",
    "covers"
   ]
  },
  {
   "cell_type": "code",
   "execution_count": 4,
   "metadata": {
    "collapsed": false
   },
   "outputs": [
    {
     "data": {
      "application/javascript": [
       "window.albumData=[{\"album\": \"Pr\\u00e9ludes / Suite bergamasque / Pour le piano\", \"start\": \"1997-01-01\", \"artists\": \"Debussy; Dino Ciani, Tam\\u00e1s V\\u00e1s\\u00e1ry\", \"url\": \"https://coverartarchive.org/release-group/b02fc3e7-aee9-4b90-bbb3-00f0109742d4/front-250.jpg\"}, {\"album\": \"Suite bergamasque / 12 Pr\\u00e9ludes\", \"start\": \"1994-07-05\", \"artists\": \"Claude Debussy; Tam\\u00e1s V\\u00e1s\\u00e1ry, Dino Ciani\", \"url\": \"https://coverartarchive.org/release-group/039ff6a3-88dc-4c7f-ae68-54374b032121/front-250.jpg\"}];"
      ],
      "text/plain": [
       "<IPython.core.display.Javascript object>"
      ]
     },
     "execution_count": 4,
     "metadata": {},
     "output_type": "execute_result"
    }
   ],
   "source": [
    "url_template = 'https://coverartarchive.org/release-group/%s/front-250.jpg'\n",
    "\n",
    "# Transform into JSON\n",
    "data = [{'start': line.date.isoformat(),\n",
    "         'album': line.album,\n",
    "         'artists': line.artists,\n",
    "         'url': url_template % line.mbid,\n",
    "        } for _, line in covers.iterrows()]\n",
    "\n",
    "# Send to Javascript\n",
    "import json\n",
    "from IPython.display import Javascript\n",
    "Javascript(\"\"\"window.albumData={};\"\"\".format(json.dumps(data)))"
   ]
  },
  {
   "cell_type": "code",
   "execution_count": 5,
   "metadata": {
    "collapsed": false
   },
   "outputs": [
    {
     "data": {
      "text/html": [
       "<link rel=\"stylesheet\" type=\"text/css\" href=\"https://cdnjs.cloudflare.com/ajax/libs/vis/4.20.1/vis-timeline-graph2d.min.css\" />\n",
       "<script src=\"https://cdnjs.cloudflare.com/ajax/libs/handlebars.js/4.0.5/handlebars.min.js\"></script>"
      ],
      "text/plain": [
       "<IPython.core.display.HTML object>"
      ]
     },
     "metadata": {},
     "output_type": "display_data"
    }
   ],
   "source": [
    "%%html\n",
    "<link rel=\"stylesheet\" type=\"text/css\" href=\"https://cdnjs.cloudflare.com/ajax/libs/vis/4.20.1/vis-timeline-graph2d.min.css\" />\n",
    "<script src=\"https://cdnjs.cloudflare.com/ajax/libs/handlebars.js/4.0.5/handlebars.min.js\"></script>"
   ]
  },
  {
   "cell_type": "code",
   "execution_count": 6,
   "metadata": {
    "collapsed": false
   },
   "outputs": [
    {
     "data": {
      "application/javascript": [
       "element.append('<div id=\"timeline\" style=\"width: 100%; height: 100%;\"></div>');\n",
       "\n",
       "requirejs.config({\n",
       "    paths: {\n",
       "        vis: '//cdnjs.cloudflare.com/ajax/libs/vis/4.20.1/vis',\n",
       "        handlebar: '//cdnjs.cloudflare.com/ajax/libs/handlebars.js/4.0.5/handlebars'\n",
       "    }\n",
       "});\n",
       "\n",
       "require(['handlebar', 'vis'], function (handlebar, vis) {\n",
       "    var template = handlebar.compile(`\n",
       "      <div>\n",
       "      {{album}}\n",
       "      <br />\n",
       "      {{artists}}\n",
       "      <img src=\"{{url}}\" width=\"150\" height=\"150\">    \n",
       "      </div>\n",
       "    `);\n",
       "\n",
       "    var timeline = new vis.Timeline(\n",
       "        document.getElementById('timeline'), // container, \n",
       "        new vis.DataSet(window.albumData), // data\n",
       "        {\n",
       "            template: template,\n",
       "            editable: false\n",
       "        } // options\n",
       "    );\n",
       "})"
      ],
      "text/plain": [
       "<IPython.core.display.Javascript object>"
      ]
     },
     "metadata": {},
     "output_type": "display_data"
    }
   ],
   "source": [
    "%%javascript\n",
    "element.append('<div id=\"timeline\" style=\"width: 100%; height: 100%;\"></div>');\n",
    "\n",
    "requirejs.config({\n",
    "    paths: {\n",
    "        vis: '//cdnjs.cloudflare.com/ajax/libs/vis/4.20.1/vis',\n",
    "        handlebar: '//cdnjs.cloudflare.com/ajax/libs/handlebars.js/4.0.5/handlebars'\n",
    "    }\n",
    "});\n",
    "\n",
    "require(['handlebar', 'vis'], function (handlebar, vis) {\n",
    "    var template = handlebar.compile(`\n",
    "      <div>\n",
    "      {{album}}\n",
    "      <br />\n",
    "      {{artists}}\n",
    "      <img src=\"{{url}}\" width=\"150\" height=\"150\">    \n",
    "      </div>\n",
    "    `);\n",
    "\n",
    "    var timeline = new vis.Timeline(\n",
    "        document.getElementById('timeline'), // container, \n",
    "        new vis.DataSet(window.albumData), // data\n",
    "        {\n",
    "            template: template,\n",
    "            editable: false\n",
    "        } // options\n",
    "    );\n",
    "})"
   ]
  }
 ],
 "metadata": {
  "kernelspec": {
   "display_name": "Python 3",
   "language": "python",
   "name": "python3"
  },
  "language_info": {
   "codemirror_mode": {
    "name": "ipython",
    "version": 3
   },
   "file_extension": ".py",
   "mimetype": "text/x-python",
   "name": "python",
   "nbconvert_exporter": "python",
   "pygments_lexer": "ipython3",
   "version": "3.5.3"
  }
 },
 "nbformat": 4,
 "nbformat_minor": 2
}
