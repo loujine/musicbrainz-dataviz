{
 "cells": [
  {
   "cell_type": "markdown",
   "metadata": {},
   "source": [
    "# Visualizing MusicBrainz data with Python/JS"
   ]
  },
  {
   "cell_type": "markdown",
   "metadata": {},
   "source": [
    "I intend to use this [repository](https://bitbucket.org/loujine/musicbrainz-dataviz) ([github mirror](https://github.com/loujine/musicbrainz-dataviz)) to store [notebooks](https://jupyter-notebook-beginner-guide.readthedocs.io/en/latest/what_is_jupyter.html) presenting some examples of data manipulation and visualisation using a copy of the [MusicBrainz](https://musicbrainz.org) database."
   ]
  },
  {
   "cell_type": "markdown",
   "metadata": {},
   "source": [
    "A static HTML version of these notebooks should be available on [github.io](https://loujine.github.io/musicbrainz-dataviz/)."
   ]
  },
  {
   "cell_type": "markdown",
   "metadata": {},
   "source": [
    "## Table of contents\n",
    "\n",
    "Notebook | Static version\n",
    "------|------\n",
    "[Introduction](https://github.com/loujine/musicbrainz-dataviz/blob/master/0-introduction.ipynb) | [Introduction](https://loujine.github.io/musicbrainz-dataviz/0-introduction.html)"
   ]
  }
 ],
 "metadata": {
  "kernelspec": {
   "display_name": "Python 3",
   "language": "python",
   "name": "python3"
  },
  "language_info": {
   "codemirror_mode": {
    "name": "ipython",
    "version": 3
   },
   "file_extension": ".py",
   "mimetype": "text/x-python",
   "name": "python",
   "nbconvert_exporter": "python",
   "pygments_lexer": "ipython3",
   "version": "3.5.3+"
  }
 },
 "nbformat": 4,
 "nbformat_minor": 2
}
