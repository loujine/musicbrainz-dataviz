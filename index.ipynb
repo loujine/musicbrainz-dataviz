{
 "cells": [
  {
   "cell_type": "markdown",
   "metadata": {},
   "source": [
    "# Visualizing MusicBrainz data with Python/JS"
   ]
  },
  {
   "cell_type": "markdown",
   "metadata": {},
   "source": [
    "I intend to use this [repository](https://bitbucket.org/loujine/musicbrainz-dataviz) ([github mirror](https://github.com/loujine/musicbrainz-dataviz)) to store [notebooks](https://jupyter-notebook-beginner-guide.readthedocs.io/en/latest/what_is_jupyter.html) presenting some examples of data manipulation and visualisation using a copy of the [MusicBrainz](https://musicbrainz.org) database."
   ]
  },
  {
   "cell_type": "markdown",
   "metadata": {},
   "source": [
    "A static HTML version of these notebooks should be available on [github.io](https://loujine.github.io/musicbrainz-dataviz/)."
   ]
  },
  {
   "cell_type": "markdown",
   "metadata": {},
   "source": [
    "## Table of contents\n",
    "\n",
    "Notebook | Static version\n",
    "------|------\n",
    "[Introduction](https://github.com/loujine/musicbrainz-dataviz/blob/master/0-introduction.ipynb) | [Introduction](https://loujine.github.io/musicbrainz-dataviz/0-introduction.html)\n",
    "[Timelines](https://github.com/loujine/musicbrainz-dataviz/blob/master/1-timelines.ipynb) | [Timelines](https://loujine.github.io/musicbrainz-dataviz/1-timelines.html)\n",
    "| [Timeline with timesheet](https://loujine.github.io/musicbrainz-dataviz/1-timelines_timesheet.html)\n",
    "| [Timeline with visjs](https://loujine.github.io/musicbrainz-dataviz/1-timelines_visjs.html)\n",
    "[Composer](https://github.com/loujine/musicbrainz-dataviz/blob/master/2-composer_data.ipynb) | [Composer](https://loujine.github.io/musicbrainz-dataviz/2-composer_data.html)\n",
    "[Composer report template](https://github.com/loujine/musicbrainz-dataviz/blob/master/report-composer.ipynb) | [Composer report template](https://loujine.github.io/musicbrainz-dataviz/report-composer.html)\n",
    "[Work](https://github.com/loujine/musicbrainz-dataviz/blob/master/3-work_data.ipynb) | [Work](https://loujine.github.io/musicbrainz-dataviz/3-work_data.html)\n",
    "[Userscripts](https://github.com/loujine/musicbrainz-dataviz/blob/master/7-userscripts.ipynb) | [Userscripts](https://loujine.github.io/musicbrainz-dataviz/7-userscripts.html)\n"
   ]
  }
 ],
 "metadata": {
  "kernelspec": {
   "display_name": "Python 3",
   "language": "python",
   "name": "python3"
  },
  "language_info": {
   "codemirror_mode": {
    "name": "ipython",
    "version": 3
   },
   "file_extension": ".py",
   "mimetype": "text/x-python",
   "name": "python",
   "nbconvert_exporter": "python",
   "pygments_lexer": "ipython3",
   "version": "3.5.3"
  }
 },
 "nbformat": 4,
 "nbformat_minor": 2
}
