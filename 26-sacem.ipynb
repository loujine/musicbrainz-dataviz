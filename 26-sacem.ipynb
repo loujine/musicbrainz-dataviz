{
 "cells": [
  {
   "cell_type": "markdown",
   "metadata": {},
   "source": [
    "## ISWC from SACEM website"
   ]
  },
  {
   "cell_type": "markdown",
   "metadata": {},
   "source": [
    "ISWC extracted from SACEM website, which is annoying to browse."
   ]
  },
  {
   "cell_type": "code",
   "execution_count": 1,
   "metadata": {},
   "outputs": [],
   "source": [
    "import re\n",
    "import requests\n",
    "import bs4"
   ]
  },
  {
   "cell_type": "code",
   "execution_count": 2,
   "metadata": {},
   "outputs": [],
   "source": [
    "resp = requests.request(\n",
    "    'GET', \n",
    "    'https://sigried.sacem.fr/oeuvres/oeuvre/rechercheOeuvre.do?'\n",
    "    'titre=&tiers=Claude+DEBUSSY&searchoption=default&ftad=true&page=1')"
   ]
  },
  {
   "cell_type": "code",
   "execution_count": 3,
   "metadata": {},
   "outputs": [
    {
     "name": "stdout",
     "output_type": "stream",
     "text": [
      "BEAU SOIR\n",
      "T-004.011.955.8\n",
      "https://sigried.sacem.fr/oeuvres/oeuvre/printOeuvre.do?cocv=6089548011\n",
      "\n",
      "CLOCHES\n",
      "T-004.013.769.6\n",
      "https://sigried.sacem.fr/oeuvres/oeuvre/printOeuvre.do?cocv=6203136011\n",
      "\n",
      "ROMANCE\n",
      "T-004.023.344.0\n",
      "https://sigried.sacem.fr/oeuvres/oeuvre/printOeuvre.do?cocv=6787093211\n",
      "\n",
      "PELLEAS ET MELISANDE\n",
      "T-003.013.803.4\n",
      "https://sigried.sacem.fr/oeuvres/oeuvre/printOeuvre.do?cocv=6684168011\n",
      "\n",
      "MARTYRE DE ST SEBASTIEN\n",
      "T-900.758.995.9\n",
      "https://sigried.sacem.fr/oeuvres/oeuvre/printOeuvre.do?cocv=6563414011\n",
      "\n",
      "AIMONS NOUS ET DORMONS\n",
      "T-004.032.977.8\n",
      "https://sigried.sacem.fr/oeuvres/oeuvre/printOeuvre.do?cocv=7602069411\n",
      "\n",
      "ROMANCE\n",
      "T-004.039.887.5\n",
      "https://sigried.sacem.fr/oeuvres/oeuvre/printOeuvre.do?cocv=7815423011\n",
      "\n"
     ]
    }
   ],
   "source": [
    "soup = bs4.BeautifulSoup(resp.content, 'html.parser')\n",
    "dt = soup.find_all('dt')\n",
    "dd = soup.find_all('dd')\n",
    "for idx, (t, d) in enumerate(zip(dt, dd)):\n",
    "    if 'Arrangeur' not in d.get_text():\n",
    "        print(t.div.a.span.string)\n",
    "        print(d.find_all('span')[-1].string)\n",
    "        print('https://sigried.sacem.fr/oeuvres/oeuvre/printOeuvre.do?cocv='\n",
    "              + re.match(r'javascript:getDetail\\((.*)\\);', \n",
    "                         t.div.a.get('href')).group(1))\n",
    "        print()"
   ]
  }
 ],
 "metadata": {
  "kernelspec": {
   "display_name": "Python 3",
   "language": "python",
   "name": "python3"
  },
  "language_info": {
   "codemirror_mode": {
    "name": "ipython",
    "version": 3
   },
   "file_extension": ".py",
   "mimetype": "text/x-python",
   "name": "python",
   "nbconvert_exporter": "python",
   "pygments_lexer": "ipython3",
   "version": "3.6.6"
  }
 },
 "nbformat": 4,
 "nbformat_minor": 2
}
