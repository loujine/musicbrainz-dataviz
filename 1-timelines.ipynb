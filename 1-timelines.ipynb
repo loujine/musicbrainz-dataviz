{
 "cells": [
  {
   "cell_type": "markdown",
   "metadata": {},
   "source": [
    "# Displaying MusicBrainz data in a timeline"
   ]
  },
  {
   "cell_type": "markdown",
   "metadata": {},
   "source": [
    "One thing I thought about adding to the MusicBrainz web interface is a timeline on band pages, in order to show when new members arrived or left the band.\n",
    "\n",
    "Before suggesting this change to the MusicBrainz project, we can try to display this kind of timeline in a Jupyter notebook and see how it would look like. I decided to test the [timesheet-advanced.js](https://github.com/ntucakovic/timesheet-advanced.js) library for this purpose."
   ]
  },
  {
   "cell_type": "markdown",
   "metadata": {},
   "source": [
    "If you can't see the timelines on this page, you can find a \"static\" copy of them on [github.io](https://loujine.github.io/musicbrainz-dataviz/)."
   ]
  },
  {
   "cell_type": "markdown",
   "metadata": {},
   "source": [
    "Again I need first to initialize a connection to my local copy of the MusicBrainz database:"
   ]
  },
  {
   "cell_type": "code",
   "execution_count": 1,
   "metadata": {
    "collapsed": true
   },
   "outputs": [],
   "source": [
    "from pprint import pprint\n",
    "\n",
    "import pandas\n",
    "import sqlalchemy\n",
    "# define DB\n",
    "PGHOST = \"192.168.11.3\"\n",
    "PGDATABASE = \"musicbrainz_db\"\n",
    "PGUSER = \"musicbrainz\"\n",
    "PGPASSWORD = \"musicbrainz\"\n",
    "\n",
    "engine = sqlalchemy.create_engine(\n",
    "   'postgresql+psycopg2://{PGUSER}:{PGPASSWORD}@{PGHOST}/{PGDATABASE}'.format(**locals()),\n",
    "    isolation_level='READ UNCOMMITTED')\n",
    "\n",
    "# helper function\n",
    "def sql(query, **kwargs):\n",
    "    return pandas.read_sql(query, engine, params=globals(), **kwargs)"
   ]
  },
  {
   "cell_type": "markdown",
   "metadata": {},
   "source": [
    "Now I can extract the information for the band I want. The SQL query will look for:\n",
    "\n",
    "* band name\n",
    "* artists linked to this band through the \"member of\" relationship\n",
    "* instrument/vocal role of this relationship"
   ]
  },
  {
   "cell_type": "markdown",
   "metadata": {},
   "source": [
    "Let's start with some band you probably already know:"
   ]
  },
  {
   "cell_type": "code",
   "execution_count": 2,
   "metadata": {
    "collapsed": true
   },
   "outputs": [],
   "source": [
    "band_name = 'The Beatles'"
   ]
  },
  {
   "cell_type": "markdown",
   "metadata": {},
   "source": [
    "The SQL query is a bit complicated because it uses a lot of different tables"
   ]
  },
  {
   "cell_type": "code",
   "execution_count": 3,
   "metadata": {
    "collapsed": false,
    "scrolled": true
   },
   "outputs": [
    {
     "data": {
      "text/html": [
       "<div>\n",
       "<table border=\"1\" class=\"dataframe\">\n",
       "  <thead>\n",
       "    <tr style=\"text-align: right;\">\n",
       "      <th></th>\n",
       "      <th>band</th>\n",
       "      <th>member</th>\n",
       "      <th>mbid</th>\n",
       "      <th>role</th>\n",
       "      <th>start</th>\n",
       "      <th>end</th>\n",
       "    </tr>\n",
       "  </thead>\n",
       "  <tbody>\n",
       "    <tr>\n",
       "      <th>0</th>\n",
       "      <td>The Beatles</td>\n",
       "      <td>George Harrison</td>\n",
       "      <td>42a8f507-8412-4611-854f-926571049fa0</td>\n",
       "      <td>lead vocals</td>\n",
       "      <td>1958.0</td>\n",
       "      <td>1970</td>\n",
       "    </tr>\n",
       "    <tr>\n",
       "      <th>1</th>\n",
       "      <td>The Beatles</td>\n",
       "      <td>George Harrison</td>\n",
       "      <td>42a8f507-8412-4611-854f-926571049fa0</td>\n",
       "      <td>guitar</td>\n",
       "      <td>1958.0</td>\n",
       "      <td>1970</td>\n",
       "    </tr>\n",
       "    <tr>\n",
       "      <th>2</th>\n",
       "      <td>The Beatles</td>\n",
       "      <td>Pete Best</td>\n",
       "      <td>0d4ab0f9-bbda-4ab1-ae2c-f772ffcfbea9</td>\n",
       "      <td>drums</td>\n",
       "      <td>1960.0</td>\n",
       "      <td>1962</td>\n",
       "    </tr>\n",
       "    <tr>\n",
       "      <th>3</th>\n",
       "      <td>The Beatles</td>\n",
       "      <td>Paul McCartney</td>\n",
       "      <td>ba550d0e-adac-4864-b88b-407cab5e76af</td>\n",
       "      <td>lead vocals</td>\n",
       "      <td>1957.0</td>\n",
       "      <td>1970</td>\n",
       "    </tr>\n",
       "    <tr>\n",
       "      <th>4</th>\n",
       "      <td>The Beatles</td>\n",
       "      <td>Paul McCartney</td>\n",
       "      <td>ba550d0e-adac-4864-b88b-407cab5e76af</td>\n",
       "      <td>bass guitar</td>\n",
       "      <td>1957.0</td>\n",
       "      <td>1970</td>\n",
       "    </tr>\n",
       "    <tr>\n",
       "      <th>5</th>\n",
       "      <td>The Beatles</td>\n",
       "      <td>Ringo Starr</td>\n",
       "      <td>300c4c73-33ac-4255-9d57-4e32627f5e13</td>\n",
       "      <td>drums</td>\n",
       "      <td>1962.0</td>\n",
       "      <td>1970</td>\n",
       "    </tr>\n",
       "    <tr>\n",
       "      <th>6</th>\n",
       "      <td>The Beatles</td>\n",
       "      <td>Stuart Sutcliffe</td>\n",
       "      <td>49a51491-650e-44b3-8085-2f07ac2986dd</td>\n",
       "      <td>bass guitar</td>\n",
       "      <td>1960.0</td>\n",
       "      <td>1962</td>\n",
       "    </tr>\n",
       "    <tr>\n",
       "      <th>7</th>\n",
       "      <td>The Beatles</td>\n",
       "      <td>John Lennon</td>\n",
       "      <td>4d5447d7-c61c-4120-ba1b-d7f471d385b9</td>\n",
       "      <td>lead vocals</td>\n",
       "      <td>NaN</td>\n",
       "      <td>1970</td>\n",
       "    </tr>\n",
       "    <tr>\n",
       "      <th>8</th>\n",
       "      <td>The Beatles</td>\n",
       "      <td>John Lennon</td>\n",
       "      <td>4d5447d7-c61c-4120-ba1b-d7f471d385b9</td>\n",
       "      <td>guitar</td>\n",
       "      <td>NaN</td>\n",
       "      <td>1970</td>\n",
       "    </tr>\n",
       "  </tbody>\n",
       "</table>\n",
       "</div>"
      ],
      "text/plain": [
       "          band            member                                  mbid  \\\n",
       "0  The Beatles   George Harrison  42a8f507-8412-4611-854f-926571049fa0   \n",
       "1  The Beatles   George Harrison  42a8f507-8412-4611-854f-926571049fa0   \n",
       "2  The Beatles         Pete Best  0d4ab0f9-bbda-4ab1-ae2c-f772ffcfbea9   \n",
       "3  The Beatles    Paul McCartney  ba550d0e-adac-4864-b88b-407cab5e76af   \n",
       "4  The Beatles    Paul McCartney  ba550d0e-adac-4864-b88b-407cab5e76af   \n",
       "5  The Beatles       Ringo Starr  300c4c73-33ac-4255-9d57-4e32627f5e13   \n",
       "6  The Beatles  Stuart Sutcliffe  49a51491-650e-44b3-8085-2f07ac2986dd   \n",
       "7  The Beatles       John Lennon  4d5447d7-c61c-4120-ba1b-d7f471d385b9   \n",
       "8  The Beatles       John Lennon  4d5447d7-c61c-4120-ba1b-d7f471d385b9   \n",
       "\n",
       "          role   start   end  \n",
       "0  lead vocals  1958.0  1970  \n",
       "1       guitar  1958.0  1970  \n",
       "2        drums  1960.0  1962  \n",
       "3  lead vocals  1957.0  1970  \n",
       "4  bass guitar  1957.0  1970  \n",
       "5        drums  1962.0  1970  \n",
       "6  bass guitar  1960.0  1962  \n",
       "7  lead vocals     NaN  1970  \n",
       "8       guitar     NaN  1970  "
      ]
     },
     "execution_count": 3,
     "metadata": {},
     "output_type": "execute_result"
    }
   ],
   "source": [
    "df = sql(\"\"\"\n",
    "SELECT b.name AS band,\n",
    "       m.name AS member,\n",
    "       m.gid AS mbid,\n",
    "       lat.name AS role,\n",
    "       l.begin_date_year AS start,\n",
    "       l.end_date_year AS end\n",
    "FROM artist              AS b\n",
    "JOIN l_artist_artist     AS laa ON laa.entity1 = b.id\n",
    "JOIN artist              AS m   ON laa.entity0 = m.id\n",
    "JOIN link                AS l   ON l.id = laa.link\n",
    "JOIN link_attribute      AS la  ON la.link = l.id\n",
    "JOIN link_attribute_type AS lat ON la.attribute_type = lat.id\n",
    "JOIN link_type           AS lt  ON l.link_type = lt.id\n",
    "WHERE lt.name = 'member of band'\n",
    "  AND b.name = %(band_name)s\n",
    "  AND lat.name != 'original';\n",
    "\"\"\")\n",
    "df"
   ]
  },
  {
   "cell_type": "markdown",
   "metadata": {},
   "source": [
    "Looks good. Apart from some details:\n",
    "\n",
    "* John Lennon's role has no starting date, we can set it to 1957\n",
    "* these missing values made PanDas believe year dates are floating point number, we should fix this"
   ]
  },
  {
   "cell_type": "code",
   "execution_count": 4,
   "metadata": {
    "collapsed": false,
    "scrolled": true
   },
   "outputs": [
    {
     "data": {
      "text/html": [
       "<div>\n",
       "<table border=\"1\" class=\"dataframe\">\n",
       "  <thead>\n",
       "    <tr style=\"text-align: right;\">\n",
       "      <th></th>\n",
       "      <th>band</th>\n",
       "      <th>member</th>\n",
       "      <th>mbid</th>\n",
       "      <th>role</th>\n",
       "      <th>start</th>\n",
       "      <th>end</th>\n",
       "    </tr>\n",
       "  </thead>\n",
       "  <tbody>\n",
       "    <tr>\n",
       "      <th>0</th>\n",
       "      <td>The Beatles</td>\n",
       "      <td>George Harrison</td>\n",
       "      <td>42a8f507-8412-4611-854f-926571049fa0</td>\n",
       "      <td>lead vocals</td>\n",
       "      <td>1958</td>\n",
       "      <td>1970</td>\n",
       "    </tr>\n",
       "    <tr>\n",
       "      <th>1</th>\n",
       "      <td>The Beatles</td>\n",
       "      <td>George Harrison</td>\n",
       "      <td>42a8f507-8412-4611-854f-926571049fa0</td>\n",
       "      <td>guitar</td>\n",
       "      <td>1958</td>\n",
       "      <td>1970</td>\n",
       "    </tr>\n",
       "    <tr>\n",
       "      <th>2</th>\n",
       "      <td>The Beatles</td>\n",
       "      <td>Pete Best</td>\n",
       "      <td>0d4ab0f9-bbda-4ab1-ae2c-f772ffcfbea9</td>\n",
       "      <td>drums</td>\n",
       "      <td>1960</td>\n",
       "      <td>1962</td>\n",
       "    </tr>\n",
       "    <tr>\n",
       "      <th>3</th>\n",
       "      <td>The Beatles</td>\n",
       "      <td>Paul McCartney</td>\n",
       "      <td>ba550d0e-adac-4864-b88b-407cab5e76af</td>\n",
       "      <td>lead vocals</td>\n",
       "      <td>1957</td>\n",
       "      <td>1970</td>\n",
       "    </tr>\n",
       "    <tr>\n",
       "      <th>4</th>\n",
       "      <td>The Beatles</td>\n",
       "      <td>Paul McCartney</td>\n",
       "      <td>ba550d0e-adac-4864-b88b-407cab5e76af</td>\n",
       "      <td>bass guitar</td>\n",
       "      <td>1957</td>\n",
       "      <td>1970</td>\n",
       "    </tr>\n",
       "    <tr>\n",
       "      <th>5</th>\n",
       "      <td>The Beatles</td>\n",
       "      <td>Ringo Starr</td>\n",
       "      <td>300c4c73-33ac-4255-9d57-4e32627f5e13</td>\n",
       "      <td>drums</td>\n",
       "      <td>1962</td>\n",
       "      <td>1970</td>\n",
       "    </tr>\n",
       "    <tr>\n",
       "      <th>6</th>\n",
       "      <td>The Beatles</td>\n",
       "      <td>Stuart Sutcliffe</td>\n",
       "      <td>49a51491-650e-44b3-8085-2f07ac2986dd</td>\n",
       "      <td>bass guitar</td>\n",
       "      <td>1960</td>\n",
       "      <td>1962</td>\n",
       "    </tr>\n",
       "    <tr>\n",
       "      <th>7</th>\n",
       "      <td>The Beatles</td>\n",
       "      <td>John Lennon</td>\n",
       "      <td>4d5447d7-c61c-4120-ba1b-d7f471d385b9</td>\n",
       "      <td>lead vocals</td>\n",
       "      <td>1957</td>\n",
       "      <td>1970</td>\n",
       "    </tr>\n",
       "    <tr>\n",
       "      <th>8</th>\n",
       "      <td>The Beatles</td>\n",
       "      <td>John Lennon</td>\n",
       "      <td>4d5447d7-c61c-4120-ba1b-d7f471d385b9</td>\n",
       "      <td>guitar</td>\n",
       "      <td>1957</td>\n",
       "      <td>1970</td>\n",
       "    </tr>\n",
       "  </tbody>\n",
       "</table>\n",
       "</div>"
      ],
      "text/plain": [
       "          band            member                                  mbid  \\\n",
       "0  The Beatles   George Harrison  42a8f507-8412-4611-854f-926571049fa0   \n",
       "1  The Beatles   George Harrison  42a8f507-8412-4611-854f-926571049fa0   \n",
       "2  The Beatles         Pete Best  0d4ab0f9-bbda-4ab1-ae2c-f772ffcfbea9   \n",
       "3  The Beatles    Paul McCartney  ba550d0e-adac-4864-b88b-407cab5e76af   \n",
       "4  The Beatles    Paul McCartney  ba550d0e-adac-4864-b88b-407cab5e76af   \n",
       "5  The Beatles       Ringo Starr  300c4c73-33ac-4255-9d57-4e32627f5e13   \n",
       "6  The Beatles  Stuart Sutcliffe  49a51491-650e-44b3-8085-2f07ac2986dd   \n",
       "7  The Beatles       John Lennon  4d5447d7-c61c-4120-ba1b-d7f471d385b9   \n",
       "8  The Beatles       John Lennon  4d5447d7-c61c-4120-ba1b-d7f471d385b9   \n",
       "\n",
       "          role start   end  \n",
       "0  lead vocals  1958  1970  \n",
       "1       guitar  1958  1970  \n",
       "2        drums  1960  1962  \n",
       "3  lead vocals  1957  1970  \n",
       "4  bass guitar  1957  1970  \n",
       "5        drums  1962  1970  \n",
       "6  bass guitar  1960  1962  \n",
       "7  lead vocals  1957  1970  \n",
       "8       guitar  1957  1970  "
      ]
     },
     "execution_count": 4,
     "metadata": {},
     "output_type": "execute_result"
    }
   ],
   "source": [
    "df['start'] = df['start'].fillna(1957).astype(int)\n",
    "df['start'] = df['start'].astype(str)\n",
    "df['end'] = df['end'].astype(str)\n",
    "df['mbid'] = df['mbid'].astype(str)\n",
    "df"
   ]
  },
  {
   "cell_type": "markdown",
   "metadata": {},
   "source": [
    "To display the timeline inside this notebook we need to lead the JS/CSS source of the timesheet-advanced package:"
   ]
  },
  {
   "cell_type": "code",
   "execution_count": 5,
   "metadata": {
    "collapsed": false
   },
   "outputs": [
    {
     "data": {
      "text/html": [
       "\n",
       "<link rel=\"stylesheet\" type=\"text/css\" href=\"./timesheet/timesheet.min.css\" />\n",
       "<script type=\"text/javascript\" src=\"./timesheet/timesheet-advanced.min.js\"></script>\n"
      ],
      "text/plain": [
       "<IPython.core.display.HTML object>"
      ]
     },
     "execution_count": 5,
     "metadata": {},
     "output_type": "execute_result"
    }
   ],
   "source": [
    "from IPython.display import HTML\n",
    "HTML(\"\"\"\n",
    "<link rel=\"stylesheet\" type=\"text/css\" href=\"./timesheet/timesheet.min.css\" />\n",
    "<script type=\"text/javascript\" src=\"./timesheet/timesheet-advanced.min.js\"></script>\n",
    "\"\"\")"
   ]
  },
  {
   "cell_type": "markdown",
   "metadata": {},
   "source": [
    "The timesheet-advanced package requires the input data for the timeline to be inserted slightly differently from what we have in our dataframe df. We need a 'label' field (we'll choose the band member name + instrument) and we need a 'type' which is a color. We choose colors to represent all possible roles (vocals, guitar, drums....)"
   ]
  },
  {
   "cell_type": "code",
   "execution_count": 6,
   "metadata": {
    "collapsed": false
   },
   "outputs": [
    {
     "data": {
      "text/html": [
       "<div>\n",
       "<table border=\"1\" class=\"dataframe\">\n",
       "  <thead>\n",
       "    <tr style=\"text-align: right;\">\n",
       "      <th></th>\n",
       "      <th>band</th>\n",
       "      <th>member</th>\n",
       "      <th>mbid</th>\n",
       "      <th>role</th>\n",
       "      <th>start</th>\n",
       "      <th>end</th>\n",
       "      <th>label</th>\n",
       "    </tr>\n",
       "  </thead>\n",
       "  <tbody>\n",
       "    <tr>\n",
       "      <th>0</th>\n",
       "      <td>The Beatles</td>\n",
       "      <td>George Harrison</td>\n",
       "      <td>42a8f507-8412-4611-854f-926571049fa0</td>\n",
       "      <td>lead vocals</td>\n",
       "      <td>1958</td>\n",
       "      <td>1970</td>\n",
       "      <td>George Harrison (lead vocals)</td>\n",
       "    </tr>\n",
       "    <tr>\n",
       "      <th>1</th>\n",
       "      <td>The Beatles</td>\n",
       "      <td>George Harrison</td>\n",
       "      <td>42a8f507-8412-4611-854f-926571049fa0</td>\n",
       "      <td>guitar</td>\n",
       "      <td>1958</td>\n",
       "      <td>1970</td>\n",
       "      <td>George Harrison (guitar)</td>\n",
       "    </tr>\n",
       "    <tr>\n",
       "      <th>2</th>\n",
       "      <td>The Beatles</td>\n",
       "      <td>Pete Best</td>\n",
       "      <td>0d4ab0f9-bbda-4ab1-ae2c-f772ffcfbea9</td>\n",
       "      <td>drums</td>\n",
       "      <td>1960</td>\n",
       "      <td>1962</td>\n",
       "      <td>Pete Best (drums)</td>\n",
       "    </tr>\n",
       "    <tr>\n",
       "      <th>3</th>\n",
       "      <td>The Beatles</td>\n",
       "      <td>Paul McCartney</td>\n",
       "      <td>ba550d0e-adac-4864-b88b-407cab5e76af</td>\n",
       "      <td>lead vocals</td>\n",
       "      <td>1957</td>\n",
       "      <td>1970</td>\n",
       "      <td>Paul McCartney (lead vocals)</td>\n",
       "    </tr>\n",
       "    <tr>\n",
       "      <th>4</th>\n",
       "      <td>The Beatles</td>\n",
       "      <td>Paul McCartney</td>\n",
       "      <td>ba550d0e-adac-4864-b88b-407cab5e76af</td>\n",
       "      <td>bass guitar</td>\n",
       "      <td>1957</td>\n",
       "      <td>1970</td>\n",
       "      <td>Paul McCartney (bass guitar)</td>\n",
       "    </tr>\n",
       "    <tr>\n",
       "      <th>5</th>\n",
       "      <td>The Beatles</td>\n",
       "      <td>Ringo Starr</td>\n",
       "      <td>300c4c73-33ac-4255-9d57-4e32627f5e13</td>\n",
       "      <td>drums</td>\n",
       "      <td>1962</td>\n",
       "      <td>1970</td>\n",
       "      <td>Ringo Starr (drums)</td>\n",
       "    </tr>\n",
       "    <tr>\n",
       "      <th>6</th>\n",
       "      <td>The Beatles</td>\n",
       "      <td>Stuart Sutcliffe</td>\n",
       "      <td>49a51491-650e-44b3-8085-2f07ac2986dd</td>\n",
       "      <td>bass guitar</td>\n",
       "      <td>1960</td>\n",
       "      <td>1962</td>\n",
       "      <td>Stuart Sutcliffe (bass guitar)</td>\n",
       "    </tr>\n",
       "    <tr>\n",
       "      <th>7</th>\n",
       "      <td>The Beatles</td>\n",
       "      <td>John Lennon</td>\n",
       "      <td>4d5447d7-c61c-4120-ba1b-d7f471d385b9</td>\n",
       "      <td>lead vocals</td>\n",
       "      <td>1957</td>\n",
       "      <td>1970</td>\n",
       "      <td>John Lennon (lead vocals)</td>\n",
       "    </tr>\n",
       "    <tr>\n",
       "      <th>8</th>\n",
       "      <td>The Beatles</td>\n",
       "      <td>John Lennon</td>\n",
       "      <td>4d5447d7-c61c-4120-ba1b-d7f471d385b9</td>\n",
       "      <td>guitar</td>\n",
       "      <td>1957</td>\n",
       "      <td>1970</td>\n",
       "      <td>John Lennon (guitar)</td>\n",
       "    </tr>\n",
       "  </tbody>\n",
       "</table>\n",
       "</div>"
      ],
      "text/plain": [
       "          band            member                                  mbid  \\\n",
       "0  The Beatles   George Harrison  42a8f507-8412-4611-854f-926571049fa0   \n",
       "1  The Beatles   George Harrison  42a8f507-8412-4611-854f-926571049fa0   \n",
       "2  The Beatles         Pete Best  0d4ab0f9-bbda-4ab1-ae2c-f772ffcfbea9   \n",
       "3  The Beatles    Paul McCartney  ba550d0e-adac-4864-b88b-407cab5e76af   \n",
       "4  The Beatles    Paul McCartney  ba550d0e-adac-4864-b88b-407cab5e76af   \n",
       "5  The Beatles       Ringo Starr  300c4c73-33ac-4255-9d57-4e32627f5e13   \n",
       "6  The Beatles  Stuart Sutcliffe  49a51491-650e-44b3-8085-2f07ac2986dd   \n",
       "7  The Beatles       John Lennon  4d5447d7-c61c-4120-ba1b-d7f471d385b9   \n",
       "8  The Beatles       John Lennon  4d5447d7-c61c-4120-ba1b-d7f471d385b9   \n",
       "\n",
       "          role start   end                           label  \n",
       "0  lead vocals  1958  1970   George Harrison (lead vocals)  \n",
       "1       guitar  1958  1970        George Harrison (guitar)  \n",
       "2        drums  1960  1962               Pete Best (drums)  \n",
       "3  lead vocals  1957  1970    Paul McCartney (lead vocals)  \n",
       "4  bass guitar  1957  1970    Paul McCartney (bass guitar)  \n",
       "5        drums  1962  1970             Ringo Starr (drums)  \n",
       "6  bass guitar  1960  1962  Stuart Sutcliffe (bass guitar)  \n",
       "7  lead vocals  1957  1970       John Lennon (lead vocals)  \n",
       "8       guitar  1957  1970            John Lennon (guitar)  "
      ]
     },
     "execution_count": 6,
     "metadata": {},
     "output_type": "execute_result"
    }
   ],
   "source": [
    "df['label'] = df['member'] + ' (' + df['role'] + ')'\n",
    "df"
   ]
  },
  {
   "cell_type": "code",
   "execution_count": 7,
   "metadata": {
    "collapsed": false
   },
   "outputs": [
    {
     "name": "stdout",
     "output_type": "stream",
     "text": [
      "Correspondance between colors and roles: {'bass guitar': 'red', 'lead vocals': 'blue', 'drums': 'yellow', 'guitar': 'green'}\n"
     ]
    },
    {
     "data": {
      "text/html": [
       "<div>\n",
       "<table border=\"1\" class=\"dataframe\">\n",
       "  <thead>\n",
       "    <tr style=\"text-align: right;\">\n",
       "      <th></th>\n",
       "      <th>band</th>\n",
       "      <th>member</th>\n",
       "      <th>mbid</th>\n",
       "      <th>role</th>\n",
       "      <th>start</th>\n",
       "      <th>end</th>\n",
       "      <th>label</th>\n",
       "      <th>type</th>\n",
       "    </tr>\n",
       "  </thead>\n",
       "  <tbody>\n",
       "    <tr>\n",
       "      <th>0</th>\n",
       "      <td>The Beatles</td>\n",
       "      <td>George Harrison</td>\n",
       "      <td>42a8f507-8412-4611-854f-926571049fa0</td>\n",
       "      <td>lead vocals</td>\n",
       "      <td>1958</td>\n",
       "      <td>1970</td>\n",
       "      <td>George Harrison (lead vocals)</td>\n",
       "      <td>blue</td>\n",
       "    </tr>\n",
       "    <tr>\n",
       "      <th>1</th>\n",
       "      <td>The Beatles</td>\n",
       "      <td>George Harrison</td>\n",
       "      <td>42a8f507-8412-4611-854f-926571049fa0</td>\n",
       "      <td>guitar</td>\n",
       "      <td>1958</td>\n",
       "      <td>1970</td>\n",
       "      <td>George Harrison (guitar)</td>\n",
       "      <td>green</td>\n",
       "    </tr>\n",
       "    <tr>\n",
       "      <th>2</th>\n",
       "      <td>The Beatles</td>\n",
       "      <td>Pete Best</td>\n",
       "      <td>0d4ab0f9-bbda-4ab1-ae2c-f772ffcfbea9</td>\n",
       "      <td>drums</td>\n",
       "      <td>1960</td>\n",
       "      <td>1962</td>\n",
       "      <td>Pete Best (drums)</td>\n",
       "      <td>yellow</td>\n",
       "    </tr>\n",
       "    <tr>\n",
       "      <th>3</th>\n",
       "      <td>The Beatles</td>\n",
       "      <td>Paul McCartney</td>\n",
       "      <td>ba550d0e-adac-4864-b88b-407cab5e76af</td>\n",
       "      <td>lead vocals</td>\n",
       "      <td>1957</td>\n",
       "      <td>1970</td>\n",
       "      <td>Paul McCartney (lead vocals)</td>\n",
       "      <td>blue</td>\n",
       "    </tr>\n",
       "    <tr>\n",
       "      <th>4</th>\n",
       "      <td>The Beatles</td>\n",
       "      <td>Paul McCartney</td>\n",
       "      <td>ba550d0e-adac-4864-b88b-407cab5e76af</td>\n",
       "      <td>bass guitar</td>\n",
       "      <td>1957</td>\n",
       "      <td>1970</td>\n",
       "      <td>Paul McCartney (bass guitar)</td>\n",
       "      <td>red</td>\n",
       "    </tr>\n",
       "    <tr>\n",
       "      <th>5</th>\n",
       "      <td>The Beatles</td>\n",
       "      <td>Ringo Starr</td>\n",
       "      <td>300c4c73-33ac-4255-9d57-4e32627f5e13</td>\n",
       "      <td>drums</td>\n",
       "      <td>1962</td>\n",
       "      <td>1970</td>\n",
       "      <td>Ringo Starr (drums)</td>\n",
       "      <td>yellow</td>\n",
       "    </tr>\n",
       "    <tr>\n",
       "      <th>6</th>\n",
       "      <td>The Beatles</td>\n",
       "      <td>Stuart Sutcliffe</td>\n",
       "      <td>49a51491-650e-44b3-8085-2f07ac2986dd</td>\n",
       "      <td>bass guitar</td>\n",
       "      <td>1960</td>\n",
       "      <td>1962</td>\n",
       "      <td>Stuart Sutcliffe (bass guitar)</td>\n",
       "      <td>red</td>\n",
       "    </tr>\n",
       "    <tr>\n",
       "      <th>7</th>\n",
       "      <td>The Beatles</td>\n",
       "      <td>John Lennon</td>\n",
       "      <td>4d5447d7-c61c-4120-ba1b-d7f471d385b9</td>\n",
       "      <td>lead vocals</td>\n",
       "      <td>1957</td>\n",
       "      <td>1970</td>\n",
       "      <td>John Lennon (lead vocals)</td>\n",
       "      <td>blue</td>\n",
       "    </tr>\n",
       "    <tr>\n",
       "      <th>8</th>\n",
       "      <td>The Beatles</td>\n",
       "      <td>John Lennon</td>\n",
       "      <td>4d5447d7-c61c-4120-ba1b-d7f471d385b9</td>\n",
       "      <td>guitar</td>\n",
       "      <td>1957</td>\n",
       "      <td>1970</td>\n",
       "      <td>John Lennon (guitar)</td>\n",
       "      <td>green</td>\n",
       "    </tr>\n",
       "  </tbody>\n",
       "</table>\n",
       "</div>"
      ],
      "text/plain": [
       "          band            member                                  mbid  \\\n",
       "0  The Beatles   George Harrison  42a8f507-8412-4611-854f-926571049fa0   \n",
       "1  The Beatles   George Harrison  42a8f507-8412-4611-854f-926571049fa0   \n",
       "2  The Beatles         Pete Best  0d4ab0f9-bbda-4ab1-ae2c-f772ffcfbea9   \n",
       "3  The Beatles    Paul McCartney  ba550d0e-adac-4864-b88b-407cab5e76af   \n",
       "4  The Beatles    Paul McCartney  ba550d0e-adac-4864-b88b-407cab5e76af   \n",
       "5  The Beatles       Ringo Starr  300c4c73-33ac-4255-9d57-4e32627f5e13   \n",
       "6  The Beatles  Stuart Sutcliffe  49a51491-650e-44b3-8085-2f07ac2986dd   \n",
       "7  The Beatles       John Lennon  4d5447d7-c61c-4120-ba1b-d7f471d385b9   \n",
       "8  The Beatles       John Lennon  4d5447d7-c61c-4120-ba1b-d7f471d385b9   \n",
       "\n",
       "          role start   end                           label    type  \n",
       "0  lead vocals  1958  1970   George Harrison (lead vocals)    blue  \n",
       "1       guitar  1958  1970        George Harrison (guitar)   green  \n",
       "2        drums  1960  1962               Pete Best (drums)  yellow  \n",
       "3  lead vocals  1957  1970    Paul McCartney (lead vocals)    blue  \n",
       "4  bass guitar  1957  1970    Paul McCartney (bass guitar)     red  \n",
       "5        drums  1962  1970             Ringo Starr (drums)  yellow  \n",
       "6  bass guitar  1960  1962  Stuart Sutcliffe (bass guitar)     red  \n",
       "7  lead vocals  1957  1970       John Lennon (lead vocals)    blue  \n",
       "8       guitar  1957  1970            John Lennon (guitar)   green  "
      ]
     },
     "execution_count": 7,
     "metadata": {},
     "output_type": "execute_result"
    }
   ],
   "source": [
    "colors = dict(zip(list(set(df['role'])), ['red', 'blue', 'yellow', 'green']))\n",
    "print('Correspondance between colors and roles: {}'.format(colors))\n",
    "df['type'] = df['role'].apply(lambda role: colors[role])\n",
    "df"
   ]
  },
  {
   "cell_type": "markdown",
   "metadata": {},
   "source": [
    "We can also add a 'link' columns containing URLs to the MusicBrainz website:"
   ]
  },
  {
   "cell_type": "code",
   "execution_count": 8,
   "metadata": {
    "collapsed": false
   },
   "outputs": [
    {
     "data": {
      "text/html": [
       "<div>\n",
       "<table border=\"1\" class=\"dataframe\">\n",
       "  <thead>\n",
       "    <tr style=\"text-align: right;\">\n",
       "      <th></th>\n",
       "      <th>band</th>\n",
       "      <th>member</th>\n",
       "      <th>mbid</th>\n",
       "      <th>role</th>\n",
       "      <th>start</th>\n",
       "      <th>end</th>\n",
       "      <th>label</th>\n",
       "      <th>type</th>\n",
       "      <th>link</th>\n",
       "    </tr>\n",
       "  </thead>\n",
       "  <tbody>\n",
       "    <tr>\n",
       "      <th>0</th>\n",
       "      <td>The Beatles</td>\n",
       "      <td>George Harrison</td>\n",
       "      <td>42a8f507-8412-4611-854f-926571049fa0</td>\n",
       "      <td>lead vocals</td>\n",
       "      <td>1958</td>\n",
       "      <td>1970</td>\n",
       "      <td>George Harrison (lead vocals)</td>\n",
       "      <td>blue</td>\n",
       "      <td>https://musicbrainz.org/artist/42a8f507-8412-4...</td>\n",
       "    </tr>\n",
       "    <tr>\n",
       "      <th>1</th>\n",
       "      <td>The Beatles</td>\n",
       "      <td>George Harrison</td>\n",
       "      <td>42a8f507-8412-4611-854f-926571049fa0</td>\n",
       "      <td>guitar</td>\n",
       "      <td>1958</td>\n",
       "      <td>1970</td>\n",
       "      <td>George Harrison (guitar)</td>\n",
       "      <td>green</td>\n",
       "      <td>https://musicbrainz.org/artist/42a8f507-8412-4...</td>\n",
       "    </tr>\n",
       "    <tr>\n",
       "      <th>2</th>\n",
       "      <td>The Beatles</td>\n",
       "      <td>Pete Best</td>\n",
       "      <td>0d4ab0f9-bbda-4ab1-ae2c-f772ffcfbea9</td>\n",
       "      <td>drums</td>\n",
       "      <td>1960</td>\n",
       "      <td>1962</td>\n",
       "      <td>Pete Best (drums)</td>\n",
       "      <td>yellow</td>\n",
       "      <td>https://musicbrainz.org/artist/0d4ab0f9-bbda-4...</td>\n",
       "    </tr>\n",
       "    <tr>\n",
       "      <th>3</th>\n",
       "      <td>The Beatles</td>\n",
       "      <td>Paul McCartney</td>\n",
       "      <td>ba550d0e-adac-4864-b88b-407cab5e76af</td>\n",
       "      <td>lead vocals</td>\n",
       "      <td>1957</td>\n",
       "      <td>1970</td>\n",
       "      <td>Paul McCartney (lead vocals)</td>\n",
       "      <td>blue</td>\n",
       "      <td>https://musicbrainz.org/artist/ba550d0e-adac-4...</td>\n",
       "    </tr>\n",
       "    <tr>\n",
       "      <th>4</th>\n",
       "      <td>The Beatles</td>\n",
       "      <td>Paul McCartney</td>\n",
       "      <td>ba550d0e-adac-4864-b88b-407cab5e76af</td>\n",
       "      <td>bass guitar</td>\n",
       "      <td>1957</td>\n",
       "      <td>1970</td>\n",
       "      <td>Paul McCartney (bass guitar)</td>\n",
       "      <td>red</td>\n",
       "      <td>https://musicbrainz.org/artist/ba550d0e-adac-4...</td>\n",
       "    </tr>\n",
       "    <tr>\n",
       "      <th>5</th>\n",
       "      <td>The Beatles</td>\n",
       "      <td>Ringo Starr</td>\n",
       "      <td>300c4c73-33ac-4255-9d57-4e32627f5e13</td>\n",
       "      <td>drums</td>\n",
       "      <td>1962</td>\n",
       "      <td>1970</td>\n",
       "      <td>Ringo Starr (drums)</td>\n",
       "      <td>yellow</td>\n",
       "      <td>https://musicbrainz.org/artist/300c4c73-33ac-4...</td>\n",
       "    </tr>\n",
       "    <tr>\n",
       "      <th>6</th>\n",
       "      <td>The Beatles</td>\n",
       "      <td>Stuart Sutcliffe</td>\n",
       "      <td>49a51491-650e-44b3-8085-2f07ac2986dd</td>\n",
       "      <td>bass guitar</td>\n",
       "      <td>1960</td>\n",
       "      <td>1962</td>\n",
       "      <td>Stuart Sutcliffe (bass guitar)</td>\n",
       "      <td>red</td>\n",
       "      <td>https://musicbrainz.org/artist/49a51491-650e-4...</td>\n",
       "    </tr>\n",
       "    <tr>\n",
       "      <th>7</th>\n",
       "      <td>The Beatles</td>\n",
       "      <td>John Lennon</td>\n",
       "      <td>4d5447d7-c61c-4120-ba1b-d7f471d385b9</td>\n",
       "      <td>lead vocals</td>\n",
       "      <td>1957</td>\n",
       "      <td>1970</td>\n",
       "      <td>John Lennon (lead vocals)</td>\n",
       "      <td>blue</td>\n",
       "      <td>https://musicbrainz.org/artist/4d5447d7-c61c-4...</td>\n",
       "    </tr>\n",
       "    <tr>\n",
       "      <th>8</th>\n",
       "      <td>The Beatles</td>\n",
       "      <td>John Lennon</td>\n",
       "      <td>4d5447d7-c61c-4120-ba1b-d7f471d385b9</td>\n",
       "      <td>guitar</td>\n",
       "      <td>1957</td>\n",
       "      <td>1970</td>\n",
       "      <td>John Lennon (guitar)</td>\n",
       "      <td>green</td>\n",
       "      <td>https://musicbrainz.org/artist/4d5447d7-c61c-4...</td>\n",
       "    </tr>\n",
       "  </tbody>\n",
       "</table>\n",
       "</div>"
      ],
      "text/plain": [
       "          band            member                                  mbid  \\\n",
       "0  The Beatles   George Harrison  42a8f507-8412-4611-854f-926571049fa0   \n",
       "1  The Beatles   George Harrison  42a8f507-8412-4611-854f-926571049fa0   \n",
       "2  The Beatles         Pete Best  0d4ab0f9-bbda-4ab1-ae2c-f772ffcfbea9   \n",
       "3  The Beatles    Paul McCartney  ba550d0e-adac-4864-b88b-407cab5e76af   \n",
       "4  The Beatles    Paul McCartney  ba550d0e-adac-4864-b88b-407cab5e76af   \n",
       "5  The Beatles       Ringo Starr  300c4c73-33ac-4255-9d57-4e32627f5e13   \n",
       "6  The Beatles  Stuart Sutcliffe  49a51491-650e-44b3-8085-2f07ac2986dd   \n",
       "7  The Beatles       John Lennon  4d5447d7-c61c-4120-ba1b-d7f471d385b9   \n",
       "8  The Beatles       John Lennon  4d5447d7-c61c-4120-ba1b-d7f471d385b9   \n",
       "\n",
       "          role start   end                           label    type  \\\n",
       "0  lead vocals  1958  1970   George Harrison (lead vocals)    blue   \n",
       "1       guitar  1958  1970        George Harrison (guitar)   green   \n",
       "2        drums  1960  1962               Pete Best (drums)  yellow   \n",
       "3  lead vocals  1957  1970    Paul McCartney (lead vocals)    blue   \n",
       "4  bass guitar  1957  1970    Paul McCartney (bass guitar)     red   \n",
       "5        drums  1962  1970             Ringo Starr (drums)  yellow   \n",
       "6  bass guitar  1960  1962  Stuart Sutcliffe (bass guitar)     red   \n",
       "7  lead vocals  1957  1970       John Lennon (lead vocals)    blue   \n",
       "8       guitar  1957  1970            John Lennon (guitar)   green   \n",
       "\n",
       "                                                link  \n",
       "0  https://musicbrainz.org/artist/42a8f507-8412-4...  \n",
       "1  https://musicbrainz.org/artist/42a8f507-8412-4...  \n",
       "2  https://musicbrainz.org/artist/0d4ab0f9-bbda-4...  \n",
       "3  https://musicbrainz.org/artist/ba550d0e-adac-4...  \n",
       "4  https://musicbrainz.org/artist/ba550d0e-adac-4...  \n",
       "5  https://musicbrainz.org/artist/300c4c73-33ac-4...  \n",
       "6  https://musicbrainz.org/artist/49a51491-650e-4...  \n",
       "7  https://musicbrainz.org/artist/4d5447d7-c61c-4...  \n",
       "8  https://musicbrainz.org/artist/4d5447d7-c61c-4...  "
      ]
     },
     "execution_count": 8,
     "metadata": {},
     "output_type": "execute_result"
    }
   ],
   "source": [
    "df['link'] = 'https://musicbrainz.org/artist/' + df['mbid'].astype(str)\n",
    "df"
   ]
  },
  {
   "cell_type": "markdown",
   "metadata": {},
   "source": [
    "The last preparation step is to transform this Python data structure into a Javascript one that the timesheet library can read. We're going to use the fact that a Python list and a Javascript array are very close."
   ]
  },
  {
   "cell_type": "code",
   "execution_count": 9,
   "metadata": {
    "collapsed": false
   },
   "outputs": [
    {
     "name": "stdout",
     "output_type": "stream",
     "text": [
      "[{'band': 'The Beatles',\n",
      "  'end': '1970',\n",
      "  'label': 'George Harrison (lead vocals)',\n",
      "  'link': 'https://musicbrainz.org/artist/42a8f507-8412-4611-854f-926571049fa0',\n",
      "  'mbid': '42a8f507-8412-4611-854f-926571049fa0',\n",
      "  'member': 'George Harrison',\n",
      "  'role': 'lead vocals',\n",
      "  'start': '1958',\n",
      "  'type': 'blue'},\n",
      " {'band': 'The Beatles',\n",
      "  'end': '1970',\n",
      "  'label': 'George Harrison (guitar)',\n",
      "  'link': 'https://musicbrainz.org/artist/42a8f507-8412-4611-854f-926571049fa0',\n",
      "  'mbid': '42a8f507-8412-4611-854f-926571049fa0',\n",
      "  'member': 'George Harrison',\n",
      "  'role': 'guitar',\n",
      "  'start': '1958',\n",
      "  'type': 'green'},\n",
      " {'band': 'The Beatles',\n",
      "  'end': '1962',\n",
      "  'label': 'Pete Best (drums)',\n",
      "  'link': 'https://musicbrainz.org/artist/0d4ab0f9-bbda-4ab1-ae2c-f772ffcfbea9',\n",
      "  'mbid': '0d4ab0f9-bbda-4ab1-ae2c-f772ffcfbea9',\n",
      "  'member': 'Pete Best',\n",
      "  'role': 'drums',\n",
      "  'start': '1960',\n",
      "  'type': 'yellow'},\n",
      " {'band': 'The Beatles',\n",
      "  'end': '1970',\n",
      "  'label': 'Paul McCartney (lead vocals)',\n",
      "  'link': 'https://musicbrainz.org/artist/ba550d0e-adac-4864-b88b-407cab5e76af',\n",
      "  'mbid': 'ba550d0e-adac-4864-b88b-407cab5e76af',\n",
      "  'member': 'Paul McCartney',\n",
      "  'role': 'lead vocals',\n",
      "  'start': '1957',\n",
      "  'type': 'blue'},\n",
      " {'band': 'The Beatles',\n",
      "  'end': '1970',\n",
      "  'label': 'Paul McCartney (bass guitar)',\n",
      "  'link': 'https://musicbrainz.org/artist/ba550d0e-adac-4864-b88b-407cab5e76af',\n",
      "  'mbid': 'ba550d0e-adac-4864-b88b-407cab5e76af',\n",
      "  'member': 'Paul McCartney',\n",
      "  'role': 'bass guitar',\n",
      "  'start': '1957',\n",
      "  'type': 'red'},\n",
      " {'band': 'The Beatles',\n",
      "  'end': '1970',\n",
      "  'label': 'Ringo Starr (drums)',\n",
      "  'link': 'https://musicbrainz.org/artist/300c4c73-33ac-4255-9d57-4e32627f5e13',\n",
      "  'mbid': '300c4c73-33ac-4255-9d57-4e32627f5e13',\n",
      "  'member': 'Ringo Starr',\n",
      "  'role': 'drums',\n",
      "  'start': '1962',\n",
      "  'type': 'yellow'},\n",
      " {'band': 'The Beatles',\n",
      "  'end': '1962',\n",
      "  'label': 'Stuart Sutcliffe (bass guitar)',\n",
      "  'link': 'https://musicbrainz.org/artist/49a51491-650e-44b3-8085-2f07ac2986dd',\n",
      "  'mbid': '49a51491-650e-44b3-8085-2f07ac2986dd',\n",
      "  'member': 'Stuart Sutcliffe',\n",
      "  'role': 'bass guitar',\n",
      "  'start': '1960',\n",
      "  'type': 'red'},\n",
      " {'band': 'The Beatles',\n",
      "  'end': '1970',\n",
      "  'label': 'John Lennon (lead vocals)',\n",
      "  'link': 'https://musicbrainz.org/artist/4d5447d7-c61c-4120-ba1b-d7f471d385b9',\n",
      "  'mbid': '4d5447d7-c61c-4120-ba1b-d7f471d385b9',\n",
      "  'member': 'John Lennon',\n",
      "  'role': 'lead vocals',\n",
      "  'start': '1957',\n",
      "  'type': 'blue'},\n",
      " {'band': 'The Beatles',\n",
      "  'end': '1970',\n",
      "  'label': 'John Lennon (guitar)',\n",
      "  'link': 'https://musicbrainz.org/artist/4d5447d7-c61c-4120-ba1b-d7f471d385b9',\n",
      "  'mbid': '4d5447d7-c61c-4120-ba1b-d7f471d385b9',\n",
      "  'member': 'John Lennon',\n",
      "  'role': 'guitar',\n",
      "  'start': '1957',\n",
      "  'type': 'green'}]\n"
     ]
    }
   ],
   "source": [
    "bubbles = [df.ix[i].to_dict() for i in range(len(df))]\n",
    "pprint(bubbles)"
   ]
  },
  {
   "cell_type": "markdown",
   "metadata": {},
   "source": [
    "Perfect. Time to do some javascript. The Jupyter notebook can display javascript plots in an output cell by using the *element.append* magic. I'll display this cell (no. 10) later so that we keep the javascript code (no. 11) above its output, but the *element.append* code must be executed **before** the \"new Timesheet\" code (so 10 before 11)."
   ]
  },
  {
   "cell_type": "markdown",
   "metadata": {},
   "source": [
    "Last step: we call the Timesheet javascript command using the CSS/JS libraries loaded above, our input data (referred below as 'bubbles', the cell where we want our graph, and the timeline limit (min and max date). Executing the next cell will fill the output cell just above this block automatically."
   ]
  },
  {
   "cell_type": "code",
   "execution_count": 11,
   "metadata": {
    "collapsed": false
   },
   "outputs": [
    {
     "data": {
      "application/javascript": [
       "\n",
       "var bubbles = [{'start': '1958', 'mbid': '42a8f507-8412-4611-854f-926571049fa0', 'type': 'blue', 'role': 'lead vocals', 'label': 'George Harrison (lead vocals)', 'link': 'https://musicbrainz.org/artist/42a8f507-8412-4611-854f-926571049fa0', 'band': 'The Beatles', 'end': '1970', 'member': 'George Harrison'}, {'start': '1958', 'mbid': '42a8f507-8412-4611-854f-926571049fa0', 'type': 'green', 'role': 'guitar', 'label': 'George Harrison (guitar)', 'link': 'https://musicbrainz.org/artist/42a8f507-8412-4611-854f-926571049fa0', 'band': 'The Beatles', 'end': '1970', 'member': 'George Harrison'}, {'start': '1960', 'mbid': '0d4ab0f9-bbda-4ab1-ae2c-f772ffcfbea9', 'type': 'yellow', 'role': 'drums', 'label': 'Pete Best (drums)', 'link': 'https://musicbrainz.org/artist/0d4ab0f9-bbda-4ab1-ae2c-f772ffcfbea9', 'band': 'The Beatles', 'end': '1962', 'member': 'Pete Best'}, {'start': '1957', 'mbid': 'ba550d0e-adac-4864-b88b-407cab5e76af', 'type': 'blue', 'role': 'lead vocals', 'label': 'Paul McCartney (lead vocals)', 'link': 'https://musicbrainz.org/artist/ba550d0e-adac-4864-b88b-407cab5e76af', 'band': 'The Beatles', 'end': '1970', 'member': 'Paul McCartney'}, {'start': '1957', 'mbid': 'ba550d0e-adac-4864-b88b-407cab5e76af', 'type': 'red', 'role': 'bass guitar', 'label': 'Paul McCartney (bass guitar)', 'link': 'https://musicbrainz.org/artist/ba550d0e-adac-4864-b88b-407cab5e76af', 'band': 'The Beatles', 'end': '1970', 'member': 'Paul McCartney'}, {'start': '1962', 'mbid': '300c4c73-33ac-4255-9d57-4e32627f5e13', 'type': 'yellow', 'role': 'drums', 'label': 'Ringo Starr (drums)', 'link': 'https://musicbrainz.org/artist/300c4c73-33ac-4255-9d57-4e32627f5e13', 'band': 'The Beatles', 'end': '1970', 'member': 'Ringo Starr'}, {'start': '1960', 'mbid': '49a51491-650e-44b3-8085-2f07ac2986dd', 'type': 'red', 'role': 'bass guitar', 'label': 'Stuart Sutcliffe (bass guitar)', 'link': 'https://musicbrainz.org/artist/49a51491-650e-44b3-8085-2f07ac2986dd', 'band': 'The Beatles', 'end': '1962', 'member': 'Stuart Sutcliffe'}, {'start': '1957', 'mbid': '4d5447d7-c61c-4120-ba1b-d7f471d385b9', 'type': 'blue', 'role': 'lead vocals', 'label': 'John Lennon (lead vocals)', 'link': 'https://musicbrainz.org/artist/4d5447d7-c61c-4120-ba1b-d7f471d385b9', 'band': 'The Beatles', 'end': '1970', 'member': 'John Lennon'}, {'start': '1957', 'mbid': '4d5447d7-c61c-4120-ba1b-d7f471d385b9', 'type': 'green', 'role': 'guitar', 'label': 'John Lennon (guitar)', 'link': 'https://musicbrainz.org/artist/4d5447d7-c61c-4120-ba1b-d7f471d385b9', 'band': 'The Beatles', 'end': '1970', 'member': 'John Lennon'}];\n",
       "new Timesheet(bubbles, {\n",
       "    container: 'timesheet-container',\n",
       "    type: 'parallel',\n",
       "    //type: 'serial',\n",
       "    timesheetYearMin: 1957,\n",
       "    timesheetYearMax: 1970,\n",
       "    theme: 'light'\n",
       "});\n"
      ],
      "text/plain": [
       "<IPython.core.display.Javascript object>"
      ]
     },
     "execution_count": 11,
     "metadata": {},
     "output_type": "execute_result"
    }
   ],
   "source": [
    "from IPython.display import Javascript\n",
    "Javascript(\"\"\"\n",
    "var bubbles = %s;\n",
    "new Timesheet(bubbles, {\n",
    "    container: 'timesheet-container',\n",
    "    type: 'parallel',\n",
    "    //type: 'serial',\n",
    "    timesheetYearMin: %s,\n",
    "    timesheetYearMax: %s,\n",
    "    theme: 'light'\n",
    "});\n",
    "\"\"\" % (bubbles, df['start'].min(), df['end'].max()))"
   ]
  },
  {
   "cell_type": "code",
   "execution_count": 10,
   "metadata": {
    "collapsed": false
   },
   "outputs": [
    {
     "data": {
      "application/javascript": [
       "// this must be executed before the \"from IPython.display import Javascript\" block\n",
       "element.append('<div id=\"timesheet-container\" style=\"width: 100%;height: 100%;\"></div>');"
      ],
      "text/plain": [
       "<IPython.core.display.Javascript object>"
      ]
     },
     "metadata": {},
     "output_type": "display_data"
    }
   ],
   "source": [
    "%%javascript\n",
    "// this must be executed before the \"from IPython.display import Javascript\" block\n",
    "element.append('<div id=\"timesheet-container\" style=\"width: 100%;height: 100%;\"></div>');"
   ]
  },
  {
   "cell_type": "markdown",
   "metadata": {},
   "source": [
    "We have our timeline now! As you can see the same color is used for the same role consistently. If you can't see the timeline above you can find a copy on [github.io](https://loujine.github.io/musicbrainz-dataviz/)."
   ]
  },
  {
   "cell_type": "markdown",
   "metadata": {},
   "source": [
    "## Second example"
   ]
  },
  {
   "cell_type": "markdown",
   "metadata": {},
   "source": [
    "Let's repeat our code on a second band, this time a classical String Quartet group."
   ]
  },
  {
   "cell_type": "code",
   "execution_count": 12,
   "metadata": {
    "collapsed": false
   },
   "outputs": [],
   "source": [
    "band_name = 'Beethoven String Quartet'"
   ]
  },
  {
   "cell_type": "code",
   "execution_count": 13,
   "metadata": {
    "collapsed": true
   },
   "outputs": [],
   "source": [
    "def prepare_data(band_name):\n",
    "    df = sql(\"\"\"\n",
    "SELECT b.name AS band,\n",
    "       m.name AS member,\n",
    "       m.gid  AS mbid,\n",
    "       lat.name AS role,\n",
    "       l.begin_date_year AS start,\n",
    "       l.end_date_year AS end\n",
    "FROM artist              AS b\n",
    "JOIN l_artist_artist     AS laa ON laa.entity1 = b.id\n",
    "JOIN artist              AS m   ON laa.entity0 = m.id\n",
    "JOIN link                AS l   ON l.id = laa.link\n",
    "JOIN link_attribute      AS la  ON la.link = l.id\n",
    "JOIN link_attribute_type AS lat ON la.attribute_type = lat.id\n",
    "JOIN link_type           AS lt  ON l.link_type = lt.id\n",
    "WHERE lt.name = 'member of band'\n",
    "  AND b.name = %(band_name)s\n",
    "  AND lat.name != 'original';\n",
    "\"\"\")\n",
    "    df['start'] = df['start'].fillna(1957).astype(int)\n",
    "    df['start'] = df['start'].astype(str)\n",
    "    df['end'] = df['end'].astype(str)\n",
    "    df['link'] = 'https://musicbrainz.org/artist/' + df['mbid'].astype(str)\n",
    "    df['label'] = df['member'] + ' (' + df['role'] + ')'\n",
    "    colors = dict(zip(list(set(df['role'])), ['red', 'blue', 'yellow', 'green']))\n",
    "    df['type'] = df['role'].apply(lambda role: colors[role])\n",
    "    df.drop(['band', 'member', 'mbid', 'role'], axis=1, inplace=True)\n",
    "    return [df.ix[i].to_dict() for i in range(len(df))], df['start'].min(), df['end'].max()"
   ]
  },
  {
   "cell_type": "code",
   "execution_count": 14,
   "metadata": {
    "collapsed": false
   },
   "outputs": [
    {
     "data": {
      "text/plain": [
       "([{'end': '1965',\n",
       "   'label': 'Василий Ширинский (violin)',\n",
       "   'link': 'https://musicbrainz.org/artist/5d71f6b5-eb33-45b6-807a-fb17545bfb3e',\n",
       "   'start': '1923',\n",
       "   'type': 'blue'},\n",
       "  {'end': '1977',\n",
       "   'label': 'Дмитрий Цыганов (violin)',\n",
       "   'link': 'https://musicbrainz.org/artist/d0aeb2ad-308e-41ce-b767-8e7227284a91',\n",
       "   'start': '1923',\n",
       "   'type': 'blue'},\n",
       "  {'end': '1990',\n",
       "   'label': 'Nikolai Zabavnikov (violin)',\n",
       "   'link': 'https://musicbrainz.org/artist/19c80b9e-5b90-4dde-80e6-9e906862aa22',\n",
       "   'start': '1965',\n",
       "   'type': 'blue'},\n",
       "  {'end': '1990',\n",
       "   'label': 'Олег Крыса (violin)',\n",
       "   'link': 'https://musicbrainz.org/artist/bfe32af2-0725-4d2e-97a8-36894b1404a1',\n",
       "   'start': '1977',\n",
       "   'type': 'blue'},\n",
       "  {'end': '1974',\n",
       "   'label': 'Сергей Петрович Ширинский (cello)',\n",
       "   'link': 'https://musicbrainz.org/artist/de91fd01-2067-436f-9dcb-4ee07a89b0df',\n",
       "   'start': '1923',\n",
       "   'type': 'yellow'},\n",
       "  {'end': '1964',\n",
       "   'label': 'Вадим Васильевич Борисовский (viola)',\n",
       "   'link': 'https://musicbrainz.org/artist/351367af-9ff5-4a67-9484-7ab9fe4b884d',\n",
       "   'start': '1923',\n",
       "   'type': 'red'}],\n",
       " '1923',\n",
       " '1990')"
      ]
     },
     "execution_count": 14,
     "metadata": {},
     "output_type": "execute_result"
    }
   ],
   "source": [
    "prepare_data(band_name)"
   ]
  },
  {
   "cell_type": "code",
   "execution_count": 16,
   "metadata": {
    "collapsed": false
   },
   "outputs": [
    {
     "data": {
      "application/javascript": [
       "\n",
       "var bubbles = [{'start': '1923', 'label': 'Василий Ширинский (violin)', 'link': 'https://musicbrainz.org/artist/5d71f6b5-eb33-45b6-807a-fb17545bfb3e', 'end': '1965', 'type': 'blue'}, {'start': '1923', 'label': 'Дмитрий Цыганов (violin)', 'link': 'https://musicbrainz.org/artist/d0aeb2ad-308e-41ce-b767-8e7227284a91', 'end': '1977', 'type': 'blue'}, {'start': '1965', 'label': 'Nikolai Zabavnikov (violin)', 'link': 'https://musicbrainz.org/artist/19c80b9e-5b90-4dde-80e6-9e906862aa22', 'end': '1990', 'type': 'blue'}, {'start': '1977', 'label': 'Олег Крыса (violin)', 'link': 'https://musicbrainz.org/artist/bfe32af2-0725-4d2e-97a8-36894b1404a1', 'end': '1990', 'type': 'blue'}, {'start': '1923', 'label': 'Сергей Петрович Ширинский (cello)', 'link': 'https://musicbrainz.org/artist/de91fd01-2067-436f-9dcb-4ee07a89b0df', 'end': '1974', 'type': 'yellow'}, {'start': '1923', 'label': 'Вадим Васильевич Борисовский (viola)', 'link': 'https://musicbrainz.org/artist/351367af-9ff5-4a67-9484-7ab9fe4b884d', 'end': '1964', 'type': 'red'}];\n",
       "new Timesheet(bubbles, {\n",
       "    container: 'timesheet-container2',\n",
       "    type: 'parallel',\n",
       "    timesheetYearMin: 1923,\n",
       "    timesheetYearMax: 1990,\n",
       "    theme: 'light'\n",
       "});\n"
      ],
      "text/plain": [
       "<IPython.core.display.Javascript object>"
      ]
     },
     "execution_count": 16,
     "metadata": {},
     "output_type": "execute_result"
    }
   ],
   "source": [
    "from IPython.display import Javascript\n",
    "Javascript(\"\"\"\n",
    "var bubbles = %s;\n",
    "new Timesheet(bubbles, {\n",
    "    container: 'timesheet-container2',\n",
    "    type: 'parallel',\n",
    "    timesheetYearMin: %s,\n",
    "    timesheetYearMax: %s,\n",
    "    theme: 'light'\n",
    "});\n",
    "\"\"\" % prepare_data(band_name))"
   ]
  },
  {
   "cell_type": "code",
   "execution_count": 15,
   "metadata": {
    "collapsed": false
   },
   "outputs": [
    {
     "data": {
      "application/javascript": [
       "// this must be executed before the \"from IPython.display import Javascript\" block\n",
       "element.append('<div id=\"timesheet-container2\" style=\"width: 100%;height: 100%;\"></div>');"
      ],
      "text/plain": [
       "<IPython.core.display.Javascript object>"
      ]
     },
     "metadata": {},
     "output_type": "display_data"
    }
   ],
   "source": [
    "%%javascript\n",
    "// this must be executed before the \"from IPython.display import Javascript\" block\n",
    "element.append('<div id=\"timesheet-container2\" style=\"width: 100%;height: 100%;\"></div>');"
   ]
  },
  {
   "cell_type": "markdown",
   "metadata": {},
   "source": [
    "The timeline is probably larger than your window, use the slider to see when members changed in the String Quartet group."
   ]
  },
  {
   "cell_type": "markdown",
   "metadata": {},
   "source": [
    "One possible improvement would be to fetch the instrument credit ('1st violin', '2nd violin'...)  to have more precise roles."
   ]
  },
  {
   "cell_type": "markdown",
   "metadata": {},
   "source": [
    "## Conclusion"
   ]
  },
  {
   "cell_type": "markdown",
   "metadata": {},
   "source": [
    "With this notebook I hoped I showed that testing a new plotting library to display data from MusicBrainz is not very complicated"
   ]
  }
 ],
 "metadata": {
  "kernelspec": {
   "display_name": "Python 3",
   "language": "python",
   "name": "python3"
  },
  "language_info": {
   "codemirror_mode": {
    "name": "ipython",
    "version": 3
   },
   "file_extension": ".py",
   "mimetype": "text/x-python",
   "name": "python",
   "nbconvert_exporter": "python",
   "pygments_lexer": "ipython3",
   "version": "3.5.3"
  }
 },
 "nbformat": 4,
 "nbformat_minor": 2
}
