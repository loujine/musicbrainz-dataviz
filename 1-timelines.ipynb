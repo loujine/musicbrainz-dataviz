{
 "cells": [
  {
   "cell_type": "markdown",
   "metadata": {},
   "source": [
    "# Displaying MusicBrainz data in a timeline"
   ]
  },
  {
   "cell_type": "markdown",
   "metadata": {},
   "source": [
    "One thing I thought about adding to the MusicBrainz web interface is a timeline on band pages, in order to show when new members arrived or left the band.\n",
    "\n",
    "Before suggesting this change to the MusicBrainz project, we can try to display this kind of timeline in a Jupyter notebook and see how it would look like. I decided to test the timesheet-advanced.js library for this purpose."
   ]
  },
  {
   "cell_type": "markdown",
   "metadata": {},
   "source": [
    "Again I need first to initialize a connection to my local copy of the MusicBrainz database:"
   ]
  },
  {
   "cell_type": "code",
   "execution_count": 1,
   "metadata": {
    "collapsed": true
   },
   "outputs": [],
   "source": [
    "from pprint import pprint\n",
    "\n",
    "import pandas\n",
    "import sqlalchemy\n",
    "# define DB\n",
    "PGHOST = \"192.168.11.3\"\n",
    "PGDATABASE = \"musicbrainz_db\"\n",
    "PGUSER = \"musicbrainz\"\n",
    "PGPASSWORD = \"musicbrainz\"\n",
    "\n",
    "engine = sqlalchemy.create_engine(\n",
    "   'postgresql+psycopg2://{PGUSER}:{PGPASSWORD}@{PGHOST}/{PGDATABASE}'.format(**locals()),\n",
    "    isolation_level='READ UNCOMMITTED')\n",
    "\n",
    "# helper function\n",
    "def sql(query, **kwargs):\n",
    "    return pandas.read_sql(query, engine, params=globals(), **kwargs)"
   ]
  },
  {
   "cell_type": "markdown",
   "metadata": {},
   "source": [
    "Now I can extract the information for the band I want. The SQL query will look for:\n",
    "\n",
    "* band name\n",
    "* artists linked to this band through the \"member of\" relationship\n",
    "* instrument/vocal role of this relationship"
   ]
  },
  {
   "cell_type": "markdown",
   "metadata": {},
   "source": [
    "Let's start with some band you probably already know:"
   ]
  },
  {
   "cell_type": "code",
   "execution_count": 2,
   "metadata": {
    "collapsed": true
   },
   "outputs": [],
   "source": [
    "band_name = 'The Beatles'"
   ]
  },
  {
   "cell_type": "markdown",
   "metadata": {},
   "source": [
    "The SQL query is a bit complicated because it uses a lot of different tables"
   ]
  },
  {
   "cell_type": "code",
   "execution_count": 3,
   "metadata": {
    "collapsed": false,
    "scrolled": true
   },
   "outputs": [
    {
     "data": {
      "text/html": [
       "<div>\n",
       "<table border=\"1\" class=\"dataframe\">\n",
       "  <thead>\n",
       "    <tr style=\"text-align: right;\">\n",
       "      <th></th>\n",
       "      <th>band</th>\n",
       "      <th>member</th>\n",
       "      <th>role</th>\n",
       "      <th>start</th>\n",
       "      <th>end</th>\n",
       "    </tr>\n",
       "  </thead>\n",
       "  <tbody>\n",
       "    <tr>\n",
       "      <th>0</th>\n",
       "      <td>The Beatles</td>\n",
       "      <td>George Harrison</td>\n",
       "      <td>lead vocals</td>\n",
       "      <td>1958.0</td>\n",
       "      <td>1970</td>\n",
       "    </tr>\n",
       "    <tr>\n",
       "      <th>1</th>\n",
       "      <td>The Beatles</td>\n",
       "      <td>George Harrison</td>\n",
       "      <td>guitar</td>\n",
       "      <td>1958.0</td>\n",
       "      <td>1970</td>\n",
       "    </tr>\n",
       "    <tr>\n",
       "      <th>2</th>\n",
       "      <td>The Beatles</td>\n",
       "      <td>Pete Best</td>\n",
       "      <td>drums</td>\n",
       "      <td>1960.0</td>\n",
       "      <td>1962</td>\n",
       "    </tr>\n",
       "    <tr>\n",
       "      <th>3</th>\n",
       "      <td>The Beatles</td>\n",
       "      <td>Paul McCartney</td>\n",
       "      <td>lead vocals</td>\n",
       "      <td>1957.0</td>\n",
       "      <td>1970</td>\n",
       "    </tr>\n",
       "    <tr>\n",
       "      <th>4</th>\n",
       "      <td>The Beatles</td>\n",
       "      <td>Paul McCartney</td>\n",
       "      <td>bass guitar</td>\n",
       "      <td>1957.0</td>\n",
       "      <td>1970</td>\n",
       "    </tr>\n",
       "    <tr>\n",
       "      <th>5</th>\n",
       "      <td>The Beatles</td>\n",
       "      <td>Ringo Starr</td>\n",
       "      <td>drums</td>\n",
       "      <td>1962.0</td>\n",
       "      <td>1970</td>\n",
       "    </tr>\n",
       "    <tr>\n",
       "      <th>6</th>\n",
       "      <td>The Beatles</td>\n",
       "      <td>Stuart Sutcliffe</td>\n",
       "      <td>bass guitar</td>\n",
       "      <td>1960.0</td>\n",
       "      <td>1962</td>\n",
       "    </tr>\n",
       "    <tr>\n",
       "      <th>7</th>\n",
       "      <td>The Beatles</td>\n",
       "      <td>John Lennon</td>\n",
       "      <td>lead vocals</td>\n",
       "      <td>NaN</td>\n",
       "      <td>1970</td>\n",
       "    </tr>\n",
       "    <tr>\n",
       "      <th>8</th>\n",
       "      <td>The Beatles</td>\n",
       "      <td>John Lennon</td>\n",
       "      <td>guitar</td>\n",
       "      <td>NaN</td>\n",
       "      <td>1970</td>\n",
       "    </tr>\n",
       "  </tbody>\n",
       "</table>\n",
       "</div>"
      ],
      "text/plain": [
       "          band            member         role   start   end\n",
       "0  The Beatles   George Harrison  lead vocals  1958.0  1970\n",
       "1  The Beatles   George Harrison       guitar  1958.0  1970\n",
       "2  The Beatles         Pete Best        drums  1960.0  1962\n",
       "3  The Beatles    Paul McCartney  lead vocals  1957.0  1970\n",
       "4  The Beatles    Paul McCartney  bass guitar  1957.0  1970\n",
       "5  The Beatles       Ringo Starr        drums  1962.0  1970\n",
       "6  The Beatles  Stuart Sutcliffe  bass guitar  1960.0  1962\n",
       "7  The Beatles       John Lennon  lead vocals     NaN  1970\n",
       "8  The Beatles       John Lennon       guitar     NaN  1970"
      ]
     },
     "execution_count": 3,
     "metadata": {},
     "output_type": "execute_result"
    }
   ],
   "source": [
    "df = sql(\"\"\"\n",
    "SELECT b.name AS band,\n",
    "       m.name AS member,\n",
    "       lat.name AS role,\n",
    "       l.begin_date_year AS start,\n",
    "       l.end_date_year AS end\n",
    "FROM artist              AS b\n",
    "JOIN l_artist_artist     AS laa ON laa.entity1 = b.id\n",
    "JOIN artist              AS m   ON laa.entity0 = m.id\n",
    "JOIN link                AS l   ON l.id = laa.link\n",
    "JOIN link_attribute      AS la  ON la.link = l.id\n",
    "JOIN link_attribute_type AS lat ON la.attribute_type = lat.id\n",
    "JOIN link_type           AS lt  ON l.link_type = lt.id\n",
    "WHERE lt.name = 'member of band'\n",
    "  AND b.name = %(band_name)s\n",
    "  AND lat.name != 'original';\n",
    "\"\"\")\n",
    "df"
   ]
  },
  {
   "cell_type": "markdown",
   "metadata": {},
   "source": [
    "Looks good. Apart from some details:\n",
    "\n",
    "* John Lennon's role has no starting date, we can set it to 1957\n",
    "* these missing values made PanDas believe year dates are floating point number, we should fix this"
   ]
  },
  {
   "cell_type": "code",
   "execution_count": 4,
   "metadata": {
    "collapsed": false,
    "scrolled": true
   },
   "outputs": [
    {
     "data": {
      "text/html": [
       "<div>\n",
       "<table border=\"1\" class=\"dataframe\">\n",
       "  <thead>\n",
       "    <tr style=\"text-align: right;\">\n",
       "      <th></th>\n",
       "      <th>band</th>\n",
       "      <th>member</th>\n",
       "      <th>role</th>\n",
       "      <th>start</th>\n",
       "      <th>end</th>\n",
       "    </tr>\n",
       "  </thead>\n",
       "  <tbody>\n",
       "    <tr>\n",
       "      <th>0</th>\n",
       "      <td>The Beatles</td>\n",
       "      <td>George Harrison</td>\n",
       "      <td>lead vocals</td>\n",
       "      <td>1958</td>\n",
       "      <td>1970</td>\n",
       "    </tr>\n",
       "    <tr>\n",
       "      <th>1</th>\n",
       "      <td>The Beatles</td>\n",
       "      <td>George Harrison</td>\n",
       "      <td>guitar</td>\n",
       "      <td>1958</td>\n",
       "      <td>1970</td>\n",
       "    </tr>\n",
       "    <tr>\n",
       "      <th>2</th>\n",
       "      <td>The Beatles</td>\n",
       "      <td>Pete Best</td>\n",
       "      <td>drums</td>\n",
       "      <td>1960</td>\n",
       "      <td>1962</td>\n",
       "    </tr>\n",
       "    <tr>\n",
       "      <th>3</th>\n",
       "      <td>The Beatles</td>\n",
       "      <td>Paul McCartney</td>\n",
       "      <td>lead vocals</td>\n",
       "      <td>1957</td>\n",
       "      <td>1970</td>\n",
       "    </tr>\n",
       "    <tr>\n",
       "      <th>4</th>\n",
       "      <td>The Beatles</td>\n",
       "      <td>Paul McCartney</td>\n",
       "      <td>bass guitar</td>\n",
       "      <td>1957</td>\n",
       "      <td>1970</td>\n",
       "    </tr>\n",
       "    <tr>\n",
       "      <th>5</th>\n",
       "      <td>The Beatles</td>\n",
       "      <td>Ringo Starr</td>\n",
       "      <td>drums</td>\n",
       "      <td>1962</td>\n",
       "      <td>1970</td>\n",
       "    </tr>\n",
       "    <tr>\n",
       "      <th>6</th>\n",
       "      <td>The Beatles</td>\n",
       "      <td>Stuart Sutcliffe</td>\n",
       "      <td>bass guitar</td>\n",
       "      <td>1960</td>\n",
       "      <td>1962</td>\n",
       "    </tr>\n",
       "    <tr>\n",
       "      <th>7</th>\n",
       "      <td>The Beatles</td>\n",
       "      <td>John Lennon</td>\n",
       "      <td>lead vocals</td>\n",
       "      <td>1957</td>\n",
       "      <td>1970</td>\n",
       "    </tr>\n",
       "    <tr>\n",
       "      <th>8</th>\n",
       "      <td>The Beatles</td>\n",
       "      <td>John Lennon</td>\n",
       "      <td>guitar</td>\n",
       "      <td>1957</td>\n",
       "      <td>1970</td>\n",
       "    </tr>\n",
       "  </tbody>\n",
       "</table>\n",
       "</div>"
      ],
      "text/plain": [
       "          band            member         role start   end\n",
       "0  The Beatles   George Harrison  lead vocals  1958  1970\n",
       "1  The Beatles   George Harrison       guitar  1958  1970\n",
       "2  The Beatles         Pete Best        drums  1960  1962\n",
       "3  The Beatles    Paul McCartney  lead vocals  1957  1970\n",
       "4  The Beatles    Paul McCartney  bass guitar  1957  1970\n",
       "5  The Beatles       Ringo Starr        drums  1962  1970\n",
       "6  The Beatles  Stuart Sutcliffe  bass guitar  1960  1962\n",
       "7  The Beatles       John Lennon  lead vocals  1957  1970\n",
       "8  The Beatles       John Lennon       guitar  1957  1970"
      ]
     },
     "execution_count": 4,
     "metadata": {},
     "output_type": "execute_result"
    }
   ],
   "source": [
    "df['start'] = df['start'].fillna(1957).astype(int)\n",
    "df['start'] = df['start'].astype(str)\n",
    "df['end'] = df['end'].astype(str)\n",
    "df"
   ]
  },
  {
   "cell_type": "markdown",
   "metadata": {},
   "source": [
    "To display the timeline inside this notebook we need to lead the JS/CSS source of the timesheet-advanced package:"
   ]
  },
  {
   "cell_type": "code",
   "execution_count": 5,
   "metadata": {
    "collapsed": false
   },
   "outputs": [
    {
     "data": {
      "text/html": [
       "\n",
       "<link rel=\"stylesheet\" type=\"text/css\" href=\"./timesheet/timesheet.min.css\" />\n",
       "<script type=\"text/javascript\" src=\"./timesheet/timesheet-advanced.min.js\"></script>\n"
      ],
      "text/plain": [
       "<IPython.core.display.HTML object>"
      ]
     },
     "execution_count": 5,
     "metadata": {},
     "output_type": "execute_result"
    }
   ],
   "source": [
    "from IPython.display import HTML\n",
    "HTML(\"\"\"\n",
    "<link rel=\"stylesheet\" type=\"text/css\" href=\"./timesheet/timesheet.min.css\" />\n",
    "<script type=\"text/javascript\" src=\"./timesheet/timesheet-advanced.min.js\"></script>\n",
    "\"\"\")"
   ]
  },
  {
   "cell_type": "markdown",
   "metadata": {},
   "source": [
    "The timesheet-advanced package requires the input data for the timeline to be inserted slightly differently from what we have in our dataframe df. We need a 'label' field (we'll choose the band member name + instrument) and we need a 'type' which is a color. We choose colors to represent all possible roles (vocals, guitar, drums....)"
   ]
  },
  {
   "cell_type": "code",
   "execution_count": 6,
   "metadata": {
    "collapsed": false
   },
   "outputs": [
    {
     "data": {
      "text/html": [
       "<div>\n",
       "<table border=\"1\" class=\"dataframe\">\n",
       "  <thead>\n",
       "    <tr style=\"text-align: right;\">\n",
       "      <th></th>\n",
       "      <th>band</th>\n",
       "      <th>member</th>\n",
       "      <th>role</th>\n",
       "      <th>start</th>\n",
       "      <th>end</th>\n",
       "      <th>label</th>\n",
       "    </tr>\n",
       "  </thead>\n",
       "  <tbody>\n",
       "    <tr>\n",
       "      <th>0</th>\n",
       "      <td>The Beatles</td>\n",
       "      <td>George Harrison</td>\n",
       "      <td>lead vocals</td>\n",
       "      <td>1958</td>\n",
       "      <td>1970</td>\n",
       "      <td>George Harrison (lead vocals)</td>\n",
       "    </tr>\n",
       "    <tr>\n",
       "      <th>1</th>\n",
       "      <td>The Beatles</td>\n",
       "      <td>George Harrison</td>\n",
       "      <td>guitar</td>\n",
       "      <td>1958</td>\n",
       "      <td>1970</td>\n",
       "      <td>George Harrison (guitar)</td>\n",
       "    </tr>\n",
       "    <tr>\n",
       "      <th>2</th>\n",
       "      <td>The Beatles</td>\n",
       "      <td>Pete Best</td>\n",
       "      <td>drums</td>\n",
       "      <td>1960</td>\n",
       "      <td>1962</td>\n",
       "      <td>Pete Best (drums)</td>\n",
       "    </tr>\n",
       "    <tr>\n",
       "      <th>3</th>\n",
       "      <td>The Beatles</td>\n",
       "      <td>Paul McCartney</td>\n",
       "      <td>lead vocals</td>\n",
       "      <td>1957</td>\n",
       "      <td>1970</td>\n",
       "      <td>Paul McCartney (lead vocals)</td>\n",
       "    </tr>\n",
       "    <tr>\n",
       "      <th>4</th>\n",
       "      <td>The Beatles</td>\n",
       "      <td>Paul McCartney</td>\n",
       "      <td>bass guitar</td>\n",
       "      <td>1957</td>\n",
       "      <td>1970</td>\n",
       "      <td>Paul McCartney (bass guitar)</td>\n",
       "    </tr>\n",
       "    <tr>\n",
       "      <th>5</th>\n",
       "      <td>The Beatles</td>\n",
       "      <td>Ringo Starr</td>\n",
       "      <td>drums</td>\n",
       "      <td>1962</td>\n",
       "      <td>1970</td>\n",
       "      <td>Ringo Starr (drums)</td>\n",
       "    </tr>\n",
       "    <tr>\n",
       "      <th>6</th>\n",
       "      <td>The Beatles</td>\n",
       "      <td>Stuart Sutcliffe</td>\n",
       "      <td>bass guitar</td>\n",
       "      <td>1960</td>\n",
       "      <td>1962</td>\n",
       "      <td>Stuart Sutcliffe (bass guitar)</td>\n",
       "    </tr>\n",
       "    <tr>\n",
       "      <th>7</th>\n",
       "      <td>The Beatles</td>\n",
       "      <td>John Lennon</td>\n",
       "      <td>lead vocals</td>\n",
       "      <td>1957</td>\n",
       "      <td>1970</td>\n",
       "      <td>John Lennon (lead vocals)</td>\n",
       "    </tr>\n",
       "    <tr>\n",
       "      <th>8</th>\n",
       "      <td>The Beatles</td>\n",
       "      <td>John Lennon</td>\n",
       "      <td>guitar</td>\n",
       "      <td>1957</td>\n",
       "      <td>1970</td>\n",
       "      <td>John Lennon (guitar)</td>\n",
       "    </tr>\n",
       "  </tbody>\n",
       "</table>\n",
       "</div>"
      ],
      "text/plain": [
       "          band            member         role start   end  \\\n",
       "0  The Beatles   George Harrison  lead vocals  1958  1970   \n",
       "1  The Beatles   George Harrison       guitar  1958  1970   \n",
       "2  The Beatles         Pete Best        drums  1960  1962   \n",
       "3  The Beatles    Paul McCartney  lead vocals  1957  1970   \n",
       "4  The Beatles    Paul McCartney  bass guitar  1957  1970   \n",
       "5  The Beatles       Ringo Starr        drums  1962  1970   \n",
       "6  The Beatles  Stuart Sutcliffe  bass guitar  1960  1962   \n",
       "7  The Beatles       John Lennon  lead vocals  1957  1970   \n",
       "8  The Beatles       John Lennon       guitar  1957  1970   \n",
       "\n",
       "                            label  \n",
       "0   George Harrison (lead vocals)  \n",
       "1        George Harrison (guitar)  \n",
       "2               Pete Best (drums)  \n",
       "3    Paul McCartney (lead vocals)  \n",
       "4    Paul McCartney (bass guitar)  \n",
       "5             Ringo Starr (drums)  \n",
       "6  Stuart Sutcliffe (bass guitar)  \n",
       "7       John Lennon (lead vocals)  \n",
       "8            John Lennon (guitar)  "
      ]
     },
     "execution_count": 6,
     "metadata": {},
     "output_type": "execute_result"
    }
   ],
   "source": [
    "df['label'] = df['member'] + ' (' + df['role'] + ')'\n",
    "df"
   ]
  },
  {
   "cell_type": "code",
   "execution_count": 7,
   "metadata": {
    "collapsed": false
   },
   "outputs": [
    {
     "name": "stdout",
     "output_type": "stream",
     "text": [
      "Correspondance between colors and roles: {'guitar': 'red', 'bass guitar': 'blue', 'lead vocals': 'yellow', 'drums': 'green'}\n"
     ]
    },
    {
     "data": {
      "text/html": [
       "<div>\n",
       "<table border=\"1\" class=\"dataframe\">\n",
       "  <thead>\n",
       "    <tr style=\"text-align: right;\">\n",
       "      <th></th>\n",
       "      <th>band</th>\n",
       "      <th>member</th>\n",
       "      <th>role</th>\n",
       "      <th>start</th>\n",
       "      <th>end</th>\n",
       "      <th>label</th>\n",
       "      <th>type</th>\n",
       "    </tr>\n",
       "  </thead>\n",
       "  <tbody>\n",
       "    <tr>\n",
       "      <th>0</th>\n",
       "      <td>The Beatles</td>\n",
       "      <td>George Harrison</td>\n",
       "      <td>lead vocals</td>\n",
       "      <td>1958</td>\n",
       "      <td>1970</td>\n",
       "      <td>George Harrison (lead vocals)</td>\n",
       "      <td>yellow</td>\n",
       "    </tr>\n",
       "    <tr>\n",
       "      <th>1</th>\n",
       "      <td>The Beatles</td>\n",
       "      <td>George Harrison</td>\n",
       "      <td>guitar</td>\n",
       "      <td>1958</td>\n",
       "      <td>1970</td>\n",
       "      <td>George Harrison (guitar)</td>\n",
       "      <td>red</td>\n",
       "    </tr>\n",
       "    <tr>\n",
       "      <th>2</th>\n",
       "      <td>The Beatles</td>\n",
       "      <td>Pete Best</td>\n",
       "      <td>drums</td>\n",
       "      <td>1960</td>\n",
       "      <td>1962</td>\n",
       "      <td>Pete Best (drums)</td>\n",
       "      <td>green</td>\n",
       "    </tr>\n",
       "    <tr>\n",
       "      <th>3</th>\n",
       "      <td>The Beatles</td>\n",
       "      <td>Paul McCartney</td>\n",
       "      <td>lead vocals</td>\n",
       "      <td>1957</td>\n",
       "      <td>1970</td>\n",
       "      <td>Paul McCartney (lead vocals)</td>\n",
       "      <td>yellow</td>\n",
       "    </tr>\n",
       "    <tr>\n",
       "      <th>4</th>\n",
       "      <td>The Beatles</td>\n",
       "      <td>Paul McCartney</td>\n",
       "      <td>bass guitar</td>\n",
       "      <td>1957</td>\n",
       "      <td>1970</td>\n",
       "      <td>Paul McCartney (bass guitar)</td>\n",
       "      <td>blue</td>\n",
       "    </tr>\n",
       "    <tr>\n",
       "      <th>5</th>\n",
       "      <td>The Beatles</td>\n",
       "      <td>Ringo Starr</td>\n",
       "      <td>drums</td>\n",
       "      <td>1962</td>\n",
       "      <td>1970</td>\n",
       "      <td>Ringo Starr (drums)</td>\n",
       "      <td>green</td>\n",
       "    </tr>\n",
       "    <tr>\n",
       "      <th>6</th>\n",
       "      <td>The Beatles</td>\n",
       "      <td>Stuart Sutcliffe</td>\n",
       "      <td>bass guitar</td>\n",
       "      <td>1960</td>\n",
       "      <td>1962</td>\n",
       "      <td>Stuart Sutcliffe (bass guitar)</td>\n",
       "      <td>blue</td>\n",
       "    </tr>\n",
       "    <tr>\n",
       "      <th>7</th>\n",
       "      <td>The Beatles</td>\n",
       "      <td>John Lennon</td>\n",
       "      <td>lead vocals</td>\n",
       "      <td>1957</td>\n",
       "      <td>1970</td>\n",
       "      <td>John Lennon (lead vocals)</td>\n",
       "      <td>yellow</td>\n",
       "    </tr>\n",
       "    <tr>\n",
       "      <th>8</th>\n",
       "      <td>The Beatles</td>\n",
       "      <td>John Lennon</td>\n",
       "      <td>guitar</td>\n",
       "      <td>1957</td>\n",
       "      <td>1970</td>\n",
       "      <td>John Lennon (guitar)</td>\n",
       "      <td>red</td>\n",
       "    </tr>\n",
       "  </tbody>\n",
       "</table>\n",
       "</div>"
      ],
      "text/plain": [
       "          band            member         role start   end  \\\n",
       "0  The Beatles   George Harrison  lead vocals  1958  1970   \n",
       "1  The Beatles   George Harrison       guitar  1958  1970   \n",
       "2  The Beatles         Pete Best        drums  1960  1962   \n",
       "3  The Beatles    Paul McCartney  lead vocals  1957  1970   \n",
       "4  The Beatles    Paul McCartney  bass guitar  1957  1970   \n",
       "5  The Beatles       Ringo Starr        drums  1962  1970   \n",
       "6  The Beatles  Stuart Sutcliffe  bass guitar  1960  1962   \n",
       "7  The Beatles       John Lennon  lead vocals  1957  1970   \n",
       "8  The Beatles       John Lennon       guitar  1957  1970   \n",
       "\n",
       "                            label    type  \n",
       "0   George Harrison (lead vocals)  yellow  \n",
       "1        George Harrison (guitar)     red  \n",
       "2               Pete Best (drums)   green  \n",
       "3    Paul McCartney (lead vocals)  yellow  \n",
       "4    Paul McCartney (bass guitar)    blue  \n",
       "5             Ringo Starr (drums)   green  \n",
       "6  Stuart Sutcliffe (bass guitar)    blue  \n",
       "7       John Lennon (lead vocals)  yellow  \n",
       "8            John Lennon (guitar)     red  "
      ]
     },
     "execution_count": 7,
     "metadata": {},
     "output_type": "execute_result"
    }
   ],
   "source": [
    "colors = dict(zip(list(set(df['role'])), ['red', 'blue', 'yellow', 'green']))\n",
    "print('Correspondance between colors and roles: {}'.format(colors))\n",
    "df['type'] = df['role'].apply(lambda role: colors[role])\n",
    "df"
   ]
  },
  {
   "cell_type": "markdown",
   "metadata": {},
   "source": [
    "Good. The last preparation step is to transform this Python data structure into a Javascript one that the timesheet library can read. We're going to use the fact that a Python list and a Javascript array are very close."
   ]
  },
  {
   "cell_type": "code",
   "execution_count": 8,
   "metadata": {
    "collapsed": false
   },
   "outputs": [
    {
     "name": "stdout",
     "output_type": "stream",
     "text": [
      "[{'band': 'The Beatles',\n",
      "  'end': '1970',\n",
      "  'label': 'George Harrison (lead vocals)',\n",
      "  'member': 'George Harrison',\n",
      "  'role': 'lead vocals',\n",
      "  'start': '1958',\n",
      "  'type': 'yellow'},\n",
      " {'band': 'The Beatles',\n",
      "  'end': '1970',\n",
      "  'label': 'George Harrison (guitar)',\n",
      "  'member': 'George Harrison',\n",
      "  'role': 'guitar',\n",
      "  'start': '1958',\n",
      "  'type': 'red'},\n",
      " {'band': 'The Beatles',\n",
      "  'end': '1962',\n",
      "  'label': 'Pete Best (drums)',\n",
      "  'member': 'Pete Best',\n",
      "  'role': 'drums',\n",
      "  'start': '1960',\n",
      "  'type': 'green'},\n",
      " {'band': 'The Beatles',\n",
      "  'end': '1970',\n",
      "  'label': 'Paul McCartney (lead vocals)',\n",
      "  'member': 'Paul McCartney',\n",
      "  'role': 'lead vocals',\n",
      "  'start': '1957',\n",
      "  'type': 'yellow'},\n",
      " {'band': 'The Beatles',\n",
      "  'end': '1970',\n",
      "  'label': 'Paul McCartney (bass guitar)',\n",
      "  'member': 'Paul McCartney',\n",
      "  'role': 'bass guitar',\n",
      "  'start': '1957',\n",
      "  'type': 'blue'},\n",
      " {'band': 'The Beatles',\n",
      "  'end': '1970',\n",
      "  'label': 'Ringo Starr (drums)',\n",
      "  'member': 'Ringo Starr',\n",
      "  'role': 'drums',\n",
      "  'start': '1962',\n",
      "  'type': 'green'},\n",
      " {'band': 'The Beatles',\n",
      "  'end': '1962',\n",
      "  'label': 'Stuart Sutcliffe (bass guitar)',\n",
      "  'member': 'Stuart Sutcliffe',\n",
      "  'role': 'bass guitar',\n",
      "  'start': '1960',\n",
      "  'type': 'blue'},\n",
      " {'band': 'The Beatles',\n",
      "  'end': '1970',\n",
      "  'label': 'John Lennon (lead vocals)',\n",
      "  'member': 'John Lennon',\n",
      "  'role': 'lead vocals',\n",
      "  'start': '1957',\n",
      "  'type': 'yellow'},\n",
      " {'band': 'The Beatles',\n",
      "  'end': '1970',\n",
      "  'label': 'John Lennon (guitar)',\n",
      "  'member': 'John Lennon',\n",
      "  'role': 'guitar',\n",
      "  'start': '1957',\n",
      "  'type': 'red'}]\n"
     ]
    }
   ],
   "source": [
    "bubbles = [df.ix[i].to_dict() for i in range(len(df))]\n",
    "pprint(bubbles)"
   ]
  },
  {
   "cell_type": "markdown",
   "metadata": {},
   "source": [
    "Perfect. Time to do some javascript. The Jupyter notebook can display javascript plots in an output cell by using the *element.append* magic. I'll display this cell (no. 9) later so that we keep the javascript code (no. 10) above its output, but the *element.append* code must be executed **before** the \"new Timesheet\" code (so 9 before 10)."
   ]
  },
  {
   "cell_type": "markdown",
   "metadata": {},
   "source": [
    "Last step: we call the Timesheet javascript command using the CSS/JS libraries loaded above, our input data (referred below as 'bubbles', the cell where we want our graph, and the timeline limit (min and max date). Executing the next cell will fill the output cell just above this block automatically."
   ]
  },
  {
   "cell_type": "code",
   "execution_count": 10,
   "metadata": {
    "collapsed": false
   },
   "outputs": [
    {
     "data": {
      "application/javascript": [
       "\n",
       "var bubbles = [{'type': 'yellow', 'label': 'George Harrison (lead vocals)', 'band': 'The Beatles', 'role': 'lead vocals', 'end': '1970', 'start': '1958', 'member': 'George Harrison'}, {'type': 'red', 'label': 'George Harrison (guitar)', 'band': 'The Beatles', 'role': 'guitar', 'end': '1970', 'start': '1958', 'member': 'George Harrison'}, {'type': 'green', 'label': 'Pete Best (drums)', 'band': 'The Beatles', 'role': 'drums', 'end': '1962', 'start': '1960', 'member': 'Pete Best'}, {'type': 'yellow', 'label': 'Paul McCartney (lead vocals)', 'band': 'The Beatles', 'role': 'lead vocals', 'end': '1970', 'start': '1957', 'member': 'Paul McCartney'}, {'type': 'blue', 'label': 'Paul McCartney (bass guitar)', 'band': 'The Beatles', 'role': 'bass guitar', 'end': '1970', 'start': '1957', 'member': 'Paul McCartney'}, {'type': 'green', 'label': 'Ringo Starr (drums)', 'band': 'The Beatles', 'role': 'drums', 'end': '1970', 'start': '1962', 'member': 'Ringo Starr'}, {'type': 'blue', 'label': 'Stuart Sutcliffe (bass guitar)', 'band': 'The Beatles', 'role': 'bass guitar', 'end': '1962', 'start': '1960', 'member': 'Stuart Sutcliffe'}, {'type': 'yellow', 'label': 'John Lennon (lead vocals)', 'band': 'The Beatles', 'role': 'lead vocals', 'end': '1970', 'start': '1957', 'member': 'John Lennon'}, {'type': 'red', 'label': 'John Lennon (guitar)', 'band': 'The Beatles', 'role': 'guitar', 'end': '1970', 'start': '1957', 'member': 'John Lennon'}];\n",
       "new Timesheet(bubbles, {\n",
       "    container: 'timesheet-container',\n",
       "    type: 'parallel',\n",
       "    //type: 'serial',\n",
       "    timesheetYearMin: 1957,\n",
       "    timesheetYearMax: 1970,\n",
       "    theme: 'light'\n",
       "});\n"
      ],
      "text/plain": [
       "<IPython.core.display.Javascript object>"
      ]
     },
     "execution_count": 10,
     "metadata": {},
     "output_type": "execute_result"
    }
   ],
   "source": [
    "from IPython.display import Javascript\n",
    "Javascript(\"\"\"\n",
    "var bubbles = %s;\n",
    "new Timesheet(bubbles, {\n",
    "    container: 'timesheet-container',\n",
    "    type: 'parallel',\n",
    "    //type: 'serial',\n",
    "    timesheetYearMin: %s,\n",
    "    timesheetYearMax: %s,\n",
    "    theme: 'light'\n",
    "});\n",
    "\"\"\" % (bubbles, df['start'].min(), df['end'].max()))"
   ]
  },
  {
   "cell_type": "code",
   "execution_count": 9,
   "metadata": {
    "collapsed": false
   },
   "outputs": [
    {
     "data": {
      "application/javascript": [
       "// this must be executed before the \"from IPython.display import Javascript\" block\n",
       "element.append('<div id=\"timesheet-container\" style=\"width: 100%;height: 100%;\"></div>');"
      ],
      "text/plain": [
       "<IPython.core.display.Javascript object>"
      ]
     },
     "metadata": {},
     "output_type": "display_data"
    }
   ],
   "source": [
    "%%javascript\n",
    "// this must be executed before the \"from IPython.display import Javascript\" block\n",
    "element.append('<div id=\"timesheet-container\" style=\"width: 100%;height: 100%;\"></div>');"
   ]
  },
  {
   "cell_type": "markdown",
   "metadata": {},
   "source": [
    "We have our timeline now! As you can see the same color is used for the same role consistently."
   ]
  },
  {
   "cell_type": "markdown",
   "metadata": {},
   "source": [
    "## Second example"
   ]
  },
  {
   "cell_type": "markdown",
   "metadata": {},
   "source": [
    "Let's repeat our code on a second band, this time a classical String Quartet group."
   ]
  },
  {
   "cell_type": "code",
   "execution_count": 11,
   "metadata": {
    "collapsed": true
   },
   "outputs": [],
   "source": [
    "band_name = 'Beethoven String Quartet'"
   ]
  },
  {
   "cell_type": "code",
   "execution_count": 12,
   "metadata": {
    "collapsed": true
   },
   "outputs": [],
   "source": [
    "def prepare_data(band_name):\n",
    "    df = sql(\"\"\"\n",
    "SELECT b.name AS band,\n",
    "       m.name AS member,\n",
    "       lat.name AS role,\n",
    "       l.begin_date_year AS start,\n",
    "       l.end_date_year AS end\n",
    "FROM artist              AS b\n",
    "JOIN l_artist_artist     AS laa ON laa.entity1 = b.id\n",
    "JOIN artist              AS m   ON laa.entity0 = m.id\n",
    "JOIN link                AS l   ON l.id = laa.link\n",
    "JOIN link_attribute      AS la  ON la.link = l.id\n",
    "JOIN link_attribute_type AS lat ON la.attribute_type = lat.id\n",
    "JOIN link_type           AS lt  ON l.link_type = lt.id\n",
    "WHERE lt.name = 'member of band'\n",
    "  AND b.name = %(band_name)s\n",
    "  AND lat.name != 'original';\n",
    "\"\"\")\n",
    "    df['start'] = df['start'].fillna(1957).astype(int)\n",
    "    df['start'] = df['start'].astype(str)\n",
    "    df['end'] = df['end'].astype(str)\n",
    "    df['label'] = df['member'] + ' (' + df['role'] + ')'\n",
    "    colors = dict(zip(list(set(df['role'])), ['red', 'blue', 'yellow', 'green']))\n",
    "    df['type'] = df['role'].apply(lambda role: colors[role])\n",
    "    return [df.ix[i].to_dict() for i in range(len(df))], df['start'].min(), df['end'].max()"
   ]
  },
  {
   "cell_type": "code",
   "execution_count": 13,
   "metadata": {
    "collapsed": false
   },
   "outputs": [
    {
     "data": {
      "text/plain": [
       "([{'band': 'Beethoven String Quartet',\n",
       "   'end': '1965',\n",
       "   'label': 'Василий Ширинский (violin)',\n",
       "   'member': 'Василий Ширинский',\n",
       "   'role': 'violin',\n",
       "   'start': '1923',\n",
       "   'type': 'blue'},\n",
       "  {'band': 'Beethoven String Quartet',\n",
       "   'end': '1977',\n",
       "   'label': 'Дмитрий Цыганов (violin)',\n",
       "   'member': 'Дмитрий Цыганов',\n",
       "   'role': 'violin',\n",
       "   'start': '1923',\n",
       "   'type': 'blue'},\n",
       "  {'band': 'Beethoven String Quartet',\n",
       "   'end': '1990',\n",
       "   'label': 'Nikolai Zabavnikov (violin)',\n",
       "   'member': 'Nikolai Zabavnikov',\n",
       "   'role': 'violin',\n",
       "   'start': '1965',\n",
       "   'type': 'blue'},\n",
       "  {'band': 'Beethoven String Quartet',\n",
       "   'end': '1990',\n",
       "   'label': 'Олег Крыса (violin)',\n",
       "   'member': 'Олег Крыса',\n",
       "   'role': 'violin',\n",
       "   'start': '1977',\n",
       "   'type': 'blue'},\n",
       "  {'band': 'Beethoven String Quartet',\n",
       "   'end': '1974',\n",
       "   'label': 'Сергей Петрович Ширинский (cello)',\n",
       "   'member': 'Сергей Петрович Ширинский',\n",
       "   'role': 'cello',\n",
       "   'start': '1923',\n",
       "   'type': 'yellow'},\n",
       "  {'band': 'Beethoven String Quartet',\n",
       "   'end': '1964',\n",
       "   'label': 'Вадим Васильевич Борисовский (viola)',\n",
       "   'member': 'Вадим Васильевич Борисовский',\n",
       "   'role': 'viola',\n",
       "   'start': '1923',\n",
       "   'type': 'red'}],\n",
       " '1923',\n",
       " '1990')"
      ]
     },
     "execution_count": 13,
     "metadata": {},
     "output_type": "execute_result"
    }
   ],
   "source": [
    "prepare_data(band_name)"
   ]
  },
  {
   "cell_type": "code",
   "execution_count": 15,
   "metadata": {
    "collapsed": false
   },
   "outputs": [
    {
     "data": {
      "application/javascript": [
       "\n",
       "var bubbles = [{'type': 'blue', 'label': 'Василий Ширинский (violin)', 'band': 'Beethoven String Quartet', 'role': 'violin', 'end': '1965', 'start': '1923', 'member': 'Василий Ширинский'}, {'type': 'blue', 'label': 'Дмитрий Цыганов (violin)', 'band': 'Beethoven String Quartet', 'role': 'violin', 'end': '1977', 'start': '1923', 'member': 'Дмитрий Цыганов'}, {'type': 'blue', 'label': 'Nikolai Zabavnikov (violin)', 'band': 'Beethoven String Quartet', 'role': 'violin', 'end': '1990', 'start': '1965', 'member': 'Nikolai Zabavnikov'}, {'type': 'blue', 'label': 'Олег Крыса (violin)', 'band': 'Beethoven String Quartet', 'role': 'violin', 'end': '1990', 'start': '1977', 'member': 'Олег Крыса'}, {'type': 'yellow', 'label': 'Сергей Петрович Ширинский (cello)', 'band': 'Beethoven String Quartet', 'role': 'cello', 'end': '1974', 'start': '1923', 'member': 'Сергей Петрович Ширинский'}, {'type': 'red', 'label': 'Вадим Васильевич Борисовский (viola)', 'band': 'Beethoven String Quartet', 'role': 'viola', 'end': '1964', 'start': '1923', 'member': 'Вадим Васильевич Борисовский'}];\n",
       "new Timesheet(bubbles, {\n",
       "    container: 'timesheet-container2',\n",
       "    type: 'parallel',\n",
       "    timesheetYearMin: 1923,\n",
       "    timesheetYearMax: 1990,\n",
       "    theme: 'light'\n",
       "});\n"
      ],
      "text/plain": [
       "<IPython.core.display.Javascript object>"
      ]
     },
     "execution_count": 15,
     "metadata": {},
     "output_type": "execute_result"
    }
   ],
   "source": [
    "from IPython.display import Javascript\n",
    "Javascript(\"\"\"\n",
    "var bubbles = %s;\n",
    "new Timesheet(bubbles, {\n",
    "    container: 'timesheet-container2',\n",
    "    type: 'parallel',\n",
    "    timesheetYearMin: %s,\n",
    "    timesheetYearMax: %s,\n",
    "    theme: 'light'\n",
    "});\n",
    "\"\"\" % prepare_data(band_name))"
   ]
  },
  {
   "cell_type": "code",
   "execution_count": 14,
   "metadata": {
    "collapsed": false
   },
   "outputs": [
    {
     "data": {
      "application/javascript": [
       "// this must be executed before the \"from IPython.display import Javascript\" block\n",
       "element.append('<div id=\"timesheet-container2\" style=\"width: 100%;height: 100%;\"></div>');"
      ],
      "text/plain": [
       "<IPython.core.display.Javascript object>"
      ]
     },
     "metadata": {},
     "output_type": "display_data"
    }
   ],
   "source": [
    "%%javascript\n",
    "// this must be executed before the \"from IPython.display import Javascript\" block\n",
    "element.append('<div id=\"timesheet-container2\" style=\"width: 100%;height: 100%;\"></div>');"
   ]
  },
  {
   "cell_type": "markdown",
   "metadata": {},
   "source": [
    "Use the slider to see when members changed in the String Quartet group"
   ]
  },
  {
   "cell_type": "markdown",
   "metadata": {},
   "source": [
    "## Conclusion"
   ]
  },
  {
   "cell_type": "markdown",
   "metadata": {},
   "source": [
    "With this notebook I hoped I showed that testing a new plotting library to display data from MusicBrainz is not very complicated"
   ]
  }
 ],
 "metadata": {
  "kernelspec": {
   "display_name": "Python 3",
   "language": "python",
   "name": "python3"
  },
  "language_info": {
   "codemirror_mode": {
    "name": "ipython",
    "version": 3
   },
   "file_extension": ".py",
   "mimetype": "text/x-python",
   "name": "python",
   "nbconvert_exporter": "python",
   "pygments_lexer": "ipython3",
   "version": "3.5.3"
  }
 },
 "nbformat": 4,
 "nbformat_minor": 2
}
