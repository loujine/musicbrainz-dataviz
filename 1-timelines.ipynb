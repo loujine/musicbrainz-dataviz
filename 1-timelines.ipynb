{
 "cells": [
  {
   "cell_type": "markdown",
   "metadata": {},
   "source": [
    "# Displaying MusicBrainz data in timelines"
   ]
  },
  {
   "cell_type": "markdown",
   "metadata": {},
   "source": [
    "One feature I would like to be added to the MusicBrainz web interface is the possibility to display timelines, e.g. showing when members arrived or left on a band page, or sorting concerts, albums releases, and so on.\n",
    "\n",
    "Before suggesting this feature to the MusicBrainz developers (or programing it myself), I want to try and display this kind of timelines in a Jupyter notebook and see how it would look like.\n",
    "\n",
    "Several JavaScript libraries can do the job; I decided to test the [timesheet-advanced.js](https://github.com/ntucakovic/timesheet-advanced.js) and [visjs](http://visjs.org/timeline_examples.html) libraries."
   ]
  },
  {
   "cell_type": "markdown",
   "metadata": {},
   "source": [
    "## Setup"
   ]
  },
  {
   "cell_type": "markdown",
   "metadata": {},
   "source": [
    "The setup required to repeat these operations is explained in the [introduction notebook](https://loujine.github.io/musicbrainz-dataviz/0-introduction.html). In case graphs do not appear in this page you can refer to the [static version](https://loujine.github.io/musicbrainz-dataviz/1-timelines.html)."
   ]
  },
  {
   "cell_type": "markdown",
   "metadata": {},
   "source": [
    "The next commands may be needed or not depending on your setup (*i.e.* if you use my docker setup):"
   ]
  },
  {
   "cell_type": "code",
   "execution_count": 1,
   "metadata": {
    "collapsed": true
   },
   "outputs": [],
   "source": [
    "from pprint import pprint\n",
    "import pandas\n",
    "import sqlalchemy\n",
    "\n",
    "# your postgres server IP\n",
    "IP = '127.0.0.1'\n",
    "\n",
    "def sql(query, **kwargs):\n",
    "    \"\"\"helper function for SQL queries using the %(...) syntax\n",
    "    Parameters defined globally are replaced implicitely\"\"\"\n",
    "    params = globals().copy()\n",
    "    params.update(kwargs)\n",
    "\n",
    "    # define DB connection parameters if needed\n",
    "    PGHOST = globals().get('PGHOST', IP)\n",
    "    PGDATABASE = globals().get('PGDATABASE', 'musicbrainz')\n",
    "    PGUSER = globals().get('PGUSER', 'musicbrainz')\n",
    "    PGPASSWORD = globals().get('PGPASSWORD', 'musicbrainz')\n",
    "    engine = sqlalchemy.create_engine(\n",
    "       'postgresql+psycopg2://%(PGUSER)s:%(PGPASSWORD)s@%(PGHOST)s/%(PGDATABASE)s' % locals(),\n",
    "        isolation_level='READ UNCOMMITTED')\n",
    "    return pandas.read_sql(query, engine, params=params)\n",
    "\n",
    "# helper functions to generate an HTML link to an entity MusicBrainz URL\n",
    "def _mb_link(type, mbid):\n",
    "    return '<a href=\"https://musicbrainz.org/%(type)s/%(mbid)s\">%(mbid)s</a>' % locals()\n",
    "\n",
    "mb_artist_link = lambda mbid: _mb_link('artist', mbid)"
   ]
  },
  {
   "cell_type": "markdown",
   "metadata": {},
   "source": [
    "## Extraction of band data from the database"
   ]
  },
  {
   "cell_type": "markdown",
   "metadata": {},
   "source": [
    "Now we can extract the information for the band I want. The SQL query will look for:\n",
    "\n",
    "* band name\n",
    "* artists linked to this band through the \"member of\" relationship\n",
    "* instrument/vocal role of this relationship"
   ]
  },
  {
   "cell_type": "markdown",
   "metadata": {},
   "source": [
    "Let's start with some band you probably already know:"
   ]
  },
  {
   "cell_type": "code",
   "execution_count": 2,
   "metadata": {
    "collapsed": true
   },
   "outputs": [],
   "source": [
    "band_name = 'The Beatles'"
   ]
  },
  {
   "cell_type": "markdown",
   "metadata": {},
   "source": [
    "The SQL query is a bit complicated because it uses a lot of different tables, I won't go into details. We store the result in a data structure called a PanDas DataFrame (df)."
   ]
  },
  {
   "cell_type": "code",
   "execution_count": 3,
   "metadata": {
    "collapsed": false,
    "scrolled": true
   },
   "outputs": [
    {
     "data": {
      "text/html": [
       "<div>\n",
       "<table border=\"1\" class=\"dataframe\">\n",
       "  <thead>\n",
       "    <tr style=\"text-align: right;\">\n",
       "      <th></th>\n",
       "      <th>band</th>\n",
       "      <th>member</th>\n",
       "      <th>mbid</th>\n",
       "      <th>role</th>\n",
       "      <th>start</th>\n",
       "      <th>end</th>\n",
       "    </tr>\n",
       "  </thead>\n",
       "  <tbody>\n",
       "    <tr>\n",
       "      <th>0</th>\n",
       "      <td>The Beatles</td>\n",
       "      <td>Pete Best</td>\n",
       "      <td>0d4ab0f9-bbda-4ab1-ae2c-f772ffcfbea9</td>\n",
       "      <td>drums</td>\n",
       "      <td>1960-01-01</td>\n",
       "      <td>1962-01-01</td>\n",
       "    </tr>\n",
       "    <tr>\n",
       "      <th>1</th>\n",
       "      <td>The Beatles</td>\n",
       "      <td>Paul McCartney</td>\n",
       "      <td>ba550d0e-adac-4864-b88b-407cab5e76af</td>\n",
       "      <td>lead vocals</td>\n",
       "      <td>1957-01-01</td>\n",
       "      <td>1970-01-01</td>\n",
       "    </tr>\n",
       "    <tr>\n",
       "      <th>2</th>\n",
       "      <td>The Beatles</td>\n",
       "      <td>Paul McCartney</td>\n",
       "      <td>ba550d0e-adac-4864-b88b-407cab5e76af</td>\n",
       "      <td>bass guitar</td>\n",
       "      <td>1957-01-01</td>\n",
       "      <td>1970-01-01</td>\n",
       "    </tr>\n",
       "    <tr>\n",
       "      <th>3</th>\n",
       "      <td>The Beatles</td>\n",
       "      <td>Ringo Starr</td>\n",
       "      <td>300c4c73-33ac-4255-9d57-4e32627f5e13</td>\n",
       "      <td>drums</td>\n",
       "      <td>1962-01-01</td>\n",
       "      <td>1970-01-01</td>\n",
       "    </tr>\n",
       "    <tr>\n",
       "      <th>4</th>\n",
       "      <td>The Beatles</td>\n",
       "      <td>Stuart Sutcliffe</td>\n",
       "      <td>49a51491-650e-44b3-8085-2f07ac2986dd</td>\n",
       "      <td>bass guitar</td>\n",
       "      <td>1960-01-01</td>\n",
       "      <td>1962-01-01</td>\n",
       "    </tr>\n",
       "    <tr>\n",
       "      <th>5</th>\n",
       "      <td>The Beatles</td>\n",
       "      <td>John Lennon</td>\n",
       "      <td>4d5447d7-c61c-4120-ba1b-d7f471d385b9</td>\n",
       "      <td>lead vocals</td>\n",
       "      <td>None</td>\n",
       "      <td>1970-01-01</td>\n",
       "    </tr>\n",
       "    <tr>\n",
       "      <th>6</th>\n",
       "      <td>The Beatles</td>\n",
       "      <td>John Lennon</td>\n",
       "      <td>4d5447d7-c61c-4120-ba1b-d7f471d385b9</td>\n",
       "      <td>guitar</td>\n",
       "      <td>None</td>\n",
       "      <td>1970-01-01</td>\n",
       "    </tr>\n",
       "    <tr>\n",
       "      <th>7</th>\n",
       "      <td>The Beatles</td>\n",
       "      <td>George Harrison</td>\n",
       "      <td>42a8f507-8412-4611-854f-926571049fa0</td>\n",
       "      <td>lead vocals</td>\n",
       "      <td>1958-01-01</td>\n",
       "      <td>1970-01-01</td>\n",
       "    </tr>\n",
       "    <tr>\n",
       "      <th>8</th>\n",
       "      <td>The Beatles</td>\n",
       "      <td>George Harrison</td>\n",
       "      <td>42a8f507-8412-4611-854f-926571049fa0</td>\n",
       "      <td>guitar</td>\n",
       "      <td>1958-01-01</td>\n",
       "      <td>1970-01-01</td>\n",
       "    </tr>\n",
       "  </tbody>\n",
       "</table>\n",
       "</div>"
      ],
      "text/plain": [
       "          band            member                                  mbid  \\\n",
       "0  The Beatles         Pete Best  0d4ab0f9-bbda-4ab1-ae2c-f772ffcfbea9   \n",
       "1  The Beatles    Paul McCartney  ba550d0e-adac-4864-b88b-407cab5e76af   \n",
       "2  The Beatles    Paul McCartney  ba550d0e-adac-4864-b88b-407cab5e76af   \n",
       "3  The Beatles       Ringo Starr  300c4c73-33ac-4255-9d57-4e32627f5e13   \n",
       "4  The Beatles  Stuart Sutcliffe  49a51491-650e-44b3-8085-2f07ac2986dd   \n",
       "5  The Beatles       John Lennon  4d5447d7-c61c-4120-ba1b-d7f471d385b9   \n",
       "6  The Beatles       John Lennon  4d5447d7-c61c-4120-ba1b-d7f471d385b9   \n",
       "7  The Beatles   George Harrison  42a8f507-8412-4611-854f-926571049fa0   \n",
       "8  The Beatles   George Harrison  42a8f507-8412-4611-854f-926571049fa0   \n",
       "\n",
       "          role       start         end  \n",
       "0        drums  1960-01-01  1962-01-01  \n",
       "1  lead vocals  1957-01-01  1970-01-01  \n",
       "2  bass guitar  1957-01-01  1970-01-01  \n",
       "3        drums  1962-01-01  1970-01-01  \n",
       "4  bass guitar  1960-01-01  1962-01-01  \n",
       "5  lead vocals        None  1970-01-01  \n",
       "6       guitar        None  1970-01-01  \n",
       "7  lead vocals  1958-01-01  1970-01-01  \n",
       "8       guitar  1958-01-01  1970-01-01  "
      ]
     },
     "execution_count": 3,
     "metadata": {},
     "output_type": "execute_result"
    }
   ],
   "source": [
    "df = sql(\"\"\"\n",
    "SELECT b.name AS band,\n",
    "       m.name AS member,\n",
    "       m.gid AS mbid,\n",
    "       lat.name AS role,\n",
    "       to_date(to_char(l.begin_date_year, '9999') || '0101', 'YYYYMMDD') AS start,\n",
    "       to_date(to_char(l.end_date_year, '9999') || '0101', 'YYYYMMDD') AS end\n",
    "FROM artist              AS b\n",
    "JOIN l_artist_artist     AS laa ON laa.entity1 = b.id\n",
    "JOIN artist              AS m   ON laa.entity0 = m.id\n",
    "JOIN link                AS l   ON l.id = laa.link\n",
    "JOIN link_attribute      AS la  ON la.link = l.id\n",
    "JOIN link_attribute_type AS lat ON la.attribute_type = lat.id\n",
    "JOIN link_type           AS lt  ON l.link_type = lt.id\n",
    "WHERE lt.name = 'member of band'\n",
    "  AND b.name = %(band_name)s\n",
    "  AND lat.name != 'original';\n",
    "\"\"\")\n",
    "df"
   ]
  },
  {
   "cell_type": "markdown",
   "metadata": {},
   "source": [
    "The data is here, we just want to set a start date for Lennon's roles since it is not in the database."
   ]
  },
  {
   "cell_type": "code",
   "execution_count": 4,
   "metadata": {
    "collapsed": false,
    "scrolled": true
   },
   "outputs": [
    {
     "data": {
      "text/html": [
       "<div>\n",
       "<table border=\"1\" class=\"dataframe\">\n",
       "  <thead>\n",
       "    <tr style=\"text-align: right;\">\n",
       "      <th></th>\n",
       "      <th>band</th>\n",
       "      <th>member</th>\n",
       "      <th>mbid</th>\n",
       "      <th>role</th>\n",
       "      <th>start</th>\n",
       "      <th>end</th>\n",
       "    </tr>\n",
       "  </thead>\n",
       "  <tbody>\n",
       "    <tr>\n",
       "      <th>0</th>\n",
       "      <td>The Beatles</td>\n",
       "      <td>Pete Best</td>\n",
       "      <td>0d4ab0f9-bbda-4ab1-ae2c-f772ffcfbea9</td>\n",
       "      <td>drums</td>\n",
       "      <td>1960-01-01</td>\n",
       "      <td>1962-01-01</td>\n",
       "    </tr>\n",
       "    <tr>\n",
       "      <th>1</th>\n",
       "      <td>The Beatles</td>\n",
       "      <td>Paul McCartney</td>\n",
       "      <td>ba550d0e-adac-4864-b88b-407cab5e76af</td>\n",
       "      <td>lead vocals</td>\n",
       "      <td>1957-01-01</td>\n",
       "      <td>1970-01-01</td>\n",
       "    </tr>\n",
       "    <tr>\n",
       "      <th>2</th>\n",
       "      <td>The Beatles</td>\n",
       "      <td>Paul McCartney</td>\n",
       "      <td>ba550d0e-adac-4864-b88b-407cab5e76af</td>\n",
       "      <td>bass guitar</td>\n",
       "      <td>1957-01-01</td>\n",
       "      <td>1970-01-01</td>\n",
       "    </tr>\n",
       "    <tr>\n",
       "      <th>3</th>\n",
       "      <td>The Beatles</td>\n",
       "      <td>Ringo Starr</td>\n",
       "      <td>300c4c73-33ac-4255-9d57-4e32627f5e13</td>\n",
       "      <td>drums</td>\n",
       "      <td>1962-01-01</td>\n",
       "      <td>1970-01-01</td>\n",
       "    </tr>\n",
       "    <tr>\n",
       "      <th>4</th>\n",
       "      <td>The Beatles</td>\n",
       "      <td>Stuart Sutcliffe</td>\n",
       "      <td>49a51491-650e-44b3-8085-2f07ac2986dd</td>\n",
       "      <td>bass guitar</td>\n",
       "      <td>1960-01-01</td>\n",
       "      <td>1962-01-01</td>\n",
       "    </tr>\n",
       "    <tr>\n",
       "      <th>5</th>\n",
       "      <td>The Beatles</td>\n",
       "      <td>John Lennon</td>\n",
       "      <td>4d5447d7-c61c-4120-ba1b-d7f471d385b9</td>\n",
       "      <td>lead vocals</td>\n",
       "      <td>1957-01-01</td>\n",
       "      <td>1970-01-01</td>\n",
       "    </tr>\n",
       "    <tr>\n",
       "      <th>6</th>\n",
       "      <td>The Beatles</td>\n",
       "      <td>John Lennon</td>\n",
       "      <td>4d5447d7-c61c-4120-ba1b-d7f471d385b9</td>\n",
       "      <td>guitar</td>\n",
       "      <td>1957-01-01</td>\n",
       "      <td>1970-01-01</td>\n",
       "    </tr>\n",
       "    <tr>\n",
       "      <th>7</th>\n",
       "      <td>The Beatles</td>\n",
       "      <td>George Harrison</td>\n",
       "      <td>42a8f507-8412-4611-854f-926571049fa0</td>\n",
       "      <td>lead vocals</td>\n",
       "      <td>1958-01-01</td>\n",
       "      <td>1970-01-01</td>\n",
       "    </tr>\n",
       "    <tr>\n",
       "      <th>8</th>\n",
       "      <td>The Beatles</td>\n",
       "      <td>George Harrison</td>\n",
       "      <td>42a8f507-8412-4611-854f-926571049fa0</td>\n",
       "      <td>guitar</td>\n",
       "      <td>1958-01-01</td>\n",
       "      <td>1970-01-01</td>\n",
       "    </tr>\n",
       "  </tbody>\n",
       "</table>\n",
       "</div>"
      ],
      "text/plain": [
       "          band            member                                  mbid  \\\n",
       "0  The Beatles         Pete Best  0d4ab0f9-bbda-4ab1-ae2c-f772ffcfbea9   \n",
       "1  The Beatles    Paul McCartney  ba550d0e-adac-4864-b88b-407cab5e76af   \n",
       "2  The Beatles    Paul McCartney  ba550d0e-adac-4864-b88b-407cab5e76af   \n",
       "3  The Beatles       Ringo Starr  300c4c73-33ac-4255-9d57-4e32627f5e13   \n",
       "4  The Beatles  Stuart Sutcliffe  49a51491-650e-44b3-8085-2f07ac2986dd   \n",
       "5  The Beatles       John Lennon  4d5447d7-c61c-4120-ba1b-d7f471d385b9   \n",
       "6  The Beatles       John Lennon  4d5447d7-c61c-4120-ba1b-d7f471d385b9   \n",
       "7  The Beatles   George Harrison  42a8f507-8412-4611-854f-926571049fa0   \n",
       "8  The Beatles   George Harrison  42a8f507-8412-4611-854f-926571049fa0   \n",
       "\n",
       "          role       start         end  \n",
       "0        drums  1960-01-01  1962-01-01  \n",
       "1  lead vocals  1957-01-01  1970-01-01  \n",
       "2  bass guitar  1957-01-01  1970-01-01  \n",
       "3        drums  1962-01-01  1970-01-01  \n",
       "4  bass guitar  1960-01-01  1962-01-01  \n",
       "5  lead vocals  1957-01-01  1970-01-01  \n",
       "6       guitar  1957-01-01  1970-01-01  \n",
       "7  lead vocals  1958-01-01  1970-01-01  \n",
       "8       guitar  1958-01-01  1970-01-01  "
      ]
     },
     "execution_count": 4,
     "metadata": {},
     "output_type": "execute_result"
    }
   ],
   "source": [
    "import datetime\n",
    "df['start'] = df['start'].fillna(datetime.date(1957, 1, 1))\n",
    "df['mbid'] = df['mbid'].astype(str) # otherwise PanDas uses the UUID data type which will cause problems later.\n",
    "df"
   ]
  },
  {
   "cell_type": "markdown",
   "metadata": {},
   "source": [
    "## Display a timeline with timesheet-advanced"
   ]
  },
  {
   "cell_type": "markdown",
   "metadata": {},
   "source": [
    "The timesheet-advanced package requires the input data for the timeline to be inserted slightly differently from what we have in our dataframe df. Let us first copy our data in a new variable *ts* and simplify the dates to years."
   ]
  },
  {
   "cell_type": "code",
   "execution_count": 5,
   "metadata": {
    "collapsed": false
   },
   "outputs": [],
   "source": [
    "ts = df.copy()\n",
    "ts['start'] = ts['start'].apply(lambda date: date.year).astype(str)\n",
    "ts['end'] = ts['end'].apply(lambda date: date.year).astype(str)"
   ]
  },
  {
   "cell_type": "markdown",
   "metadata": {},
   "source": [
    "We need a 'label' field (we'll choose the band member name + instrument) and we need a 'type' which is a color. We choose colors to represent all possible roles (vocals, guitar, drums....)"
   ]
  },
  {
   "cell_type": "code",
   "execution_count": 6,
   "metadata": {
    "collapsed": false
   },
   "outputs": [
    {
     "data": {
      "text/html": [
       "<div>\n",
       "<table border=\"1\" class=\"dataframe\">\n",
       "  <thead>\n",
       "    <tr style=\"text-align: right;\">\n",
       "      <th></th>\n",
       "      <th>band</th>\n",
       "      <th>member</th>\n",
       "      <th>mbid</th>\n",
       "      <th>role</th>\n",
       "      <th>start</th>\n",
       "      <th>end</th>\n",
       "      <th>label</th>\n",
       "    </tr>\n",
       "  </thead>\n",
       "  <tbody>\n",
       "    <tr>\n",
       "      <th>0</th>\n",
       "      <td>The Beatles</td>\n",
       "      <td>Pete Best</td>\n",
       "      <td>0d4ab0f9-bbda-4ab1-ae2c-f772ffcfbea9</td>\n",
       "      <td>drums</td>\n",
       "      <td>1960</td>\n",
       "      <td>1962</td>\n",
       "      <td>Pete Best (drums)</td>\n",
       "    </tr>\n",
       "    <tr>\n",
       "      <th>1</th>\n",
       "      <td>The Beatles</td>\n",
       "      <td>Paul McCartney</td>\n",
       "      <td>ba550d0e-adac-4864-b88b-407cab5e76af</td>\n",
       "      <td>lead vocals</td>\n",
       "      <td>1957</td>\n",
       "      <td>1970</td>\n",
       "      <td>Paul McCartney (lead vocals)</td>\n",
       "    </tr>\n",
       "    <tr>\n",
       "      <th>2</th>\n",
       "      <td>The Beatles</td>\n",
       "      <td>Paul McCartney</td>\n",
       "      <td>ba550d0e-adac-4864-b88b-407cab5e76af</td>\n",
       "      <td>bass guitar</td>\n",
       "      <td>1957</td>\n",
       "      <td>1970</td>\n",
       "      <td>Paul McCartney (bass guitar)</td>\n",
       "    </tr>\n",
       "    <tr>\n",
       "      <th>3</th>\n",
       "      <td>The Beatles</td>\n",
       "      <td>Ringo Starr</td>\n",
       "      <td>300c4c73-33ac-4255-9d57-4e32627f5e13</td>\n",
       "      <td>drums</td>\n",
       "      <td>1962</td>\n",
       "      <td>1970</td>\n",
       "      <td>Ringo Starr (drums)</td>\n",
       "    </tr>\n",
       "    <tr>\n",
       "      <th>4</th>\n",
       "      <td>The Beatles</td>\n",
       "      <td>Stuart Sutcliffe</td>\n",
       "      <td>49a51491-650e-44b3-8085-2f07ac2986dd</td>\n",
       "      <td>bass guitar</td>\n",
       "      <td>1960</td>\n",
       "      <td>1962</td>\n",
       "      <td>Stuart Sutcliffe (bass guitar)</td>\n",
       "    </tr>\n",
       "    <tr>\n",
       "      <th>5</th>\n",
       "      <td>The Beatles</td>\n",
       "      <td>John Lennon</td>\n",
       "      <td>4d5447d7-c61c-4120-ba1b-d7f471d385b9</td>\n",
       "      <td>lead vocals</td>\n",
       "      <td>1957</td>\n",
       "      <td>1970</td>\n",
       "      <td>John Lennon (lead vocals)</td>\n",
       "    </tr>\n",
       "    <tr>\n",
       "      <th>6</th>\n",
       "      <td>The Beatles</td>\n",
       "      <td>John Lennon</td>\n",
       "      <td>4d5447d7-c61c-4120-ba1b-d7f471d385b9</td>\n",
       "      <td>guitar</td>\n",
       "      <td>1957</td>\n",
       "      <td>1970</td>\n",
       "      <td>John Lennon (guitar)</td>\n",
       "    </tr>\n",
       "    <tr>\n",
       "      <th>7</th>\n",
       "      <td>The Beatles</td>\n",
       "      <td>George Harrison</td>\n",
       "      <td>42a8f507-8412-4611-854f-926571049fa0</td>\n",
       "      <td>lead vocals</td>\n",
       "      <td>1958</td>\n",
       "      <td>1970</td>\n",
       "      <td>George Harrison (lead vocals)</td>\n",
       "    </tr>\n",
       "    <tr>\n",
       "      <th>8</th>\n",
       "      <td>The Beatles</td>\n",
       "      <td>George Harrison</td>\n",
       "      <td>42a8f507-8412-4611-854f-926571049fa0</td>\n",
       "      <td>guitar</td>\n",
       "      <td>1958</td>\n",
       "      <td>1970</td>\n",
       "      <td>George Harrison (guitar)</td>\n",
       "    </tr>\n",
       "  </tbody>\n",
       "</table>\n",
       "</div>"
      ],
      "text/plain": [
       "          band            member                                  mbid  \\\n",
       "0  The Beatles         Pete Best  0d4ab0f9-bbda-4ab1-ae2c-f772ffcfbea9   \n",
       "1  The Beatles    Paul McCartney  ba550d0e-adac-4864-b88b-407cab5e76af   \n",
       "2  The Beatles    Paul McCartney  ba550d0e-adac-4864-b88b-407cab5e76af   \n",
       "3  The Beatles       Ringo Starr  300c4c73-33ac-4255-9d57-4e32627f5e13   \n",
       "4  The Beatles  Stuart Sutcliffe  49a51491-650e-44b3-8085-2f07ac2986dd   \n",
       "5  The Beatles       John Lennon  4d5447d7-c61c-4120-ba1b-d7f471d385b9   \n",
       "6  The Beatles       John Lennon  4d5447d7-c61c-4120-ba1b-d7f471d385b9   \n",
       "7  The Beatles   George Harrison  42a8f507-8412-4611-854f-926571049fa0   \n",
       "8  The Beatles   George Harrison  42a8f507-8412-4611-854f-926571049fa0   \n",
       "\n",
       "          role start   end                           label  \n",
       "0        drums  1960  1962               Pete Best (drums)  \n",
       "1  lead vocals  1957  1970    Paul McCartney (lead vocals)  \n",
       "2  bass guitar  1957  1970    Paul McCartney (bass guitar)  \n",
       "3        drums  1962  1970             Ringo Starr (drums)  \n",
       "4  bass guitar  1960  1962  Stuart Sutcliffe (bass guitar)  \n",
       "5  lead vocals  1957  1970       John Lennon (lead vocals)  \n",
       "6       guitar  1957  1970            John Lennon (guitar)  \n",
       "7  lead vocals  1958  1970   George Harrison (lead vocals)  \n",
       "8       guitar  1958  1970        George Harrison (guitar)  "
      ]
     },
     "execution_count": 6,
     "metadata": {},
     "output_type": "execute_result"
    }
   ],
   "source": [
    "ts['label'] = df['member'] + ' (' + df['role'] + ')'\n",
    "ts"
   ]
  },
  {
   "cell_type": "code",
   "execution_count": 7,
   "metadata": {
    "collapsed": false
   },
   "outputs": [
    {
     "name": "stdout",
     "output_type": "stream",
     "text": [
      "Correspondance between colors and roles: {'drums': 'blue', 'bass guitar': 'red', 'lead vocals': 'green', 'guitar': 'yellow'}\n"
     ]
    },
    {
     "data": {
      "text/html": [
       "<div>\n",
       "<table border=\"1\" class=\"dataframe\">\n",
       "  <thead>\n",
       "    <tr style=\"text-align: right;\">\n",
       "      <th></th>\n",
       "      <th>band</th>\n",
       "      <th>member</th>\n",
       "      <th>mbid</th>\n",
       "      <th>role</th>\n",
       "      <th>start</th>\n",
       "      <th>end</th>\n",
       "      <th>label</th>\n",
       "      <th>type</th>\n",
       "    </tr>\n",
       "  </thead>\n",
       "  <tbody>\n",
       "    <tr>\n",
       "      <th>0</th>\n",
       "      <td>The Beatles</td>\n",
       "      <td>Pete Best</td>\n",
       "      <td>0d4ab0f9-bbda-4ab1-ae2c-f772ffcfbea9</td>\n",
       "      <td>drums</td>\n",
       "      <td>1960</td>\n",
       "      <td>1962</td>\n",
       "      <td>Pete Best (drums)</td>\n",
       "      <td>blue</td>\n",
       "    </tr>\n",
       "    <tr>\n",
       "      <th>1</th>\n",
       "      <td>The Beatles</td>\n",
       "      <td>Paul McCartney</td>\n",
       "      <td>ba550d0e-adac-4864-b88b-407cab5e76af</td>\n",
       "      <td>lead vocals</td>\n",
       "      <td>1957</td>\n",
       "      <td>1970</td>\n",
       "      <td>Paul McCartney (lead vocals)</td>\n",
       "      <td>green</td>\n",
       "    </tr>\n",
       "    <tr>\n",
       "      <th>2</th>\n",
       "      <td>The Beatles</td>\n",
       "      <td>Paul McCartney</td>\n",
       "      <td>ba550d0e-adac-4864-b88b-407cab5e76af</td>\n",
       "      <td>bass guitar</td>\n",
       "      <td>1957</td>\n",
       "      <td>1970</td>\n",
       "      <td>Paul McCartney (bass guitar)</td>\n",
       "      <td>red</td>\n",
       "    </tr>\n",
       "    <tr>\n",
       "      <th>3</th>\n",
       "      <td>The Beatles</td>\n",
       "      <td>Ringo Starr</td>\n",
       "      <td>300c4c73-33ac-4255-9d57-4e32627f5e13</td>\n",
       "      <td>drums</td>\n",
       "      <td>1962</td>\n",
       "      <td>1970</td>\n",
       "      <td>Ringo Starr (drums)</td>\n",
       "      <td>blue</td>\n",
       "    </tr>\n",
       "    <tr>\n",
       "      <th>4</th>\n",
       "      <td>The Beatles</td>\n",
       "      <td>Stuart Sutcliffe</td>\n",
       "      <td>49a51491-650e-44b3-8085-2f07ac2986dd</td>\n",
       "      <td>bass guitar</td>\n",
       "      <td>1960</td>\n",
       "      <td>1962</td>\n",
       "      <td>Stuart Sutcliffe (bass guitar)</td>\n",
       "      <td>red</td>\n",
       "    </tr>\n",
       "    <tr>\n",
       "      <th>5</th>\n",
       "      <td>The Beatles</td>\n",
       "      <td>John Lennon</td>\n",
       "      <td>4d5447d7-c61c-4120-ba1b-d7f471d385b9</td>\n",
       "      <td>lead vocals</td>\n",
       "      <td>1957</td>\n",
       "      <td>1970</td>\n",
       "      <td>John Lennon (lead vocals)</td>\n",
       "      <td>green</td>\n",
       "    </tr>\n",
       "    <tr>\n",
       "      <th>6</th>\n",
       "      <td>The Beatles</td>\n",
       "      <td>John Lennon</td>\n",
       "      <td>4d5447d7-c61c-4120-ba1b-d7f471d385b9</td>\n",
       "      <td>guitar</td>\n",
       "      <td>1957</td>\n",
       "      <td>1970</td>\n",
       "      <td>John Lennon (guitar)</td>\n",
       "      <td>yellow</td>\n",
       "    </tr>\n",
       "    <tr>\n",
       "      <th>7</th>\n",
       "      <td>The Beatles</td>\n",
       "      <td>George Harrison</td>\n",
       "      <td>42a8f507-8412-4611-854f-926571049fa0</td>\n",
       "      <td>lead vocals</td>\n",
       "      <td>1958</td>\n",
       "      <td>1970</td>\n",
       "      <td>George Harrison (lead vocals)</td>\n",
       "      <td>green</td>\n",
       "    </tr>\n",
       "    <tr>\n",
       "      <th>8</th>\n",
       "      <td>The Beatles</td>\n",
       "      <td>George Harrison</td>\n",
       "      <td>42a8f507-8412-4611-854f-926571049fa0</td>\n",
       "      <td>guitar</td>\n",
       "      <td>1958</td>\n",
       "      <td>1970</td>\n",
       "      <td>George Harrison (guitar)</td>\n",
       "      <td>yellow</td>\n",
       "    </tr>\n",
       "  </tbody>\n",
       "</table>\n",
       "</div>"
      ],
      "text/plain": [
       "          band            member                                  mbid  \\\n",
       "0  The Beatles         Pete Best  0d4ab0f9-bbda-4ab1-ae2c-f772ffcfbea9   \n",
       "1  The Beatles    Paul McCartney  ba550d0e-adac-4864-b88b-407cab5e76af   \n",
       "2  The Beatles    Paul McCartney  ba550d0e-adac-4864-b88b-407cab5e76af   \n",
       "3  The Beatles       Ringo Starr  300c4c73-33ac-4255-9d57-4e32627f5e13   \n",
       "4  The Beatles  Stuart Sutcliffe  49a51491-650e-44b3-8085-2f07ac2986dd   \n",
       "5  The Beatles       John Lennon  4d5447d7-c61c-4120-ba1b-d7f471d385b9   \n",
       "6  The Beatles       John Lennon  4d5447d7-c61c-4120-ba1b-d7f471d385b9   \n",
       "7  The Beatles   George Harrison  42a8f507-8412-4611-854f-926571049fa0   \n",
       "8  The Beatles   George Harrison  42a8f507-8412-4611-854f-926571049fa0   \n",
       "\n",
       "          role start   end                           label    type  \n",
       "0        drums  1960  1962               Pete Best (drums)    blue  \n",
       "1  lead vocals  1957  1970    Paul McCartney (lead vocals)   green  \n",
       "2  bass guitar  1957  1970    Paul McCartney (bass guitar)     red  \n",
       "3        drums  1962  1970             Ringo Starr (drums)    blue  \n",
       "4  bass guitar  1960  1962  Stuart Sutcliffe (bass guitar)     red  \n",
       "5  lead vocals  1957  1970       John Lennon (lead vocals)   green  \n",
       "6       guitar  1957  1970            John Lennon (guitar)  yellow  \n",
       "7  lead vocals  1958  1970   George Harrison (lead vocals)   green  \n",
       "8       guitar  1958  1970        George Harrison (guitar)  yellow  "
      ]
     },
     "execution_count": 7,
     "metadata": {},
     "output_type": "execute_result"
    }
   ],
   "source": [
    "colors = dict(zip(sorted(set(ts['role'])), ['red', 'blue', 'yellow', 'green']))\n",
    "print('Correspondance between colors and roles: {}'.format(colors))\n",
    "ts['type'] = ts['role'].apply(lambda role: colors[role])\n",
    "ts"
   ]
  },
  {
   "cell_type": "markdown",
   "metadata": {},
   "source": [
    "We can also add a 'link' columns containing URLs to the MusicBrainz website:"
   ]
  },
  {
   "cell_type": "code",
   "execution_count": 8,
   "metadata": {
    "collapsed": false
   },
   "outputs": [
    {
     "data": {
      "text/html": [
       "<div>\n",
       "<table border=\"1\" class=\"dataframe\">\n",
       "  <thead>\n",
       "    <tr style=\"text-align: right;\">\n",
       "      <th></th>\n",
       "      <th>band</th>\n",
       "      <th>member</th>\n",
       "      <th>role</th>\n",
       "      <th>start</th>\n",
       "      <th>end</th>\n",
       "      <th>label</th>\n",
       "      <th>type</th>\n",
       "      <th>link</th>\n",
       "    </tr>\n",
       "  </thead>\n",
       "  <tbody>\n",
       "    <tr>\n",
       "      <th>0</th>\n",
       "      <td>The Beatles</td>\n",
       "      <td>Pete Best</td>\n",
       "      <td>drums</td>\n",
       "      <td>1960</td>\n",
       "      <td>1962</td>\n",
       "      <td>Pete Best (drums)</td>\n",
       "      <td>blue</td>\n",
       "      <td>https://musicbrainz.org/artist/0d4ab0f9-bbda-4...</td>\n",
       "    </tr>\n",
       "    <tr>\n",
       "      <th>1</th>\n",
       "      <td>The Beatles</td>\n",
       "      <td>Paul McCartney</td>\n",
       "      <td>lead vocals</td>\n",
       "      <td>1957</td>\n",
       "      <td>1970</td>\n",
       "      <td>Paul McCartney (lead vocals)</td>\n",
       "      <td>green</td>\n",
       "      <td>https://musicbrainz.org/artist/ba550d0e-adac-4...</td>\n",
       "    </tr>\n",
       "    <tr>\n",
       "      <th>2</th>\n",
       "      <td>The Beatles</td>\n",
       "      <td>Paul McCartney</td>\n",
       "      <td>bass guitar</td>\n",
       "      <td>1957</td>\n",
       "      <td>1970</td>\n",
       "      <td>Paul McCartney (bass guitar)</td>\n",
       "      <td>red</td>\n",
       "      <td>https://musicbrainz.org/artist/ba550d0e-adac-4...</td>\n",
       "    </tr>\n",
       "    <tr>\n",
       "      <th>3</th>\n",
       "      <td>The Beatles</td>\n",
       "      <td>Ringo Starr</td>\n",
       "      <td>drums</td>\n",
       "      <td>1962</td>\n",
       "      <td>1970</td>\n",
       "      <td>Ringo Starr (drums)</td>\n",
       "      <td>blue</td>\n",
       "      <td>https://musicbrainz.org/artist/300c4c73-33ac-4...</td>\n",
       "    </tr>\n",
       "    <tr>\n",
       "      <th>4</th>\n",
       "      <td>The Beatles</td>\n",
       "      <td>Stuart Sutcliffe</td>\n",
       "      <td>bass guitar</td>\n",
       "      <td>1960</td>\n",
       "      <td>1962</td>\n",
       "      <td>Stuart Sutcliffe (bass guitar)</td>\n",
       "      <td>red</td>\n",
       "      <td>https://musicbrainz.org/artist/49a51491-650e-4...</td>\n",
       "    </tr>\n",
       "    <tr>\n",
       "      <th>5</th>\n",
       "      <td>The Beatles</td>\n",
       "      <td>John Lennon</td>\n",
       "      <td>lead vocals</td>\n",
       "      <td>1957</td>\n",
       "      <td>1970</td>\n",
       "      <td>John Lennon (lead vocals)</td>\n",
       "      <td>green</td>\n",
       "      <td>https://musicbrainz.org/artist/4d5447d7-c61c-4...</td>\n",
       "    </tr>\n",
       "    <tr>\n",
       "      <th>6</th>\n",
       "      <td>The Beatles</td>\n",
       "      <td>John Lennon</td>\n",
       "      <td>guitar</td>\n",
       "      <td>1957</td>\n",
       "      <td>1970</td>\n",
       "      <td>John Lennon (guitar)</td>\n",
       "      <td>yellow</td>\n",
       "      <td>https://musicbrainz.org/artist/4d5447d7-c61c-4...</td>\n",
       "    </tr>\n",
       "    <tr>\n",
       "      <th>7</th>\n",
       "      <td>The Beatles</td>\n",
       "      <td>George Harrison</td>\n",
       "      <td>lead vocals</td>\n",
       "      <td>1958</td>\n",
       "      <td>1970</td>\n",
       "      <td>George Harrison (lead vocals)</td>\n",
       "      <td>green</td>\n",
       "      <td>https://musicbrainz.org/artist/42a8f507-8412-4...</td>\n",
       "    </tr>\n",
       "    <tr>\n",
       "      <th>8</th>\n",
       "      <td>The Beatles</td>\n",
       "      <td>George Harrison</td>\n",
       "      <td>guitar</td>\n",
       "      <td>1958</td>\n",
       "      <td>1970</td>\n",
       "      <td>George Harrison (guitar)</td>\n",
       "      <td>yellow</td>\n",
       "      <td>https://musicbrainz.org/artist/42a8f507-8412-4...</td>\n",
       "    </tr>\n",
       "  </tbody>\n",
       "</table>\n",
       "</div>"
      ],
      "text/plain": [
       "          band            member         role start   end  \\\n",
       "0  The Beatles         Pete Best        drums  1960  1962   \n",
       "1  The Beatles    Paul McCartney  lead vocals  1957  1970   \n",
       "2  The Beatles    Paul McCartney  bass guitar  1957  1970   \n",
       "3  The Beatles       Ringo Starr        drums  1962  1970   \n",
       "4  The Beatles  Stuart Sutcliffe  bass guitar  1960  1962   \n",
       "5  The Beatles       John Lennon  lead vocals  1957  1970   \n",
       "6  The Beatles       John Lennon       guitar  1957  1970   \n",
       "7  The Beatles   George Harrison  lead vocals  1958  1970   \n",
       "8  The Beatles   George Harrison       guitar  1958  1970   \n",
       "\n",
       "                            label    type  \\\n",
       "0               Pete Best (drums)    blue   \n",
       "1    Paul McCartney (lead vocals)   green   \n",
       "2    Paul McCartney (bass guitar)     red   \n",
       "3             Ringo Starr (drums)    blue   \n",
       "4  Stuart Sutcliffe (bass guitar)     red   \n",
       "5       John Lennon (lead vocals)   green   \n",
       "6            John Lennon (guitar)  yellow   \n",
       "7   George Harrison (lead vocals)   green   \n",
       "8        George Harrison (guitar)  yellow   \n",
       "\n",
       "                                                link  \n",
       "0  https://musicbrainz.org/artist/0d4ab0f9-bbda-4...  \n",
       "1  https://musicbrainz.org/artist/ba550d0e-adac-4...  \n",
       "2  https://musicbrainz.org/artist/ba550d0e-adac-4...  \n",
       "3  https://musicbrainz.org/artist/300c4c73-33ac-4...  \n",
       "4  https://musicbrainz.org/artist/49a51491-650e-4...  \n",
       "5  https://musicbrainz.org/artist/4d5447d7-c61c-4...  \n",
       "6  https://musicbrainz.org/artist/4d5447d7-c61c-4...  \n",
       "7  https://musicbrainz.org/artist/42a8f507-8412-4...  \n",
       "8  https://musicbrainz.org/artist/42a8f507-8412-4...  "
      ]
     },
     "execution_count": 8,
     "metadata": {},
     "output_type": "execute_result"
    }
   ],
   "source": [
    "ts['link'] = 'https://musicbrainz.org/artist/' + ts['mbid']\n",
    "ts.drop('mbid', axis=1, inplace=True)\n",
    "ts"
   ]
  },
  {
   "cell_type": "markdown",
   "metadata": {},
   "source": [
    "The last preparation step is to transform this Python data structure into a Javascript one that the timesheet library can read. We're going to use the fact that a Python list and a Javascript array are very close (we could also use JSON format to transform our data into smething JavaScript-compatible)."
   ]
  },
  {
   "cell_type": "code",
   "execution_count": 9,
   "metadata": {
    "collapsed": false
   },
   "outputs": [
    {
     "name": "stdout",
     "output_type": "stream",
     "text": [
      "First bubble:\n",
      "{'band': 'The Beatles',\n",
      " 'end': '1962',\n",
      " 'label': 'Pete Best (drums)',\n",
      " 'link': 'https://musicbrainz.org/artist/0d4ab0f9-bbda-4ab1-ae2c-f772ffcfbea9',\n",
      " 'member': 'Pete Best',\n",
      " 'role': 'drums',\n",
      " 'start': '1960',\n",
      " 'type': 'blue'}\n"
     ]
    }
   ],
   "source": [
    "bubbles = [ts.ix[i].to_dict() for i in range(len(ts))]\n",
    "print('First bubble:')\n",
    "pprint(bubbles[0])"
   ]
  },
  {
   "cell_type": "markdown",
   "metadata": {},
   "source": [
    "Perfect, *bubbles* contains our data. Time to do some javascript. The Jupyter notebook can display javascript code in an output cell by using the *element.append* magic."
   ]
  },
  {
   "cell_type": "markdown",
   "metadata": {},
   "source": [
    "To display the timeline inside this notebook we need to load the JS/CSS source of the timesheet-advanced package..."
   ]
  },
  {
   "cell_type": "code",
   "execution_count": 10,
   "metadata": {
    "collapsed": false
   },
   "outputs": [
    {
     "data": {
      "text/html": [
       "\n",
       "<link rel=\"stylesheet\" type=\"text/css\" href=\"./timesheet/timesheet.min.css\" />\n",
       "<script type=\"text/javascript\" src=\"./timesheet/timesheet-advanced.min.js\"></script>\n"
      ],
      "text/plain": [
       "<IPython.core.display.HTML object>"
      ]
     },
     "execution_count": 10,
     "metadata": {},
     "output_type": "execute_result"
    }
   ],
   "source": [
    "from IPython.display import HTML\n",
    "HTML(\"\"\"\n",
    "<link rel=\"stylesheet\" type=\"text/css\" href=\"./timesheet/timesheet.min.css\" />\n",
    "<script type=\"text/javascript\" src=\"./timesheet/timesheet-advanced.min.js\"></script>\n",
    "\"\"\")"
   ]
  },
  {
   "cell_type": "markdown",
   "metadata": {},
   "source": [
    "... and to create an output container for our timeline. This cell be filled when the next cell code (*new Timesheet(...)*) will be executed."
   ]
  },
  {
   "cell_type": "code",
   "execution_count": 11,
   "metadata": {
    "collapsed": false
   },
   "outputs": [
    {
     "data": {
      "application/javascript": [
       "// this must be executed before the \"from IPython.display import Javascript\" block\n",
       "element.append('<div id=\"timesheet-container\" style=\"width: 100%;height: 100%;\"></div>');"
      ],
      "text/plain": [
       "<IPython.core.display.Javascript object>"
      ]
     },
     "metadata": {},
     "output_type": "display_data"
    }
   ],
   "source": [
    "%%javascript\n",
    "// this must be executed before the \"from IPython.display import Javascript\" block\n",
    "element.append('<div id=\"timesheet-container\" style=\"width: 100%;height: 100%;\"></div>');"
   ]
  },
  {
   "cell_type": "markdown",
   "metadata": {},
   "source": [
    "Last step: we call the Timesheet javascript command using the CSS/JS libraries loaded above, our input data (*bubbles*), the cell where we want our graph, and the timeline limit (min and max date). Executing the next cell will fill the output cell just above this block automatically."
   ]
  },
  {
   "cell_type": "code",
   "execution_count": 12,
   "metadata": {
    "collapsed": false
   },
   "outputs": [
    {
     "data": {
      "application/javascript": [
       "\n",
       "var bubbles = [{'label': 'Pete Best (drums)', 'type': 'blue', 'end': '1962', 'role': 'drums', 'band': 'The Beatles', 'member': 'Pete Best', 'start': '1960', 'link': 'https://musicbrainz.org/artist/0d4ab0f9-bbda-4ab1-ae2c-f772ffcfbea9'}, {'label': 'Paul McCartney (lead vocals)', 'type': 'green', 'end': '1970', 'role': 'lead vocals', 'band': 'The Beatles', 'member': 'Paul McCartney', 'start': '1957', 'link': 'https://musicbrainz.org/artist/ba550d0e-adac-4864-b88b-407cab5e76af'}, {'label': 'Paul McCartney (bass guitar)', 'type': 'red', 'end': '1970', 'role': 'bass guitar', 'band': 'The Beatles', 'member': 'Paul McCartney', 'start': '1957', 'link': 'https://musicbrainz.org/artist/ba550d0e-adac-4864-b88b-407cab5e76af'}, {'label': 'Ringo Starr (drums)', 'type': 'blue', 'end': '1970', 'role': 'drums', 'band': 'The Beatles', 'member': 'Ringo Starr', 'start': '1962', 'link': 'https://musicbrainz.org/artist/300c4c73-33ac-4255-9d57-4e32627f5e13'}, {'label': 'Stuart Sutcliffe (bass guitar)', 'type': 'red', 'end': '1962', 'role': 'bass guitar', 'band': 'The Beatles', 'member': 'Stuart Sutcliffe', 'start': '1960', 'link': 'https://musicbrainz.org/artist/49a51491-650e-44b3-8085-2f07ac2986dd'}, {'label': 'John Lennon (lead vocals)', 'type': 'green', 'end': '1970', 'role': 'lead vocals', 'band': 'The Beatles', 'member': 'John Lennon', 'start': '1957', 'link': 'https://musicbrainz.org/artist/4d5447d7-c61c-4120-ba1b-d7f471d385b9'}, {'label': 'John Lennon (guitar)', 'type': 'yellow', 'end': '1970', 'role': 'guitar', 'band': 'The Beatles', 'member': 'John Lennon', 'start': '1957', 'link': 'https://musicbrainz.org/artist/4d5447d7-c61c-4120-ba1b-d7f471d385b9'}, {'label': 'George Harrison (lead vocals)', 'type': 'green', 'end': '1970', 'role': 'lead vocals', 'band': 'The Beatles', 'member': 'George Harrison', 'start': '1958', 'link': 'https://musicbrainz.org/artist/42a8f507-8412-4611-854f-926571049fa0'}, {'label': 'George Harrison (guitar)', 'type': 'yellow', 'end': '1970', 'role': 'guitar', 'band': 'The Beatles', 'member': 'George Harrison', 'start': '1958', 'link': 'https://musicbrainz.org/artist/42a8f507-8412-4611-854f-926571049fa0'}];\n",
       "new Timesheet(bubbles, {\n",
       "    container: 'timesheet-container',\n",
       "    type: 'parallel',\n",
       "    timesheetYearMin: 1957,\n",
       "    timesheetYearMax: 1970,\n",
       "    theme: 'light'\n",
       "});\n"
      ],
      "text/plain": [
       "<IPython.core.display.Javascript object>"
      ]
     },
     "execution_count": 12,
     "metadata": {},
     "output_type": "execute_result"
    }
   ],
   "source": [
    "from IPython.display import Javascript\n",
    "\n",
    "Javascript(\"\"\"\n",
    "var bubbles = %s;\n",
    "new Timesheet(bubbles, {\n",
    "    container: 'timesheet-container',\n",
    "    type: 'parallel',\n",
    "    timesheetYearMin: %s,\n",
    "    timesheetYearMax: %s,\n",
    "    theme: 'light'\n",
    "});\n",
    "\"\"\" % (bubbles, ts['start'].min(), ts['end'].max()))"
   ]
  },
  {
   "cell_type": "markdown",
   "metadata": {},
   "source": [
    "We have our timeline now! As you can see, the same color is used for the same role consistently. The items on the timeline are clickable links bringing you to the artist page on MusicBrainz. If you can't see the timeline above you can find a [static version on github.io](https://loujine.github.io/musicbrainz-dataviz/1-timelines.html)"
   ]
  },
  {
   "cell_type": "markdown",
   "metadata": {},
   "source": [
    "## Display a timeline with vis.js"
   ]
  },
  {
   "cell_type": "markdown",
   "metadata": {},
   "source": [
    "We can try to display the same data with another JavaScript library, vis.js. Again we will need to prepare the data."
   ]
  },
  {
   "cell_type": "code",
   "execution_count": 13,
   "metadata": {
    "collapsed": false
   },
   "outputs": [
    {
     "data": {
      "text/html": [
       "<div>\n",
       "<table border=\"1\" class=\"dataframe\">\n",
       "  <thead>\n",
       "    <tr style=\"text-align: right;\">\n",
       "      <th></th>\n",
       "      <th>band</th>\n",
       "      <th>member</th>\n",
       "      <th>role</th>\n",
       "      <th>start</th>\n",
       "      <th>end</th>\n",
       "      <th>type</th>\n",
       "      <th>label</th>\n",
       "    </tr>\n",
       "  </thead>\n",
       "  <tbody>\n",
       "    <tr>\n",
       "      <th>0</th>\n",
       "      <td>The Beatles</td>\n",
       "      <td>Pete Best</td>\n",
       "      <td>drums</td>\n",
       "      <td>1960-01-01</td>\n",
       "      <td>1962-01-01</td>\n",
       "      <td>blue</td>\n",
       "      <td>Pete Best (drums)</td>\n",
       "    </tr>\n",
       "    <tr>\n",
       "      <th>1</th>\n",
       "      <td>The Beatles</td>\n",
       "      <td>Paul McCartney</td>\n",
       "      <td>lead vocals</td>\n",
       "      <td>1957-01-01</td>\n",
       "      <td>1970-01-01</td>\n",
       "      <td>green</td>\n",
       "      <td>Paul McCartney (lead vocals)</td>\n",
       "    </tr>\n",
       "    <tr>\n",
       "      <th>2</th>\n",
       "      <td>The Beatles</td>\n",
       "      <td>Paul McCartney</td>\n",
       "      <td>bass guitar</td>\n",
       "      <td>1957-01-01</td>\n",
       "      <td>1970-01-01</td>\n",
       "      <td>red</td>\n",
       "      <td>Paul McCartney (bass guitar)</td>\n",
       "    </tr>\n",
       "    <tr>\n",
       "      <th>3</th>\n",
       "      <td>The Beatles</td>\n",
       "      <td>Ringo Starr</td>\n",
       "      <td>drums</td>\n",
       "      <td>1962-01-01</td>\n",
       "      <td>1970-01-01</td>\n",
       "      <td>blue</td>\n",
       "      <td>Ringo Starr (drums)</td>\n",
       "    </tr>\n",
       "    <tr>\n",
       "      <th>4</th>\n",
       "      <td>The Beatles</td>\n",
       "      <td>Stuart Sutcliffe</td>\n",
       "      <td>bass guitar</td>\n",
       "      <td>1960-01-01</td>\n",
       "      <td>1962-01-01</td>\n",
       "      <td>red</td>\n",
       "      <td>Stuart Sutcliffe (bass guitar)</td>\n",
       "    </tr>\n",
       "    <tr>\n",
       "      <th>5</th>\n",
       "      <td>The Beatles</td>\n",
       "      <td>John Lennon</td>\n",
       "      <td>lead vocals</td>\n",
       "      <td>1957-01-01</td>\n",
       "      <td>1970-01-01</td>\n",
       "      <td>green</td>\n",
       "      <td>John Lennon (lead vocals)</td>\n",
       "    </tr>\n",
       "    <tr>\n",
       "      <th>6</th>\n",
       "      <td>The Beatles</td>\n",
       "      <td>John Lennon</td>\n",
       "      <td>guitar</td>\n",
       "      <td>1957-01-01</td>\n",
       "      <td>1970-01-01</td>\n",
       "      <td>yellow</td>\n",
       "      <td>John Lennon (guitar)</td>\n",
       "    </tr>\n",
       "    <tr>\n",
       "      <th>7</th>\n",
       "      <td>The Beatles</td>\n",
       "      <td>George Harrison</td>\n",
       "      <td>lead vocals</td>\n",
       "      <td>1958-01-01</td>\n",
       "      <td>1970-01-01</td>\n",
       "      <td>green</td>\n",
       "      <td>George Harrison (lead vocals)</td>\n",
       "    </tr>\n",
       "    <tr>\n",
       "      <th>8</th>\n",
       "      <td>The Beatles</td>\n",
       "      <td>George Harrison</td>\n",
       "      <td>guitar</td>\n",
       "      <td>1958-01-01</td>\n",
       "      <td>1970-01-01</td>\n",
       "      <td>yellow</td>\n",
       "      <td>George Harrison (guitar)</td>\n",
       "    </tr>\n",
       "  </tbody>\n",
       "</table>\n",
       "</div>"
      ],
      "text/plain": [
       "          band            member         role       start         end    type  \\\n",
       "0  The Beatles         Pete Best        drums  1960-01-01  1962-01-01    blue   \n",
       "1  The Beatles    Paul McCartney  lead vocals  1957-01-01  1970-01-01   green   \n",
       "2  The Beatles    Paul McCartney  bass guitar  1957-01-01  1970-01-01     red   \n",
       "3  The Beatles       Ringo Starr        drums  1962-01-01  1970-01-01    blue   \n",
       "4  The Beatles  Stuart Sutcliffe  bass guitar  1960-01-01  1962-01-01     red   \n",
       "5  The Beatles       John Lennon  lead vocals  1957-01-01  1970-01-01   green   \n",
       "6  The Beatles       John Lennon       guitar  1957-01-01  1970-01-01  yellow   \n",
       "7  The Beatles   George Harrison  lead vocals  1958-01-01  1970-01-01   green   \n",
       "8  The Beatles   George Harrison       guitar  1958-01-01  1970-01-01  yellow   \n",
       "\n",
       "                            label  \n",
       "0               Pete Best (drums)  \n",
       "1    Paul McCartney (lead vocals)  \n",
       "2    Paul McCartney (bass guitar)  \n",
       "3             Ringo Starr (drums)  \n",
       "4  Stuart Sutcliffe (bass guitar)  \n",
       "5       John Lennon (lead vocals)  \n",
       "6            John Lennon (guitar)  \n",
       "7   George Harrison (lead vocals)  \n",
       "8        George Harrison (guitar)  "
      ]
     },
     "execution_count": 13,
     "metadata": {},
     "output_type": "execute_result"
    }
   ],
   "source": [
    "v = df.copy()\n",
    "v['start'] = v['start'].apply(lambda date: date.isoformat())\n",
    "v['end'] = v['end'].apply(lambda date: date.isoformat())\n",
    "v.drop('mbid', axis=1, inplace=True)\n",
    "v['type'] = v['role'].apply(lambda role: colors[role])\n",
    "v['label'] = v['member'] + ' (' + v['role'] + ')'\n",
    "v"
   ]
  },
  {
   "cell_type": "markdown",
   "metadata": {},
   "source": [
    "This time we are not going to inject the data inside a javascript string executed by the notebook, we are going to attach the data as JSON to the webpage itself (*window*) so that vis.js can find it."
   ]
  },
  {
   "cell_type": "code",
   "execution_count": 14,
   "metadata": {
    "collapsed": false
   },
   "outputs": [
    {
     "data": {
      "application/javascript": [
       "window.bandData=[\n",
       "    {\n",
       "        \"content\": \"Pete Best (drums)\",\n",
       "        \"className\": \"blue\",\n",
       "        \"end\": \"1962\",\n",
       "        \"start\": \"1960\"\n",
       "    },\n",
       "    {\n",
       "        \"content\": \"Paul McCartney (lead vocals)\",\n",
       "        \"className\": \"green\",\n",
       "        \"end\": \"1970\",\n",
       "        \"start\": \"1957\"\n",
       "    },\n",
       "    {\n",
       "        \"content\": \"Paul McCartney (bass guitar)\",\n",
       "        \"className\": \"red\",\n",
       "        \"end\": \"1970\",\n",
       "        \"start\": \"1957\"\n",
       "    },\n",
       "    {\n",
       "        \"content\": \"Ringo Starr (drums)\",\n",
       "        \"className\": \"blue\",\n",
       "        \"end\": \"1970\",\n",
       "        \"start\": \"1962\"\n",
       "    },\n",
       "    {\n",
       "        \"content\": \"Stuart Sutcliffe (bass guitar)\",\n",
       "        \"className\": \"red\",\n",
       "        \"end\": \"1962\",\n",
       "        \"start\": \"1960\"\n",
       "    },\n",
       "    {\n",
       "        \"content\": \"John Lennon (lead vocals)\",\n",
       "        \"className\": \"green\",\n",
       "        \"end\": \"1970\",\n",
       "        \"start\": \"1957\"\n",
       "    },\n",
       "    {\n",
       "        \"content\": \"John Lennon (guitar)\",\n",
       "        \"className\": \"yellow\",\n",
       "        \"end\": \"1970\",\n",
       "        \"start\": \"1957\"\n",
       "    },\n",
       "    {\n",
       "        \"content\": \"George Harrison (lead vocals)\",\n",
       "        \"className\": \"green\",\n",
       "        \"end\": \"1970\",\n",
       "        \"start\": \"1958\"\n",
       "    },\n",
       "    {\n",
       "        \"content\": \"George Harrison (guitar)\",\n",
       "        \"className\": \"yellow\",\n",
       "        \"end\": \"1970\",\n",
       "        \"start\": \"1958\"\n",
       "    }\n",
       "];"
      ],
      "text/plain": [
       "<IPython.core.display.Javascript object>"
      ]
     },
     "execution_count": 14,
     "metadata": {},
     "output_type": "execute_result"
    }
   ],
   "source": [
    "# Transform into JSON\n",
    "data = [{'start': line.start,\n",
    "         'end': line.end,\n",
    "         'content': line.label,\n",
    "         'className': line.type\n",
    "        } for _, line in ts.iterrows()]\n",
    "\n",
    "# Send to Javascript\n",
    "import json\n",
    "from IPython.display import Javascript\n",
    "Javascript(\"\"\"window.bandData={};\"\"\".format(json.dumps(data, indent=4)))"
   ]
  },
  {
   "cell_type": "markdown",
   "metadata": {},
   "source": [
    "We need to load the default CSS (from cdnjs.cloudflare.com) and add our custom CSS on top:"
   ]
  },
  {
   "cell_type": "code",
   "execution_count": 15,
   "metadata": {
    "collapsed": false
   },
   "outputs": [
    {
     "data": {
      "text/html": [
       "<link rel=\"stylesheet\" type=\"text/css\" href=\"https://cdnjs.cloudflare.com/ajax/libs/vis/4.20.1/vis-timeline-graph2d.min.css\" />"
      ],
      "text/plain": [
       "<IPython.core.display.HTML object>"
      ]
     },
     "metadata": {},
     "output_type": "display_data"
    }
   ],
   "source": [
    "%%html\n",
    "<link rel=\"stylesheet\" type=\"text/css\" href=\"https://cdnjs.cloudflare.com/ajax/libs/vis/4.20.1/vis-timeline-graph2d.min.css\" />"
   ]
  },
  {
   "cell_type": "code",
   "execution_count": 16,
   "metadata": {
    "collapsed": false
   },
   "outputs": [
    {
     "data": {
      "text/html": [
       "<style type=\"text/css\">\n",
       "    /* custom styles for individual items, load this after vis.css/vis-timeline-graph2d.min.css */\n",
       "    .vis-item.red {\n",
       "      background-color: red;\n",
       "    }\n",
       "    .vis-item.blue {\n",
       "      background-color: blue;\n",
       "    }\n",
       "    .vis-item.yellow {\n",
       "      background-color: yellow;\n",
       "    }\n",
       "    .vis-item.green {\n",
       "      background-color: greenyellow;\n",
       "    }\n",
       "    .vis-item.vis-selected {\n",
       "      background-color: white;\n",
       "      border-color: black;\n",
       "      color: black;\n",
       "      box-shadow: 0 0 10px gray;\n",
       "    }\n",
       "</style>"
      ],
      "text/plain": [
       "<IPython.core.display.HTML object>"
      ]
     },
     "metadata": {},
     "output_type": "display_data"
    }
   ],
   "source": [
    "%%html\n",
    "<style type=\"text/css\">\n",
    "    /* custom styles for individual items, load this after vis.css/vis-timeline-graph2d.min.css */\n",
    "    .vis-item.red {\n",
    "      background-color: red;\n",
    "    }\n",
    "    .vis-item.blue {\n",
    "      background-color: blue;\n",
    "    }\n",
    "    .vis-item.yellow {\n",
    "      background-color: yellow;\n",
    "    }\n",
    "    .vis-item.green {\n",
    "      background-color: greenyellow;\n",
    "    }\n",
    "    .vis-item.vis-selected {\n",
    "      background-color: white;\n",
    "      border-color: black;\n",
    "      color: black;\n",
    "      box-shadow: 0 0 10px gray;\n",
    "    }\n",
    "</style>"
   ]
  },
  {
   "cell_type": "markdown",
   "metadata": {},
   "source": [
    "In order to load the JS library itself, we can use the *require* mechanism inside the notebook:"
   ]
  },
  {
   "cell_type": "code",
   "execution_count": 17,
   "metadata": {
    "collapsed": false,
    "scrolled": true
   },
   "outputs": [
    {
     "data": {
      "application/javascript": [
       "element.append('<div id=\"vis-container\" style=\"width: 100%;height: 100%;\"></div>');\n",
       "\n",
       "requirejs.config({\n",
       "    paths: {\n",
       "        vis: '//cdnjs.cloudflare.com/ajax/libs/vis/4.20.1/vis'\n",
       "    }\n",
       "});\n",
       "\n",
       "require(['vis'], function(vis){\n",
       "  var data = new vis.DataSet(window.bandData);\n",
       "  var options = {\n",
       "    editable: false\n",
       "  };\n",
       "  // create the timeline\n",
       "  var container = document.getElementById('vis-container');\n",
       "  var timeline = new vis.Timeline(container, data, options);\n",
       "})"
      ],
      "text/plain": [
       "<IPython.core.display.Javascript object>"
      ]
     },
     "metadata": {},
     "output_type": "display_data"
    }
   ],
   "source": [
    "%%javascript\n",
    "element.append('<div id=\"vis-container\" style=\"width: 100%;height: 100%;\"></div>');\n",
    "\n",
    "requirejs.config({\n",
    "    paths: {\n",
    "        vis: '//cdnjs.cloudflare.com/ajax/libs/vis/4.20.1/vis'\n",
    "    }\n",
    "});\n",
    "\n",
    "require(['vis'], function(vis){\n",
    "  var data = new vis.DataSet(window.bandData);\n",
    "  var options = {\n",
    "    editable: false\n",
    "  };\n",
    "  // create the timeline\n",
    "  var container = document.getElementById('vis-container');\n",
    "  var timeline = new vis.Timeline(container, data, options);\n",
    "})"
   ]
  },
  {
   "cell_type": "markdown",
   "metadata": {},
   "source": [
    "And we have our timeline. Note that this time we can zoom/unzoom (with the mouse wheel) thanks to the vis.js library. You can also change the custom CSS above and see the timeline updated automatically."
   ]
  },
  {
   "cell_type": "markdown",
   "metadata": {},
   "source": [
    "## Conclusion"
   ]
  },
  {
   "cell_type": "markdown",
   "metadata": {},
   "source": [
    "In this notebook we used two different JS libraries to display the same data, extracted from the MusicBrainz DB. I hope I did not make things look too complicated and I convinced some of you to try and play with the MusicBrainz database :)"
   ]
  }
 ],
 "metadata": {
  "kernelspec": {
   "display_name": "Python 3",
   "language": "python",
   "name": "python3"
  },
  "language_info": {
   "codemirror_mode": {
    "name": "ipython",
    "version": 3
   },
   "file_extension": ".py",
   "mimetype": "text/x-python",
   "name": "python",
   "nbconvert_exporter": "python",
   "pygments_lexer": "ipython3",
   "version": "3.5.3"
  }
 },
 "nbformat": 4,
 "nbformat_minor": 2
}
