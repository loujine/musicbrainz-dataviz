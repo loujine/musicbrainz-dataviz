{
 "cells": [
  {
   "cell_type": "markdown",
   "metadata": {},
   "source": [
    "# Discogs alignment"
   ]
  },
  {
   "cell_type": "markdown",
   "metadata": {},
   "source": [
    "List of concert halls: https://www.discogs.com/lists/concert-halls-and-other-venues_0-9/141428\n",
    "List of studios: https://www.discogs.com/help/forums/topic/277190\n",
    "List of churches: https://www.discogs.com/lists/Churches/261273?page=123\n",
    "discogs API: https://www.discogs.com/developers/\n",
    "\n",
    "example: \n",
    "https://www.discogs.com/label/280422-Jesus-Christus-Kirche-Berlin"
   ]
  },
  {
   "cell_type": "markdown",
   "metadata": {},
   "source": [
    "## XML dump"
   ]
  },
  {
   "cell_type": "markdown",
   "metadata": {},
   "source": [
    "https://data.discogs.com/?prefix=data/2018/"
   ]
  },
  {
   "cell_type": "code",
   "execution_count": 1,
   "metadata": {},
   "outputs": [
    {
     "name": "stdout",
     "output_type": "stream",
     "text": [
      "Jesus-Christus-Kirche, Berlin\n",
      "280422\n",
      "Also refered to as Jesus-Christus-Kirche, Jesus Christuskirche Berlin, Berlin-Dahlem or Jesus-Christus-Kirche, Dahlem.\n",
      "Hittorfstraße 23\n",
      "14195 Berlin\n",
      "Germany\n",
      "\n",
      "Disponent Horst Langheinrich: klangh@gmx.de\n",
      "Tel.: 0171 60 53 248 \n",
      "Tel.: 831 45 08\n",
      "Fax: 83 22 94 93\n",
      "\n",
      "Correct\n",
      "http://de.wikipedia.org/wiki/Jesus-Christus-Kirche_Dahlem\n"
     ]
    }
   ],
   "source": [
    "import xml.etree.cElementTree as ET # better for files > 1Gb\n",
    "#import lxml.etree as ET\n",
    "\n",
    "parser = ET.iterparse('./discogs_20180401_labels.xml')\n",
    "\n",
    "for _, item in parser:\n",
    "    if item.tag != 'label':\n",
    "        continue\n",
    "    # print()\n",
    "    # print(item.text)\n",
    "    # print(item.items())\n",
    "    # print(item.getchildren())\n",
    "    # if item.find('id') is not None:\n",
    "    #     print(item.find('id').text)\n",
    "    # if item.find('name') is not None:\n",
    "    #     print(item.find('name').text)\n",
    "    if item.find('name') is not None and 'Jesus-Christus' in item.find('name').text:\n",
    "        place = item\n",
    "        print(item.find('name').text)\n",
    "        print(item.find('id').text)\n",
    "        print(item.find('profile').text)\n",
    "        print(item.find('contactinfo').text)\n",
    "        print(item.find('data_quality').text)\n",
    "        print(item.find('urls').find('url').text)"
   ]
  },
  {
   "cell_type": "markdown",
   "metadata": {},
   "source": [
    "## XML to JSON"
   ]
  },
  {
   "cell_type": "code",
   "execution_count": null,
   "metadata": {},
   "outputs": [],
   "source": [
    "# discogs-xml2db\n",
    "!./discogsparser.py ./discogs_201804018_artists.xml -n 1000 -o json > artists.json"
   ]
  },
  {
   "cell_type": "code",
   "execution_count": 1,
   "metadata": {},
   "outputs": [],
   "source": [
    "import json\n",
    "import requests"
   ]
  },
  {
   "cell_type": "code",
   "execution_count": 26,
   "metadata": {},
   "outputs": [],
   "source": [
    "def parse(artist, url):\n",
    "    wiki = 'https://www.wikidata.org/w/api.php?action=wbgetentities&sites=enwiki&format=json&titles={}'\n",
    "    resp = requests.get(wiki.format(url.split('/')[-1]))\n",
    "    claims = list(resp.json()['entities'].values())[0].get('claims')\n",
    "    if not claims:\n",
    "        return\n",
    "    for mblink in claims.get('P434', []):\n",
    "        mbid = mblink['mainsnak']['datavalue']['value']\n",
    "        mb_url = 'https://musicbrainz.org/ws/2/artist/{}?fmt=json&inc=url-rels'\n",
    "        resp = requests.get(mb_url.format(mbid))\n",
    "        mbrels = resp.json().get('relations', [])\n",
    "        mbrels = filter(lambda rel: rel['type'] == 'discogs', mbrels)\n",
    "        if mbrels:\n",
    "            print(\"Two-ways relation found\", artist['id'], mbid)\n",
    "        else:\n",
    "            print(\"One-way relation found\", artist['id'], mbid)"
   ]
  },
  {
   "cell_type": "code",
   "execution_count": 31,
   "metadata": {},
   "outputs": [
    {
     "name": "stdout",
     "output_type": "stream",
     "text": [
      "Two-ways relation found 1046 3fff189a-1113-4006-b5a1-31382bd16bc2\n",
      "Two-ways relation found 1049 092ca127-2e07-4cbd-9cba-e412b4ddddd9\n",
      "Two-ways relation found 1060 2b340ddd-1c54-407d-a62d-7b14b294378b\n",
      "Two-ways relation found 1060 2b340ddd-1c54-407d-a62d-7b14b294378b\n",
      "Two-ways relation found 1091 d430311e-c619-4a29-bacf-049ef02f2998\n",
      "Two-ways relation found 1094 17d69e72-9cf2-496f-aa64-ba238de2087e\n",
      "Two-ways relation found 1094 a703b91d-aadc-4021-8b61-05cfc134614f\n",
      "Two-ways relation found 1096 3d05eb8b-1644-4143-9a61-b28e33c4d85f\n",
      "Two-ways relation found 1100 09039d5e-335c-4c08-9474-a83d1b838f23\n",
      "Two-ways relation found 1102 e569aee8-33ff-48e5-b0ed-4ceba1a37714\n",
      "Two-ways relation found 1102 a110acfe-212d-44b2-b729-18f0f94ce47e\n",
      "Two-ways relation found 1102 57dd6359-f4ef-422a-9566-b8f54a0904fe\n"
     ]
    }
   ],
   "source": [
    "with open('../discogs/artists.json') as fd:\n",
    "    for line in fd:\n",
    "        if line.startswith('Parsed'):\n",
    "            continue\n",
    "        artist = json.loads(line.strip())\n",
    "        for url in artist['urls']:\n",
    "            if 'wikipedia' in url:\n",
    "                parse(artist, url)"
   ]
  },
  {
   "cell_type": "markdown",
   "metadata": {},
   "source": [
    "https://api.discogs.com/artists/95544"
   ]
  }
 ],
 "metadata": {
  "kernelspec": {
   "display_name": "Python 3",
   "language": "python",
   "name": "python3"
  },
  "language_info": {
   "codemirror_mode": {
    "name": "ipython",
    "version": 3
   },
   "file_extension": ".py",
   "mimetype": "text/x-python",
   "name": "python",
   "nbconvert_exporter": "python",
   "pygments_lexer": "ipython3",
   "version": "3.8.5"
  }
 },
 "nbformat": 4,
 "nbformat_minor": 2
}
