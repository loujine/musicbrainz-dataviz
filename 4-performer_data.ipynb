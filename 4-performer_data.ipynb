{
 "cells": [
  {
   "cell_type": "markdown",
   "metadata": {},
   "source": [
    "# Visualizing MusicBrainz data related to a performer"
   ]
  },
  {
   "cell_type": "code",
   "execution_count": 1,
   "metadata": {
    "collapsed": true
   },
   "outputs": [],
   "source": [
    "%matplotlib inline\n",
    "import pandas\n",
    "import sqlalchemy\n",
    "# define DB\n",
    "PGHOST = \"192.168.11.3\"\n",
    "PGDATABASE = \"musicbrainz_db\"\n",
    "PGUSER = \"musicbrainz\"\n",
    "PGPASSWORD = \"musicbrainz\"\n",
    "\n",
    "engine = sqlalchemy.create_engine(\n",
    "   'postgresql+psycopg2://{PGUSER}:{PGPASSWORD}@{PGHOST}/{PGDATABASE}'.format(**locals()),\n",
    "    isolation_level='READ UNCOMMITTED')\n",
    "\n",
    "# helper function\n",
    "def sql(query, **kwargs):\n",
    "    return pandas.read_sql(query, engine, params=globals(), **kwargs)"
   ]
  },
  {
   "cell_type": "markdown",
   "metadata": {},
   "source": [
    "## To be continued\n",
    "\n",
    "Questions to answer:\n",
    "\n",
    "* how many recordings were recorded by this performer?\n",
    "* which are the \"favorite\" (most recorded) works? and composers?\n",
    "* which century/period/area works?\n",
    "\n",
    "Plots to show:\n",
    "\n",
    "* plot recordings by date\n",
    "* plot recordings by place/area"
   ]
  }
 ],
 "metadata": {
  "kernelspec": {
   "display_name": "Python 3",
   "language": "python",
   "name": "python3"
  },
  "language_info": {
   "codemirror_mode": {
    "name": "ipython",
    "version": 3
   },
   "file_extension": ".py",
   "mimetype": "text/x-python",
   "name": "python",
   "nbconvert_exporter": "python",
   "pygments_lexer": "ipython3",
   "version": "3.5.3"
  }
 },
 "nbformat": 4,
 "nbformat_minor": 2
}
